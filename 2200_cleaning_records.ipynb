{
 "cells": [
  {
   "cell_type": "markdown",
   "metadata": {},
   "source": [
    "# Cleaning Records"
   ]
  },
  {
   "cell_type": "code",
   "execution_count": 1,
   "metadata": {},
   "outputs": [],
   "source": [
    "import pandas as pd\n",
    "import matplotlib.pyplot as plt\n",
    "%matplotlib inline\n",
    "\n",
    "import numpy as np\n",
    "import html5lib\n",
    "\n",
    "import requests \n",
    "from bs4 import BeautifulSoup\n",
    "import urllib\n",
    "import time"
   ]
  },
  {
   "cell_type": "markdown",
   "metadata": {},
   "source": [
    "Read in the fully merged csv"
   ]
  },
  {
   "cell_type": "code",
   "execution_count": 2,
   "metadata": {},
   "outputs": [],
   "source": [
    "main = pd.read_csv(\"merged.csv\")"
   ]
  },
  {
   "cell_type": "code",
   "execution_count": 3,
   "metadata": {},
   "outputs": [
    {
     "data": {
      "text/html": [
       "<div>\n",
       "<style scoped>\n",
       "    .dataframe tbody tr th:only-of-type {\n",
       "        vertical-align: middle;\n",
       "    }\n",
       "\n",
       "    .dataframe tbody tr th {\n",
       "        vertical-align: top;\n",
       "    }\n",
       "\n",
       "    .dataframe thead th {\n",
       "        text-align: right;\n",
       "    }\n",
       "</style>\n",
       "<table border=\"1\" class=\"dataframe\">\n",
       "  <thead>\n",
       "    <tr style=\"text-align: right;\">\n",
       "      <th></th>\n",
       "      <th>Name</th>\n",
       "      <th>Age</th>\n",
       "      <th>Ht.</th>\n",
       "      <th>Nickname</th>\n",
       "      <th>Endeavor record</th>\n",
       "      <th>MMA record</th>\n",
       "      <th>Weight Class</th>\n",
       "      <th>Weight Class Index</th>\n",
       "      <th>Overall Wins</th>\n",
       "      <th>Overall Losses</th>\n",
       "      <th>...</th>\n",
       "      <th>take_d</th>\n",
       "      <th>kd_rat</th>\n",
       "      <th>av_time</th>\n",
       "      <th>stand_stk</th>\n",
       "      <th>clinch_stk</th>\n",
       "      <th>grnd_stk</th>\n",
       "      <th>Rank</th>\n",
       "      <th>Reign(total)</th>\n",
       "      <th>Defenses</th>\n",
       "      <th>ex_champ</th>\n",
       "    </tr>\n",
       "  </thead>\n",
       "  <tbody>\n",
       "    <tr>\n",
       "      <th>0</th>\n",
       "      <td>Andrei Arlovski</td>\n",
       "      <td>40</td>\n",
       "      <td>75.1967</td>\n",
       "      <td>The Pit Bull</td>\n",
       "      <td>16 12 (1 NC)</td>\n",
       "      <td>27 18 (2 NC)</td>\n",
       "      <td>Heavyweight</td>\n",
       "      <td>0</td>\n",
       "      <td>27</td>\n",
       "      <td>18</td>\n",
       "      <td>...</td>\n",
       "      <td>79.0</td>\n",
       "      <td>0.62</td>\n",
       "      <td>08:41</td>\n",
       "      <td>571.0</td>\n",
       "      <td>137.0</td>\n",
       "      <td>41.0</td>\n",
       "      <td>15.0</td>\n",
       "      <td>0</td>\n",
       "      <td>1.0</td>\n",
       "      <td>True</td>\n",
       "    </tr>\n",
       "    <tr>\n",
       "      <th>1</th>\n",
       "      <td>Andrei Arlovski</td>\n",
       "      <td>40</td>\n",
       "      <td>75.1967</td>\n",
       "      <td>The Pit Bull</td>\n",
       "      <td>16 12 (1 NC)</td>\n",
       "      <td>27 18 (2 NC)</td>\n",
       "      <td>Heavyweight</td>\n",
       "      <td>0</td>\n",
       "      <td>27</td>\n",
       "      <td>18</td>\n",
       "      <td>...</td>\n",
       "      <td>79.0</td>\n",
       "      <td>0.62</td>\n",
       "      <td>08:41</td>\n",
       "      <td>571.0</td>\n",
       "      <td>137.0</td>\n",
       "      <td>41.0</td>\n",
       "      <td>15.0</td>\n",
       "      <td>246</td>\n",
       "      <td>1.0</td>\n",
       "      <td>True</td>\n",
       "    </tr>\n",
       "    <tr>\n",
       "      <th>2</th>\n",
       "      <td>Alistair Overeem</td>\n",
       "      <td>38</td>\n",
       "      <td>77.1652</td>\n",
       "      <td>The Reem</td>\n",
       "      <td>11 6</td>\n",
       "      <td>45 17 (1 NC)</td>\n",
       "      <td>Heavyweight</td>\n",
       "      <td>0</td>\n",
       "      <td>45</td>\n",
       "      <td>17</td>\n",
       "      <td>...</td>\n",
       "      <td>73.0</td>\n",
       "      <td>1.00</td>\n",
       "      <td>07:58</td>\n",
       "      <td>218.0</td>\n",
       "      <td>106.0</td>\n",
       "      <td>118.0</td>\n",
       "      <td>7.0</td>\n",
       "      <td>NaN</td>\n",
       "      <td>NaN</td>\n",
       "      <td>False</td>\n",
       "    </tr>\n",
       "    <tr>\n",
       "      <th>3</th>\n",
       "      <td>Cain Velasquez</td>\n",
       "      <td>36</td>\n",
       "      <td>72.8345</td>\n",
       "      <td>NaN</td>\n",
       "      <td>12 3</td>\n",
       "      <td>14 3</td>\n",
       "      <td>Heavyweight</td>\n",
       "      <td>0</td>\n",
       "      <td>14</td>\n",
       "      <td>3</td>\n",
       "      <td>...</td>\n",
       "      <td>86.0</td>\n",
       "      <td>1.35</td>\n",
       "      <td>07:24</td>\n",
       "      <td>260.0</td>\n",
       "      <td>195.0</td>\n",
       "      <td>264.0</td>\n",
       "      <td>8.0</td>\n",
       "      <td>385</td>\n",
       "      <td>0.0</td>\n",
       "      <td>True</td>\n",
       "    </tr>\n",
       "    <tr>\n",
       "      <th>4</th>\n",
       "      <td>Cain Velasquez</td>\n",
       "      <td>36</td>\n",
       "      <td>72.8345</td>\n",
       "      <td>NaN</td>\n",
       "      <td>12 3</td>\n",
       "      <td>14 3</td>\n",
       "      <td>Heavyweight</td>\n",
       "      <td>0</td>\n",
       "      <td>14</td>\n",
       "      <td>3</td>\n",
       "      <td>...</td>\n",
       "      <td>86.0</td>\n",
       "      <td>1.35</td>\n",
       "      <td>07:24</td>\n",
       "      <td>260.0</td>\n",
       "      <td>195.0</td>\n",
       "      <td>264.0</td>\n",
       "      <td>8.0</td>\n",
       "      <td>896</td>\n",
       "      <td>1.0</td>\n",
       "      <td>True</td>\n",
       "    </tr>\n",
       "  </tbody>\n",
       "</table>\n",
       "<p>5 rows × 37 columns</p>\n",
       "</div>"
      ],
      "text/plain": [
       "               Name  Age      Ht.      Nickname Endeavor record    MMA record  \\\n",
       "0   Andrei Arlovski   40  75.1967  The Pit Bull    16 12 (1 NC)  27 18 (2 NC)   \n",
       "1   Andrei Arlovski   40  75.1967  The Pit Bull    16 12 (1 NC)  27 18 (2 NC)   \n",
       "2  Alistair Overeem   38  77.1652      The Reem            11 6  45 17 (1 NC)   \n",
       "3    Cain Velasquez   36  72.8345           NaN            12 3          14 3   \n",
       "4    Cain Velasquez   36  72.8345           NaN            12 3          14 3   \n",
       "\n",
       "  Weight Class  Weight Class Index Overall Wins Overall Losses    ...     \\\n",
       "0  Heavyweight                   0           27             18    ...      \n",
       "1  Heavyweight                   0           27             18    ...      \n",
       "2  Heavyweight                   0           45             17    ...      \n",
       "3  Heavyweight                   0           14              3    ...      \n",
       "4  Heavyweight                   0           14              3    ...      \n",
       "\n",
       "   take_d kd_rat  av_time  stand_stk  clinch_stk  grnd_stk  Rank  \\\n",
       "0    79.0   0.62    08:41      571.0       137.0      41.0  15.0   \n",
       "1    79.0   0.62    08:41      571.0       137.0      41.0  15.0   \n",
       "2    73.0   1.00    07:58      218.0       106.0     118.0   7.0   \n",
       "3    86.0   1.35    07:24      260.0       195.0     264.0   8.0   \n",
       "4    86.0   1.35    07:24      260.0       195.0     264.0   8.0   \n",
       "\n",
       "   Reign(total)  Defenses  ex_champ  \n",
       "0             0       1.0      True  \n",
       "1           246       1.0      True  \n",
       "2           NaN       NaN     False  \n",
       "3           385       0.0      True  \n",
       "4           896       1.0      True  \n",
       "\n",
       "[5 rows x 37 columns]"
      ]
     },
     "execution_count": 3,
     "metadata": {},
     "output_type": "execute_result"
    }
   ],
   "source": [
    "main.head(5)"
   ]
  },
  {
   "cell_type": "code",
   "execution_count": 4,
   "metadata": {},
   "outputs": [
    {
     "data": {
      "text/plain": [
       "(537, 37)"
      ]
     },
     "execution_count": 4,
     "metadata": {},
     "output_type": "execute_result"
    }
   ],
   "source": [
    "main.shape"
   ]
  },
  {
   "cell_type": "markdown",
   "metadata": {},
   "source": [
    "A function was created that splits the string into the first character and the rest. If the first character is a digit, it is returned. If not, it is dropped."
   ]
  },
  {
   "cell_type": "code",
   "execution_count": 5,
   "metadata": {},
   "outputs": [],
   "source": [
    "def convert_ufc_losses(x):\n",
    "    \n",
    "    first_part = str(x).split()[0]\n",
    "    \n",
    "    if first_part.isdigit():\n",
    "        return int(first_part)\n",
    "    else:\n",
    "        return np.nan"
   ]
  },
  {
   "cell_type": "markdown",
   "metadata": {},
   "source": [
    "This function is applied to all the relevant columns "
   ]
  },
  {
   "cell_type": "code",
   "execution_count": 6,
   "metadata": {},
   "outputs": [],
   "source": [
    "main['Overall Losses'] = main['Overall Losses'].apply(convert_ufc_losses)"
   ]
  },
  {
   "cell_type": "code",
   "execution_count": 7,
   "metadata": {},
   "outputs": [],
   "source": [
    "main['Overall Wins'] = main['Overall Wins'].apply(convert_ufc_losses)"
   ]
  },
  {
   "cell_type": "code",
   "execution_count": 8,
   "metadata": {},
   "outputs": [],
   "source": [
    "main['UFC Losses'] = main['UFC Losses'].apply(convert_ufc_losses)"
   ]
  },
  {
   "cell_type": "code",
   "execution_count": 9,
   "metadata": {},
   "outputs": [],
   "source": [
    "main['UFC Wins'] = main['UFC Wins'].apply(convert_ufc_losses)"
   ]
  },
  {
   "cell_type": "code",
   "execution_count": 10,
   "metadata": {},
   "outputs": [
    {
     "data": {
      "text/plain": [
       "(537, 37)"
      ]
     },
     "execution_count": 10,
     "metadata": {},
     "output_type": "execute_result"
    }
   ],
   "source": [
    "main.shape"
   ]
  },
  {
   "cell_type": "markdown",
   "metadata": {},
   "source": [
    "Total UFC Fights and Total Overall fights were calculated"
   ]
  },
  {
   "cell_type": "code",
   "execution_count": 11,
   "metadata": {},
   "outputs": [],
   "source": [
    "main['Total UFC Fights'] = main['UFC Losses'] + main['UFC Wins']\n",
    "main['Total Overall Fights'] = main['Overall Wins'] + main['Overall Losses']"
   ]
  },
  {
   "cell_type": "code",
   "execution_count": 12,
   "metadata": {
    "scrolled": true
   },
   "outputs": [
    {
     "data": {
      "text/plain": [
       "(537, 39)"
      ]
     },
     "execution_count": 12,
     "metadata": {},
     "output_type": "execute_result"
    }
   ],
   "source": [
    "main.shape\n"
   ]
  },
  {
   "cell_type": "markdown",
   "metadata": {},
   "source": [
    "The final csv was exported, ready for anaylsis"
   ]
  },
  {
   "cell_type": "code",
   "execution_count": 13,
   "metadata": {},
   "outputs": [],
   "source": [
    " main.to_csv('final.csv',index = False)"
   ]
  },
  {
   "cell_type": "code",
   "execution_count": null,
   "metadata": {},
   "outputs": [],
   "source": []
  }
 ],
 "metadata": {
  "kernelspec": {
   "display_name": "Python 3",
   "language": "python",
   "name": "python3"
  },
  "language_info": {
   "codemirror_mode": {
    "name": "ipython",
    "version": 3
   },
   "file_extension": ".py",
   "mimetype": "text/x-python",
   "name": "python",
   "nbconvert_exporter": "python",
   "pygments_lexer": "ipython3",
   "version": "3.7.1"
  }
 },
 "nbformat": 4,
 "nbformat_minor": 2
}
