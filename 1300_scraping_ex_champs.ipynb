{
 "cells": [
  {
   "cell_type": "markdown",
   "metadata": {
    "papermill": {
     "duration": 0.046773,
     "end_time": "2019-05-10T18:20:31.564252",
     "exception": false,
     "start_time": "2019-05-10T18:20:31.517479",
     "status": "completed"
    },
    "tags": []
   },
   "source": [
    "# Wiki Scrape of Previous Champs"
   ]
  },
  {
   "cell_type": "code",
   "execution_count": 1,
   "metadata": {
    "papermill": {
     "duration": 2.324456,
     "end_time": "2019-05-10T18:20:33.982428",
     "exception": false,
     "start_time": "2019-05-10T18:20:31.657972",
     "status": "completed"
    },
    "tags": []
   },
   "outputs": [],
   "source": [
    "import pandas as pd\n",
    "import matplotlib.pyplot as plt\n",
    "%matplotlib inline\n",
    "\n",
    "import numpy as np\n",
    "import html5lib\n",
    "\n",
    "import requests \n",
    "from bs4 import BeautifulSoup\n",
    "import urllib\n",
    "import time"
   ]
  },
  {
   "cell_type": "markdown",
   "metadata": {
    "papermill": {
     "duration": 0.07828,
     "end_time": "2019-05-10T18:20:34.123094",
     "exception": false,
     "start_time": "2019-05-10T18:20:34.044814",
     "status": "completed"
    },
    "tags": []
   },
   "source": [
    "The url was read in, very similar to our other wikipedia scraper."
   ]
  },
  {
   "cell_type": "code",
   "execution_count": 2,
   "metadata": {
    "papermill": {
     "duration": 4.897045,
     "end_time": "2019-05-10T18:20:39.084066",
     "exception": false,
     "start_time": "2019-05-10T18:20:34.187021",
     "status": "completed"
    },
    "tags": []
   },
   "outputs": [],
   "source": [
    "a = pd.read_html('https://en.wikipedia.org/wiki/List_of_UFC_champions', flavor = 'html5lib')"
   ]
  },
  {
   "cell_type": "markdown",
   "metadata": {
    "papermill": {
     "duration": 0.079025,
     "end_time": "2019-05-10T18:20:39.225496",
     "exception": false,
     "start_time": "2019-05-10T18:20:39.146471",
     "status": "completed"
    },
    "tags": []
   },
   "source": [
    "Each table was put in a dataframe and they were merged"
   ]
  },
  {
   "cell_type": "code",
   "execution_count": 3,
   "metadata": {
    "papermill": {
     "duration": 0.108662,
     "end_time": "2019-05-10T18:20:39.409293",
     "exception": false,
     "start_time": "2019-05-10T18:20:39.300631",
     "status": "completed"
    },
    "tags": []
   },
   "outputs": [],
   "source": [
    "a2 = a[2]\n",
    "a3 = a[3]\n",
    "a4 = a[4]\n",
    "a5 = a[5]\n",
    "a6 = a[6]\n",
    "a7 = a[7]\n",
    "a8 = a[8]\n",
    "a9 = a[9]\n",
    "a10= a[10]\n",
    "a11 = a[11]\n",
    "a12 = a[12]\n",
    "\n",
    "fighters = pd.concat([a2,a3,a4,a5,a6,a7,a8,a9,a10,a11,a12])"
   ]
  },
  {
   "cell_type": "markdown",
   "metadata": {
    "papermill": {
     "duration": 0.072993,
     "end_time": "2019-05-10T18:20:39.544768",
     "exception": false,
     "start_time": "2019-05-10T18:20:39.471775",
     "status": "completed"
    },
    "tags": []
   },
   "source": [
    "## Cleaning"
   ]
  },
  {
   "cell_type": "markdown",
   "metadata": {
    "papermill": {
     "duration": 0.068093,
     "end_time": "2019-05-10T18:20:39.677112",
     "exception": false,
     "start_time": "2019-05-10T18:20:39.609019",
     "status": "completed"
    },
    "tags": []
   },
   "source": [
    "The first row was once again changed to the column headers"
   ]
  },
  {
   "cell_type": "code",
   "execution_count": 4,
   "metadata": {
    "papermill": {
     "duration": 0.134269,
     "end_time": "2019-05-10T18:20:39.879553",
     "exception": false,
     "start_time": "2019-05-10T18:20:39.745284",
     "status": "completed"
    },
    "tags": []
   },
   "outputs": [
    {
     "data": {
      "text/html": [
       "<div>\n",
       "<style scoped>\n",
       "    .dataframe tbody tr th:only-of-type {\n",
       "        vertical-align: middle;\n",
       "    }\n",
       "\n",
       "    .dataframe tbody tr th {\n",
       "        vertical-align: top;\n",
       "    }\n",
       "\n",
       "    .dataframe thead th {\n",
       "        text-align: right;\n",
       "    }\n",
       "</style>\n",
       "<table border=\"1\" class=\"dataframe\">\n",
       "  <thead>\n",
       "    <tr style=\"text-align: right;\">\n",
       "      <th></th>\n",
       "      <th>No.</th>\n",
       "      <th>Name</th>\n",
       "      <th>Event</th>\n",
       "      <th>Date</th>\n",
       "      <th>Reign(total)</th>\n",
       "      <th>Defenses</th>\n",
       "    </tr>\n",
       "  </thead>\n",
       "  <tbody>\n",
       "    <tr>\n",
       "      <th>1</th>\n",
       "      <td>1</td>\n",
       "      <td>Mark Colemandef. Dan Severn</td>\n",
       "      <td>UFC 12Dothan, AL, US</td>\n",
       "      <td>Feb 7, 1997</td>\n",
       "      <td>170 days</td>\n",
       "      <td>NaN</td>\n",
       "    </tr>\n",
       "    <tr>\n",
       "      <th>2</th>\n",
       "      <td>2</td>\n",
       "      <td>Maurice Smith</td>\n",
       "      <td>UFC 14Birmingham, AL, US</td>\n",
       "      <td>Jul 27, 1997</td>\n",
       "      <td>147 days</td>\n",
       "      <td>1. def. Tank Abbott at UFC 15 on Oct 17, 1997</td>\n",
       "    </tr>\n",
       "    <tr>\n",
       "      <th>3</th>\n",
       "      <td>3</td>\n",
       "      <td>Randy Couture</td>\n",
       "      <td>UFC JapanYokohama, Japan</td>\n",
       "      <td>Dec 21, 1997</td>\n",
       "      <td>? days</td>\n",
       "      <td>NaN</td>\n",
       "    </tr>\n",
       "    <tr>\n",
       "      <th>4</th>\n",
       "      <td>Couture was stripped of the title in January 1...</td>\n",
       "      <td>NaN</td>\n",
       "      <td>NaN</td>\n",
       "      <td>NaN</td>\n",
       "      <td>NaN</td>\n",
       "      <td>NaN</td>\n",
       "    </tr>\n",
       "  </tbody>\n",
       "</table>\n",
       "</div>"
      ],
      "text/plain": [
       "0                                                No.  \\\n",
       "1                                                  1   \n",
       "2                                                  2   \n",
       "3                                                  3   \n",
       "4  Couture was stripped of the title in January 1...   \n",
       "\n",
       "0                         Name                     Event          Date  \\\n",
       "1  Mark Colemandef. Dan Severn      UFC 12Dothan, AL, US   Feb 7, 1997   \n",
       "2                Maurice Smith  UFC 14Birmingham, AL, US  Jul 27, 1997   \n",
       "3                Randy Couture  UFC JapanYokohama, Japan  Dec 21, 1997   \n",
       "4                          NaN                       NaN           NaN   \n",
       "\n",
       "0 Reign(total)                                       Defenses  \n",
       "1     170 days                                            NaN  \n",
       "2     147 days  1. def. Tank Abbott at UFC 15 on Oct 17, 1997  \n",
       "3       ? days                                            NaN  \n",
       "4          NaN                                            NaN  "
      ]
     },
     "execution_count": 4,
     "metadata": {},
     "output_type": "execute_result"
    }
   ],
   "source": [
    "fighters.columns = fighters.iloc[0]\n",
    "fighters = fighters.drop(fighters.index[[0]])\n",
    "fighters.reset_index(drop = True)\n",
    "\n",
    "fighters.head(4)"
   ]
  },
  {
   "cell_type": "markdown",
   "metadata": {
    "papermill": {
     "duration": 0.075024,
     "end_time": "2019-05-10T18:20:40.017123",
     "exception": false,
     "start_time": "2019-05-10T18:20:39.942099",
     "status": "completed"
    },
    "tags": []
   },
   "source": [
    "These rows weren't relevant to our project and were subsequently dropped"
   ]
  },
  {
   "cell_type": "code",
   "execution_count": 5,
   "metadata": {
    "papermill": {
     "duration": 0.26074,
     "end_time": "2019-05-10T18:20:40.337992",
     "exception": false,
     "start_time": "2019-05-10T18:20:40.077252",
     "status": "completed"
    },
    "tags": []
   },
   "outputs": [
    {
     "data": {
      "text/html": [
       "<div>\n",
       "<style scoped>\n",
       "    .dataframe tbody tr th:only-of-type {\n",
       "        vertical-align: middle;\n",
       "    }\n",
       "\n",
       "    .dataframe tbody tr th {\n",
       "        vertical-align: top;\n",
       "    }\n",
       "\n",
       "    .dataframe thead th {\n",
       "        text-align: right;\n",
       "    }\n",
       "</style>\n",
       "<table border=\"1\" class=\"dataframe\">\n",
       "  <thead>\n",
       "    <tr style=\"text-align: right;\">\n",
       "      <th></th>\n",
       "      <th>Name</th>\n",
       "      <th>Reign(total)</th>\n",
       "      <th>Defenses</th>\n",
       "    </tr>\n",
       "  </thead>\n",
       "  <tbody>\n",
       "    <tr>\n",
       "      <th>1</th>\n",
       "      <td>Mark Colemandef. Dan Severn</td>\n",
       "      <td>170 days</td>\n",
       "      <td>NaN</td>\n",
       "    </tr>\n",
       "    <tr>\n",
       "      <th>2</th>\n",
       "      <td>Maurice Smith</td>\n",
       "      <td>147 days</td>\n",
       "      <td>1. def. Tank Abbott at UFC 15 on Oct 17, 1997</td>\n",
       "    </tr>\n",
       "    <tr>\n",
       "      <th>3</th>\n",
       "      <td>Randy Couture</td>\n",
       "      <td>? days</td>\n",
       "      <td>NaN</td>\n",
       "    </tr>\n",
       "    <tr>\n",
       "      <th>5</th>\n",
       "      <td>Bas Rutten def. Kevin Randleman</td>\n",
       "      <td>? days</td>\n",
       "      <td>NaN</td>\n",
       "    </tr>\n",
       "    <tr>\n",
       "      <th>7</th>\n",
       "      <td>Kevin Randlemandef. Pete Williams</td>\n",
       "      <td>364 days</td>\n",
       "      <td>1. def. Pedro Rizzo at UFC 26 on Jun 9, 2000</td>\n",
       "    </tr>\n",
       "  </tbody>\n",
       "</table>\n",
       "</div>"
      ],
      "text/plain": [
       "0                               Name Reign(total)  \\\n",
       "1        Mark Colemandef. Dan Severn     170 days   \n",
       "2                      Maurice Smith     147 days   \n",
       "3                      Randy Couture       ? days   \n",
       "5    Bas Rutten def. Kevin Randleman       ? days   \n",
       "7  Kevin Randlemandef. Pete Williams     364 days   \n",
       "\n",
       "0                                       Defenses  \n",
       "1                                            NaN  \n",
       "2  1. def. Tank Abbott at UFC 15 on Oct 17, 1997  \n",
       "3                                            NaN  \n",
       "5                                            NaN  \n",
       "7   1. def. Pedro Rizzo at UFC 26 on Jun 9, 2000  "
      ]
     },
     "execution_count": 5,
     "metadata": {},
     "output_type": "execute_result"
    }
   ],
   "source": [
    "to_drop = ['No.',\n",
    "            'Event',\n",
    "           'Date'\n",
    "            ]\n",
    "fighters.drop(to_drop, inplace=True, axis=1)\n",
    "fighters = fighters[pd.notnull(fighters['Name'])]\n",
    "fighters.head(5)"
   ]
  },
  {
   "cell_type": "markdown",
   "metadata": {
    "papermill": {
     "duration": 0.082888,
     "end_time": "2019-05-10T18:20:40.483291",
     "exception": false,
     "start_time": "2019-05-10T18:20:40.400403",
     "status": "completed"
    },
    "tags": []
   },
   "source": [
    "The \"Name\" column had who the fighter defeated to obtain the belt so that part had to be dropped."
   ]
  },
  {
   "cell_type": "code",
   "execution_count": 6,
   "metadata": {
    "papermill": {
     "duration": 0.173178,
     "end_time": "2019-05-10T18:20:40.724496",
     "exception": false,
     "start_time": "2019-05-10T18:20:40.551318",
     "status": "completed"
    },
    "tags": []
   },
   "outputs": [],
   "source": [
    "fighters['Name'] = fighters['Name'].map(lambda x: x.split('def')[0].strip())\n",
    "fighters['Name'] = fighters['Name'].map(lambda x: x.split('(')[0].strip())\n"
   ]
  },
  {
   "cell_type": "markdown",
   "metadata": {
    "papermill": {
     "duration": 0.081677,
     "end_time": "2019-05-10T18:20:40.868693",
     "exception": false,
     "start_time": "2019-05-10T18:20:40.787016",
     "status": "completed"
    },
    "tags": []
   },
   "source": [
    "\"Defences\" or title defences was cleaned by replacing Nan values with zeroes"
   ]
  },
  {
   "cell_type": "code",
   "execution_count": 7,
   "metadata": {
    "papermill": {
     "duration": 0.097632,
     "end_time": "2019-05-10T18:20:41.034294",
     "exception": false,
     "start_time": "2019-05-10T18:20:40.936662",
     "status": "completed"
    },
    "tags": []
   },
   "outputs": [],
   "source": [
    "fighters['Defenses'] = fighters['Defenses'].fillna('0')"
   ]
  },
  {
   "cell_type": "code",
   "execution_count": 8,
   "metadata": {
    "papermill": {
     "duration": 0.128543,
     "end_time": "2019-05-10T18:20:41.222611",
     "exception": false,
     "start_time": "2019-05-10T18:20:41.094068",
     "status": "completed"
    },
    "tags": []
   },
   "outputs": [
    {
     "data": {
      "text/html": [
       "<div>\n",
       "<style scoped>\n",
       "    .dataframe tbody tr th:only-of-type {\n",
       "        vertical-align: middle;\n",
       "    }\n",
       "\n",
       "    .dataframe tbody tr th {\n",
       "        vertical-align: top;\n",
       "    }\n",
       "\n",
       "    .dataframe thead th {\n",
       "        text-align: right;\n",
       "    }\n",
       "</style>\n",
       "<table border=\"1\" class=\"dataframe\">\n",
       "  <thead>\n",
       "    <tr style=\"text-align: right;\">\n",
       "      <th></th>\n",
       "      <th>Name</th>\n",
       "      <th>Reign(total)</th>\n",
       "      <th>Defenses</th>\n",
       "    </tr>\n",
       "  </thead>\n",
       "  <tbody>\n",
       "    <tr>\n",
       "      <th>1</th>\n",
       "      <td>Mark Coleman</td>\n",
       "      <td>170 days</td>\n",
       "      <td>0</td>\n",
       "    </tr>\n",
       "    <tr>\n",
       "      <th>2</th>\n",
       "      <td>Maurice Smith</td>\n",
       "      <td>147 days</td>\n",
       "      <td>1. def. Tank Abbott at UFC 15 on Oct 17, 1997</td>\n",
       "    </tr>\n",
       "    <tr>\n",
       "      <th>3</th>\n",
       "      <td>Randy Couture</td>\n",
       "      <td>? days</td>\n",
       "      <td>0</td>\n",
       "    </tr>\n",
       "    <tr>\n",
       "      <th>5</th>\n",
       "      <td>Bas Rutten</td>\n",
       "      <td>? days</td>\n",
       "      <td>0</td>\n",
       "    </tr>\n",
       "    <tr>\n",
       "      <th>7</th>\n",
       "      <td>Kevin Randleman</td>\n",
       "      <td>364 days</td>\n",
       "      <td>1. def. Pedro Rizzo at UFC 26 on Jun 9, 2000</td>\n",
       "    </tr>\n",
       "  </tbody>\n",
       "</table>\n",
       "</div>"
      ],
      "text/plain": [
       "0             Name Reign(total)                                       Defenses\n",
       "1     Mark Coleman     170 days                                              0\n",
       "2    Maurice Smith     147 days  1. def. Tank Abbott at UFC 15 on Oct 17, 1997\n",
       "3    Randy Couture       ? days                                              0\n",
       "5       Bas Rutten       ? days                                              0\n",
       "7  Kevin Randleman     364 days   1. def. Pedro Rizzo at UFC 26 on Jun 9, 2000"
      ]
     },
     "execution_count": 8,
     "metadata": {},
     "output_type": "execute_result"
    }
   ],
   "source": [
    "fighters.head(5)"
   ]
  },
  {
   "cell_type": "markdown",
   "metadata": {
    "papermill": {
     "duration": 0.066977,
     "end_time": "2019-05-10T18:20:41.356652",
     "exception": false,
     "start_time": "2019-05-10T18:20:41.289675",
     "status": "completed"
    },
    "tags": []
   },
   "source": [
    "Defences also had who the fighter defeated to obtain the belt so that was dropped also"
   ]
  },
  {
   "cell_type": "code",
   "execution_count": 9,
   "metadata": {
    "papermill": {
     "duration": 0.096939,
     "end_time": "2019-05-10T18:20:41.526669",
     "exception": false,
     "start_time": "2019-05-10T18:20:41.429730",
     "status": "completed"
    },
    "tags": []
   },
   "outputs": [],
   "source": [
    "fighters['Defenses'] = fighters['Defenses'].map(lambda x: x.split('.')[0].strip())\n",
    "fighters['Name'] = fighters['Name'].map(lambda x: x.split('promoted')[0].strip())\n"
   ]
  },
  {
   "cell_type": "markdown",
   "metadata": {
    "papermill": {
     "duration": 0.072508,
     "end_time": "2019-05-10T18:20:41.667100",
     "exception": false,
     "start_time": "2019-05-10T18:20:41.594592",
     "status": "completed"
    },
    "tags": []
   },
   "source": [
    "Reign had to be cleaned. This was done by removing the word \"days\" and replacing question marks and dashes with zeroes."
   ]
  },
  {
   "cell_type": "code",
   "execution_count": 10,
   "metadata": {
    "papermill": {
     "duration": 0.130598,
     "end_time": "2019-05-10T18:20:41.873906",
     "exception": false,
     "start_time": "2019-05-10T18:20:41.743308",
     "status": "completed"
    },
    "tags": []
   },
   "outputs": [
    {
     "data": {
      "text/html": [
       "<div>\n",
       "<style scoped>\n",
       "    .dataframe tbody tr th:only-of-type {\n",
       "        vertical-align: middle;\n",
       "    }\n",
       "\n",
       "    .dataframe tbody tr th {\n",
       "        vertical-align: top;\n",
       "    }\n",
       "\n",
       "    .dataframe thead th {\n",
       "        text-align: right;\n",
       "    }\n",
       "</style>\n",
       "<table border=\"1\" class=\"dataframe\">\n",
       "  <thead>\n",
       "    <tr style=\"text-align: right;\">\n",
       "      <th></th>\n",
       "      <th>Name</th>\n",
       "      <th>Reign(total)</th>\n",
       "      <th>Defenses</th>\n",
       "    </tr>\n",
       "  </thead>\n",
       "  <tbody>\n",
       "    <tr>\n",
       "      <th>1</th>\n",
       "      <td>Mark Coleman</td>\n",
       "      <td>170</td>\n",
       "      <td>0</td>\n",
       "    </tr>\n",
       "    <tr>\n",
       "      <th>2</th>\n",
       "      <td>Maurice Smith</td>\n",
       "      <td>147</td>\n",
       "      <td>1</td>\n",
       "    </tr>\n",
       "    <tr>\n",
       "      <th>3</th>\n",
       "      <td>Randy Couture</td>\n",
       "      <td>0</td>\n",
       "      <td>0</td>\n",
       "    </tr>\n",
       "    <tr>\n",
       "      <th>5</th>\n",
       "      <td>Bas Rutten</td>\n",
       "      <td>0</td>\n",
       "      <td>0</td>\n",
       "    </tr>\n",
       "    <tr>\n",
       "      <th>7</th>\n",
       "      <td>Kevin Randleman</td>\n",
       "      <td>364</td>\n",
       "      <td>1</td>\n",
       "    </tr>\n",
       "  </tbody>\n",
       "</table>\n",
       "</div>"
      ],
      "text/plain": [
       "0             Name Reign(total) Defenses\n",
       "1     Mark Coleman          170        0\n",
       "2    Maurice Smith          147        1\n",
       "3    Randy Couture            0        0\n",
       "5       Bas Rutten            0        0\n",
       "7  Kevin Randleman          364        1"
      ]
     },
     "execution_count": 10,
     "metadata": {},
     "output_type": "execute_result"
    }
   ],
   "source": [
    "fighters['Reign(total)'] = fighters['Reign(total)'].map(lambda x: x.split('days')[0].strip())\n",
    "fighters['Reign(total)'] = fighters['Reign(total)'].map(lambda x: x.replace('?','0'))\n",
    "fighters['Reign(total)'] = fighters['Reign(total)'].map(lambda x: x.replace('—','0'))\n",
    "fighters.head(5)"
   ]
  },
  {
   "cell_type": "markdown",
   "metadata": {
    "papermill": {
     "duration": 0.077144,
     "end_time": "2019-05-10T18:20:42.017716",
     "exception": false,
     "start_time": "2019-05-10T18:20:41.940572",
     "status": "completed"
    },
    "tags": []
   },
   "source": [
    "I inserted a new column callled 'ex_champ' and set all the values to true."
   ]
  },
  {
   "cell_type": "code",
   "execution_count": 11,
   "metadata": {
    "papermill": {
     "duration": 0.095916,
     "end_time": "2019-05-10T18:20:42.185570",
     "exception": false,
     "start_time": "2019-05-10T18:20:42.089654",
     "status": "completed"
    },
    "tags": []
   },
   "outputs": [],
   "source": [
    "fighters.insert(3, \"ex_champ\", True)\n"
   ]
  },
  {
   "cell_type": "code",
   "execution_count": 12,
   "metadata": {
    "papermill": {
     "duration": 0.116927,
     "end_time": "2019-05-10T18:20:42.378051",
     "exception": false,
     "start_time": "2019-05-10T18:20:42.261124",
     "status": "completed"
    },
    "tags": []
   },
   "outputs": [
    {
     "data": {
      "text/html": [
       "<div>\n",
       "<style scoped>\n",
       "    .dataframe tbody tr th:only-of-type {\n",
       "        vertical-align: middle;\n",
       "    }\n",
       "\n",
       "    .dataframe tbody tr th {\n",
       "        vertical-align: top;\n",
       "    }\n",
       "\n",
       "    .dataframe thead th {\n",
       "        text-align: right;\n",
       "    }\n",
       "</style>\n",
       "<table border=\"1\" class=\"dataframe\">\n",
       "  <thead>\n",
       "    <tr style=\"text-align: right;\">\n",
       "      <th></th>\n",
       "      <th>Name</th>\n",
       "      <th>Reign(total)</th>\n",
       "      <th>Defenses</th>\n",
       "      <th>ex_champ</th>\n",
       "    </tr>\n",
       "  </thead>\n",
       "  <tbody>\n",
       "    <tr>\n",
       "      <th>1</th>\n",
       "      <td>Mark Coleman</td>\n",
       "      <td>170</td>\n",
       "      <td>0</td>\n",
       "      <td>True</td>\n",
       "    </tr>\n",
       "    <tr>\n",
       "      <th>2</th>\n",
       "      <td>Maurice Smith</td>\n",
       "      <td>147</td>\n",
       "      <td>1</td>\n",
       "      <td>True</td>\n",
       "    </tr>\n",
       "    <tr>\n",
       "      <th>3</th>\n",
       "      <td>Randy Couture</td>\n",
       "      <td>0</td>\n",
       "      <td>0</td>\n",
       "      <td>True</td>\n",
       "    </tr>\n",
       "    <tr>\n",
       "      <th>5</th>\n",
       "      <td>Bas Rutten</td>\n",
       "      <td>0</td>\n",
       "      <td>0</td>\n",
       "      <td>True</td>\n",
       "    </tr>\n",
       "    <tr>\n",
       "      <th>7</th>\n",
       "      <td>Kevin Randleman</td>\n",
       "      <td>364</td>\n",
       "      <td>1</td>\n",
       "      <td>True</td>\n",
       "    </tr>\n",
       "  </tbody>\n",
       "</table>\n",
       "</div>"
      ],
      "text/plain": [
       "0             Name Reign(total) Defenses  ex_champ\n",
       "1     Mark Coleman          170        0      True\n",
       "2    Maurice Smith          147        1      True\n",
       "3    Randy Couture            0        0      True\n",
       "5       Bas Rutten            0        0      True\n",
       "7  Kevin Randleman          364        1      True"
      ]
     },
     "execution_count": 12,
     "metadata": {},
     "output_type": "execute_result"
    }
   ],
   "source": [
    "fighters.head(5)"
   ]
  },
  {
   "cell_type": "markdown",
   "metadata": {
    "papermill": {
     "duration": 0.086758,
     "end_time": "2019-05-10T18:20:42.527418",
     "exception": false,
     "start_time": "2019-05-10T18:20:42.440660",
     "status": "completed"
    },
    "tags": []
   },
   "source": [
    "Filled the Nan values in \"ex_champ\" with false"
   ]
  },
  {
   "cell_type": "code",
   "execution_count": 13,
   "metadata": {
    "papermill": {
     "duration": 0.105762,
     "end_time": "2019-05-10T18:20:42.701593",
     "exception": false,
     "start_time": "2019-05-10T18:20:42.595831",
     "status": "completed"
    },
    "tags": []
   },
   "outputs": [],
   "source": [
    "fighters['ex_champ'] = fighters['ex_champ'].fillna(False)\n"
   ]
  },
  {
   "cell_type": "code",
   "execution_count": 14,
   "metadata": {
    "papermill": {
     "duration": 0.116675,
     "end_time": "2019-05-10T18:20:42.893813",
     "exception": false,
     "start_time": "2019-05-10T18:20:42.777138",
     "status": "completed"
    },
    "tags": []
   },
   "outputs": [],
   "source": [
    "fighters.to_csv('ex_champ.csv',index = False)"
   ]
  }
 ],
 "metadata": {
  "kernelspec": {
   "display_name": "Python 3",
   "language": "python",
   "name": "python3"
  },
  "language_info": {
   "codemirror_mode": {
    "name": "ipython",
    "version": 3
   },
   "file_extension": ".py",
   "mimetype": "text/x-python",
   "name": "python",
   "nbconvert_exporter": "python",
   "pygments_lexer": "ipython3",
   "version": "3.7.1"
  },
  "papermill": {
   "duration": 15.191997,
   "end_time": "2019-05-10T18:20:43.921915",
   "environment_variables": {},
   "exception": null,
   "input_path": "C:\\Users\\Lorcan Rooney\\Desktop\\Project Baby\\1300_scraping_ex_champs.ipynb",
   "output_path": "C:\\Users\\Lorcan Rooney\\Desktop\\Project Baby\\1300_scraping_ex_champs.ipynb",
   "parameters": {},
   "start_time": "2019-05-10T18:20:28.729918",
   "version": "1.0.0"
  }
 },
 "nbformat": 4,
 "nbformat_minor": 2
}