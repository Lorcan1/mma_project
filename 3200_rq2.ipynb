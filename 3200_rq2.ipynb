{
 "cells": [
  {
   "cell_type": "markdown",
   "metadata": {
    "papermill": {
     "duration": 0.091999,
     "end_time": "2019-05-10T18:22:03.033694",
     "exception": false,
     "start_time": "2019-05-10T18:22:02.941695",
     "status": "completed"
    },
    "tags": []
   },
   "source": [
    "# Research Question 2 - Striking vs Grappling"
   ]
  },
  {
   "cell_type": "code",
   "execution_count": 1,
   "metadata": {
    "papermill": {
     "duration": 2.832524,
     "end_time": "2019-05-10T18:22:05.962216",
     "exception": false,
     "start_time": "2019-05-10T18:22:03.129692",
     "status": "completed"
    },
    "tags": []
   },
   "outputs": [],
   "source": [
    "import pandas as pd\n",
    "import matplotlib.pyplot as plt\n",
    "%matplotlib inline\n",
    "\n",
    "import numpy as np\n",
    "import html5lib\n",
    "\n",
    "import requests \n",
    "from bs4 import BeautifulSoup\n",
    "import urllib\n",
    "import time"
   ]
  },
  {
   "cell_type": "markdown",
   "metadata": {
    "papermill": {
     "duration": 0.099998,
     "end_time": "2019-05-10T18:22:06.174180",
     "exception": false,
     "start_time": "2019-05-10T18:22:06.074182",
     "status": "completed"
    },
    "tags": []
   },
   "source": [
    "The main csv was read in"
   ]
  },
  {
   "cell_type": "code",
   "execution_count": 2,
   "metadata": {
    "papermill": {
     "duration": 0.215971,
     "end_time": "2019-05-10T18:22:06.498178",
     "exception": false,
     "start_time": "2019-05-10T18:22:06.282207",
     "status": "completed"
    },
    "tags": []
   },
   "outputs": [],
   "source": [
    "main = pd.read_csv(\"final.csv\")"
   ]
  },
  {
   "cell_type": "markdown",
   "metadata": {
    "papermill": {
     "duration": 0.107591,
     "end_time": "2019-05-10T18:22:06.741468",
     "exception": false,
     "start_time": "2019-05-10T18:22:06.633877",
     "status": "completed"
    },
    "tags": []
   },
   "source": [
    "## Win Type by Weight Class"
   ]
  },
  {
   "cell_type": "markdown",
   "metadata": {
    "papermill": {
     "duration": 0.106473,
     "end_time": "2019-05-10T18:22:06.925218",
     "exception": false,
     "start_time": "2019-05-10T18:22:06.818745",
     "status": "completed"
    },
    "tags": []
   },
   "source": [
    "The dataframe was grouped by Weight Class and Weight Class Index, and the sum of all knockout wins, submission wins and decision wins was found. New columns were then added of each win type as a percentage of total wins."
   ]
  },
  {
   "cell_type": "code",
   "execution_count": 3,
   "metadata": {
    "papermill": {
     "duration": 0.183369,
     "end_time": "2019-05-10T18:22:07.184154",
     "exception": false,
     "start_time": "2019-05-10T18:22:07.000785",
     "status": "completed"
    },
    "tags": []
   },
   "outputs": [],
   "source": [
    "winType = main.groupby([\"Weight Class\", \"Weight Class Index\"])[\"k_wins\",\"sb_wins\",\"d_wins\"].sum().reset_index()\n",
    "\n",
    "winType[\"k_wins_p\"] = winType[\"k_wins\"]/(winType[\"k_wins\"] + winType[\"sb_wins\"] + winType[\"d_wins\"])\n",
    "winType[\"sb_wins_p\"] = winType[\"sb_wins\"]/(winType[\"k_wins\"] + winType[\"sb_wins\"] + winType[\"d_wins\"])\n",
    "winType[\"d_wins_p\"] = winType[\"d_wins\"]/(winType[\"k_wins\"] + winType[\"sb_wins\"] + winType[\"d_wins\"])"
   ]
  },
  {
   "cell_type": "markdown",
   "metadata": {
    "papermill": {
     "duration": 0.097452,
     "end_time": "2019-05-10T18:22:07.375350",
     "exception": false,
     "start_time": "2019-05-10T18:22:07.277898",
     "status": "completed"
    },
    "tags": []
   },
   "source": [
    "The irrlevant column were then droped and the dataframe was ordered by Weight Class Index"
   ]
  },
  {
   "cell_type": "code",
   "execution_count": 4,
   "metadata": {
    "papermill": {
     "duration": 0.170303,
     "end_time": "2019-05-10T18:22:07.653081",
     "exception": false,
     "start_time": "2019-05-10T18:22:07.482778",
     "status": "completed"
    },
    "tags": []
   },
   "outputs": [
    {
     "data": {
      "text/html": [
       "<div>\n",
       "<style scoped>\n",
       "    .dataframe tbody tr th:only-of-type {\n",
       "        vertical-align: middle;\n",
       "    }\n",
       "\n",
       "    .dataframe tbody tr th {\n",
       "        vertical-align: top;\n",
       "    }\n",
       "\n",
       "    .dataframe thead th {\n",
       "        text-align: right;\n",
       "    }\n",
       "</style>\n",
       "<table border=\"1\" class=\"dataframe\">\n",
       "  <thead>\n",
       "    <tr style=\"text-align: right;\">\n",
       "      <th></th>\n",
       "      <th>Weight Class</th>\n",
       "      <th>Weight Class Index</th>\n",
       "      <th>k_wins_p</th>\n",
       "      <th>sb_wins_p</th>\n",
       "      <th>d_wins_p</th>\n",
       "    </tr>\n",
       "  </thead>\n",
       "  <tbody>\n",
       "    <tr>\n",
       "      <th>3</th>\n",
       "      <td>Heavyweight</td>\n",
       "      <td>0</td>\n",
       "      <td>0.565445</td>\n",
       "      <td>0.251309</td>\n",
       "      <td>0.183246</td>\n",
       "    </tr>\n",
       "    <tr>\n",
       "      <th>4</th>\n",
       "      <td>Light heavyweight</td>\n",
       "      <td>1</td>\n",
       "      <td>0.528642</td>\n",
       "      <td>0.256956</td>\n",
       "      <td>0.214403</td>\n",
       "    </tr>\n",
       "    <tr>\n",
       "      <th>6</th>\n",
       "      <td>Middleweight</td>\n",
       "      <td>2</td>\n",
       "      <td>0.425614</td>\n",
       "      <td>0.239327</td>\n",
       "      <td>0.335058</td>\n",
       "    </tr>\n",
       "    <tr>\n",
       "      <th>7</th>\n",
       "      <td>Welterweight</td>\n",
       "      <td>3</td>\n",
       "      <td>0.433597</td>\n",
       "      <td>0.258575</td>\n",
       "      <td>0.307828</td>\n",
       "    </tr>\n",
       "    <tr>\n",
       "      <th>5</th>\n",
       "      <td>Lightweight</td>\n",
       "      <td>4</td>\n",
       "      <td>0.382550</td>\n",
       "      <td>0.314477</td>\n",
       "      <td>0.302972</td>\n",
       "    </tr>\n",
       "  </tbody>\n",
       "</table>\n",
       "</div>"
      ],
      "text/plain": [
       "        Weight Class  Weight Class Index  k_wins_p  sb_wins_p  d_wins_p\n",
       "3        Heavyweight                   0  0.565445   0.251309  0.183246\n",
       "4  Light heavyweight                   1  0.528642   0.256956  0.214403\n",
       "6       Middleweight                   2  0.425614   0.239327  0.335058\n",
       "7       Welterweight                   3  0.433597   0.258575  0.307828\n",
       "5        Lightweight                   4  0.382550   0.314477  0.302972"
      ]
     },
     "execution_count": 4,
     "metadata": {},
     "output_type": "execute_result"
    }
   ],
   "source": [
    "winType = winType.drop([\"k_wins\" , \"sb_wins\", \"d_wins\"] , axis='columns')\n",
    "\n",
    "winType = winType.sort_values(by='Weight Class Index' ,ascending = True)\n",
    "winType.head(5)"
   ]
  },
  {
   "cell_type": "markdown",
   "metadata": {
    "papermill": {
     "duration": 0.110411,
     "end_time": "2019-05-10T18:22:07.857300",
     "exception": false,
     "start_time": "2019-05-10T18:22:07.746889",
     "status": "completed"
    },
    "tags": []
   },
   "source": [
    "A graph was then plotted of each Win Type Percent vs Weight Class. "
   ]
  },
  {
   "cell_type": "code",
   "execution_count": 5,
   "metadata": {
    "papermill": {
     "duration": 1.336404,
     "end_time": "2019-05-10T18:22:09.269634",
     "exception": false,
     "start_time": "2019-05-10T18:22:07.933230",
     "status": "completed"
    },
    "tags": []
   },
   "outputs": [
    {
     "data": {
      "image/png": "[encoded data removed]",
      "text/plain": [
       "<Figure size 720x576 with 1 Axes>"
      ]
     },
     "metadata": {
      "needs_background": "light"
     },
     "output_type": "display_data"
    }
   ],
   "source": [
    "plt.figure(figsize=(10,8))  #declare the figure size, it's quite small by default.\n",
    "\n",
    "plt.plot(\"Weight Class\", \"k_wins_p\", data=winType, marker=\"\", color=\"purple\", linewidth=3) \n",
    "plt.plot(\"Weight Class\", \"sb_wins_p\", data=winType, marker=\"\", color=\"green\", linewidth=3) \n",
    "plt.plot(\"Weight Class\", \"d_wins_p\", data=winType, marker=\"\", color=\"blue\", linewidth=3)  \n",
    "\n",
    "\n",
    "plt.title(\"Win Type by Weight Class\", fontsize=16) # create the chart title and axis labels\n",
    "plt.xlabel(\"Weight Class\")\n",
    "plt.ylabel(\"Percent of Wins (decimal)\")\n",
    "plt.xticks(rotation=90)\n",
    "plt.grid()\n",
    "\n",
    "plt.rcParams.update({'font.size': 16})\n",
    "\n",
    "\n",
    "L=plt.legend(prop={'size': 12})\n",
    "L.get_texts()[0].set_text('Knockout Win')\n",
    "L.get_texts()[1].set_text('Submission Win')\n",
    "L.get_texts()[2].set_text('Decision Win')\n"
   ]
  },
  {
   "cell_type": "markdown",
   "metadata": {
    "papermill": {
     "duration": 0.111953,
     "end_time": "2019-05-10T18:22:09.493630",
     "exception": false,
     "start_time": "2019-05-10T18:22:09.381677",
     "status": "completed"
    },
    "tags": []
   },
   "source": [
    "In the above graph, we look at how the win type differs by weight class. It's clear that the heavier weight classes (left side of graph) rely on knockouts to win fights, whereas the lighter men's weight classes are able to use other aspects of their game(other than striking) to win i.e. grappling.\n",
    "\n",
    "Meanwhile for the woman's weight classes, there hasn't been enough fights for us to read into the results too much. For example, the woman's featherweight spikes up on knockout wins but this is the newest weight class to offically be part of the UFC so we would have to wait a few more years to make an analytical assumption about this weight class\n",
    "\n",
    "Submisissions victories are lower amongst the female weight classes. The jiu jitsu side of womens MMA must be lagging behind. As the sport develops these numbers will most likely increase."
   ]
  },
  {
   "cell_type": "markdown",
   "metadata": {
    "papermill": {
     "duration": 0.108,
     "end_time": "2019-05-10T18:22:09.741628",
     "exception": false,
     "start_time": "2019-05-10T18:22:09.633628",
     "status": "completed"
    },
    "tags": []
   },
   "source": [
    "## Champion Striking vs Takedown Accuracy"
   ]
  },
  {
   "cell_type": "markdown",
   "metadata": {
    "papermill": {
     "duration": 0.099997,
     "end_time": "2019-05-10T18:22:09.946757",
     "exception": false,
     "start_time": "2019-05-10T18:22:09.846760",
     "status": "completed"
    },
    "tags": []
   },
   "source": [
    "A new dataframe was created to find out how the champions striking and takedown accuracy compares with the average."
   ]
  },
  {
   "cell_type": "code",
   "execution_count": 6,
   "metadata": {
    "papermill": {
     "duration": 0.188108,
     "end_time": "2019-05-10T18:22:10.242844",
     "exception": false,
     "start_time": "2019-05-10T18:22:10.054736",
     "status": "completed"
    },
    "tags": []
   },
   "outputs": [
    {
     "data": {
      "text/html": [
       "<div>\n",
       "<style scoped>\n",
       "    .dataframe tbody tr th:only-of-type {\n",
       "        vertical-align: middle;\n",
       "    }\n",
       "\n",
       "    .dataframe tbody tr th {\n",
       "        vertical-align: top;\n",
       "    }\n",
       "\n",
       "    .dataframe thead th {\n",
       "        text-align: right;\n",
       "    }\n",
       "</style>\n",
       "<table border=\"1\" class=\"dataframe\">\n",
       "  <thead>\n",
       "    <tr style=\"text-align: right;\">\n",
       "      <th></th>\n",
       "      <th>Name</th>\n",
       "      <th>st_land</th>\n",
       "      <th>st_attemp</th>\n",
       "      <th>tk_land</th>\n",
       "      <th>tk_attemp</th>\n",
       "      <th>Rank</th>\n",
       "    </tr>\n",
       "  </thead>\n",
       "  <tbody>\n",
       "    <tr>\n",
       "      <th>0</th>\n",
       "      <td>Andrei Arlovski</td>\n",
       "      <td>749.0</td>\n",
       "      <td>1790.0</td>\n",
       "      <td>7.0</td>\n",
       "      <td>25.0</td>\n",
       "      <td>15.0</td>\n",
       "    </tr>\n",
       "    <tr>\n",
       "      <th>1</th>\n",
       "      <td>Andrei Arlovski</td>\n",
       "      <td>749.0</td>\n",
       "      <td>1790.0</td>\n",
       "      <td>7.0</td>\n",
       "      <td>25.0</td>\n",
       "      <td>15.0</td>\n",
       "    </tr>\n",
       "    <tr>\n",
       "      <th>2</th>\n",
       "      <td>Alistair Overeem</td>\n",
       "      <td>442.0</td>\n",
       "      <td>605.0</td>\n",
       "      <td>3.0</td>\n",
       "      <td>13.0</td>\n",
       "      <td>7.0</td>\n",
       "    </tr>\n",
       "    <tr>\n",
       "      <th>3</th>\n",
       "      <td>Cain Velasquez</td>\n",
       "      <td>719.0</td>\n",
       "      <td>1249.0</td>\n",
       "      <td>34.0</td>\n",
       "      <td>81.0</td>\n",
       "      <td>8.0</td>\n",
       "    </tr>\n",
       "    <tr>\n",
       "      <th>4</th>\n",
       "      <td>Cain Velasquez</td>\n",
       "      <td>719.0</td>\n",
       "      <td>1249.0</td>\n",
       "      <td>34.0</td>\n",
       "      <td>81.0</td>\n",
       "      <td>8.0</td>\n",
       "    </tr>\n",
       "  </tbody>\n",
       "</table>\n",
       "</div>"
      ],
      "text/plain": [
       "               Name  st_land  st_attemp  tk_land  tk_attemp  Rank\n",
       "0   Andrei Arlovski    749.0     1790.0      7.0       25.0  15.0\n",
       "1   Andrei Arlovski    749.0     1790.0      7.0       25.0  15.0\n",
       "2  Alistair Overeem    442.0      605.0      3.0       13.0   7.0\n",
       "3    Cain Velasquez    719.0     1249.0     34.0       81.0   8.0\n",
       "4    Cain Velasquez    719.0     1249.0     34.0       81.0   8.0"
      ]
     },
     "execution_count": 6,
     "metadata": {},
     "output_type": "execute_result"
    }
   ],
   "source": [
    "champ_acc = main[['Name', 'st_land','st_attemp','tk_land','tk_attemp',\"Rank\"]]\n",
    "champ_acc.head(5)"
   ]
  },
  {
   "cell_type": "markdown",
   "metadata": {
    "papermill": {
     "duration": 0.120001,
     "end_time": "2019-05-10T18:22:10.478733",
     "exception": false,
     "start_time": "2019-05-10T18:22:10.358732",
     "status": "completed"
    },
    "tags": []
   },
   "source": [
    "Striking accuracy was found by dividing strikes landed by strikes attempted and takedown accuracy was found by dividing takedowns landed by attemped\n"
   ]
  },
  {
   "cell_type": "code",
   "execution_count": 7,
   "metadata": {
    "papermill": {
     "duration": 0.360075,
     "end_time": "2019-05-10T18:22:10.954833",
     "exception": false,
     "start_time": "2019-05-10T18:22:10.594758",
     "status": "completed"
    },
    "tags": []
   },
   "outputs": [
    {
     "name": "stderr",
     "output_type": "stream",
     "text": [
      "C:\\Users\\Lorcan Rooney\\Anaconda3\\envs\\env_name\\lib\\site-packages\\ipykernel_launcher.py:1: SettingWithCopyWarning: \n",
      "A value is trying to be set on a copy of a slice from a DataFrame.\n",
      "Try using .loc[row_indexer,col_indexer] = value instead\n",
      "\n",
      "See the caveats in the documentation: http://pandas.pydata.org/pandas-docs/stable/indexing.html#indexing-view-versus-copy\n",
      "  \"\"\"Entry point for launching an IPython kernel.\n",
      "C:\\Users\\Lorcan Rooney\\Anaconda3\\envs\\env_name\\lib\\site-packages\\ipykernel_launcher.py:2: SettingWithCopyWarning: \n",
      "A value is trying to be set on a copy of a slice from a DataFrame.\n",
      "Try using .loc[row_indexer,col_indexer] = value instead\n",
      "\n",
      "See the caveats in the documentation: http://pandas.pydata.org/pandas-docs/stable/indexing.html#indexing-view-versus-copy\n",
      "  \n"
     ]
    },
    {
     "data": {
      "text/html": [
       "<div>\n",
       "<style scoped>\n",
       "    .dataframe tbody tr th:only-of-type {\n",
       "        vertical-align: middle;\n",
       "    }\n",
       "\n",
       "    .dataframe tbody tr th {\n",
       "        vertical-align: top;\n",
       "    }\n",
       "\n",
       "    .dataframe thead th {\n",
       "        text-align: right;\n",
       "    }\n",
       "</style>\n",
       "<table border=\"1\" class=\"dataframe\">\n",
       "  <thead>\n",
       "    <tr style=\"text-align: right;\">\n",
       "      <th></th>\n",
       "      <th>Name</th>\n",
       "      <th>st_land</th>\n",
       "      <th>st_attemp</th>\n",
       "      <th>tk_land</th>\n",
       "      <th>tk_attemp</th>\n",
       "      <th>Rank</th>\n",
       "      <th>st_acc</th>\n",
       "      <th>tk_acc</th>\n",
       "    </tr>\n",
       "  </thead>\n",
       "  <tbody>\n",
       "    <tr>\n",
       "      <th>0</th>\n",
       "      <td>Andrei Arlovski</td>\n",
       "      <td>749.0</td>\n",
       "      <td>1790.0</td>\n",
       "      <td>7.0</td>\n",
       "      <td>25.0</td>\n",
       "      <td>15.0</td>\n",
       "      <td>0.418436</td>\n",
       "      <td>0.280000</td>\n",
       "    </tr>\n",
       "    <tr>\n",
       "      <th>1</th>\n",
       "      <td>Andrei Arlovski</td>\n",
       "      <td>749.0</td>\n",
       "      <td>1790.0</td>\n",
       "      <td>7.0</td>\n",
       "      <td>25.0</td>\n",
       "      <td>15.0</td>\n",
       "      <td>0.418436</td>\n",
       "      <td>0.280000</td>\n",
       "    </tr>\n",
       "    <tr>\n",
       "      <th>2</th>\n",
       "      <td>Alistair Overeem</td>\n",
       "      <td>442.0</td>\n",
       "      <td>605.0</td>\n",
       "      <td>3.0</td>\n",
       "      <td>13.0</td>\n",
       "      <td>7.0</td>\n",
       "      <td>0.730579</td>\n",
       "      <td>0.230769</td>\n",
       "    </tr>\n",
       "    <tr>\n",
       "      <th>3</th>\n",
       "      <td>Cain Velasquez</td>\n",
       "      <td>719.0</td>\n",
       "      <td>1249.0</td>\n",
       "      <td>34.0</td>\n",
       "      <td>81.0</td>\n",
       "      <td>8.0</td>\n",
       "      <td>0.575661</td>\n",
       "      <td>0.419753</td>\n",
       "    </tr>\n",
       "    <tr>\n",
       "      <th>4</th>\n",
       "      <td>Cain Velasquez</td>\n",
       "      <td>719.0</td>\n",
       "      <td>1249.0</td>\n",
       "      <td>34.0</td>\n",
       "      <td>81.0</td>\n",
       "      <td>8.0</td>\n",
       "      <td>0.575661</td>\n",
       "      <td>0.419753</td>\n",
       "    </tr>\n",
       "  </tbody>\n",
       "</table>\n",
       "</div>"
      ],
      "text/plain": [
       "               Name  st_land  st_attemp  tk_land  tk_attemp  Rank    st_acc  \\\n",
       "0   Andrei Arlovski    749.0     1790.0      7.0       25.0  15.0  0.418436   \n",
       "1   Andrei Arlovski    749.0     1790.0      7.0       25.0  15.0  0.418436   \n",
       "2  Alistair Overeem    442.0      605.0      3.0       13.0   7.0  0.730579   \n",
       "3    Cain Velasquez    719.0     1249.0     34.0       81.0   8.0  0.575661   \n",
       "4    Cain Velasquez    719.0     1249.0     34.0       81.0   8.0  0.575661   \n",
       "\n",
       "     tk_acc  \n",
       "0  0.280000  \n",
       "1  0.280000  \n",
       "2  0.230769  \n",
       "3  0.419753  \n",
       "4  0.419753  "
      ]
     },
     "execution_count": 7,
     "metadata": {},
     "output_type": "execute_result"
    }
   ],
   "source": [
    "champ_acc['st_acc'] = champ_acc['st_land']/champ_acc['st_attemp']\n",
    "champ_acc['tk_acc'] = champ_acc['tk_land']/champ_acc['tk_attemp']\n",
    "champ_acc.head(5)"
   ]
  },
  {
   "cell_type": "markdown",
   "metadata": {
    "papermill": {
     "duration": 0.108019,
     "end_time": "2019-05-10T18:22:11.166751",
     "exception": false,
     "start_time": "2019-05-10T18:22:11.058732",
     "status": "completed"
    },
    "tags": []
   },
   "source": [
    "The uselesss column were dropped. A new dataframe was created that will be used later and all non champs in the champs_acc dataframe were removed"
   ]
  },
  {
   "cell_type": "code",
   "execution_count": 8,
   "metadata": {
    "papermill": {
     "duration": 0.156075,
     "end_time": "2019-05-10T18:22:11.442830",
     "exception": false,
     "start_time": "2019-05-10T18:22:11.286755",
     "status": "completed"
    },
    "tags": []
   },
   "outputs": [],
   "source": [
    "champ_acc = champ_acc.drop(['st_land','st_attemp','tk_land','tk_attemp'], axis=1)\n",
    "non_champ_acc = champ_acc\n",
    "champ_acc = champ_acc.loc[champ_acc['Rank'] == 0]"
   ]
  },
  {
   "cell_type": "markdown",
   "metadata": {
    "papermill": {
     "duration": 0.112,
     "end_time": "2019-05-10T18:22:11.666749",
     "exception": false,
     "start_time": "2019-05-10T18:22:11.554749",
     "status": "completed"
    },
    "tags": []
   },
   "source": [
    "The rank column and duplicates were dropped. Names were changed to last names only as it looked better in the project presentation"
   ]
  },
  {
   "cell_type": "code",
   "execution_count": 9,
   "metadata": {
    "papermill": {
     "duration": 0.268032,
     "end_time": "2019-05-10T18:22:12.047227",
     "exception": false,
     "start_time": "2019-05-10T18:22:11.779195",
     "status": "completed"
    },
    "tags": []
   },
   "outputs": [
    {
     "data": {
      "text/html": [
       "<div>\n",
       "<style scoped>\n",
       "    .dataframe tbody tr th:only-of-type {\n",
       "        vertical-align: middle;\n",
       "    }\n",
       "\n",
       "    .dataframe tbody tr th {\n",
       "        vertical-align: top;\n",
       "    }\n",
       "\n",
       "    .dataframe thead th {\n",
       "        text-align: right;\n",
       "    }\n",
       "</style>\n",
       "<table border=\"1\" class=\"dataframe\">\n",
       "  <thead>\n",
       "    <tr style=\"text-align: right;\">\n",
       "      <th></th>\n",
       "      <th>st_acc</th>\n",
       "      <th>tk_acc</th>\n",
       "    </tr>\n",
       "    <tr>\n",
       "      <th>Name</th>\n",
       "      <th></th>\n",
       "      <th></th>\n",
       "    </tr>\n",
       "  </thead>\n",
       "  <tbody>\n",
       "    <tr>\n",
       "      <th>Cormier</th>\n",
       "      <td>0.513136</td>\n",
       "      <td>0.377778</td>\n",
       "    </tr>\n",
       "    <tr>\n",
       "      <th>Jones</th>\n",
       "      <td>0.572687</td>\n",
       "      <td>0.423529</td>\n",
       "    </tr>\n",
       "    <tr>\n",
       "      <th>Whittaker</th>\n",
       "      <td>0.407154</td>\n",
       "      <td>0.571429</td>\n",
       "    </tr>\n",
       "    <tr>\n",
       "      <th>Usman</th>\n",
       "      <td>0.541329</td>\n",
       "      <td>0.337349</td>\n",
       "    </tr>\n",
       "    <tr>\n",
       "      <th>Nurmagomedov</th>\n",
       "      <td>0.496599</td>\n",
       "      <td>0.422414</td>\n",
       "    </tr>\n",
       "  </tbody>\n",
       "</table>\n",
       "</div>"
      ],
      "text/plain": [
       "                st_acc    tk_acc\n",
       "Name                            \n",
       "Cormier       0.513136  0.377778\n",
       "Jones         0.572687  0.423529\n",
       "Whittaker     0.407154  0.571429\n",
       "Usman         0.541329  0.337349\n",
       "Nurmagomedov  0.496599  0.422414"
      ]
     },
     "execution_count": 9,
     "metadata": {},
     "output_type": "execute_result"
    }
   ],
   "source": [
    "champ_acc = champ_acc.drop(['Rank'], axis=1)\n",
    "champ_acc = champ_acc.drop_duplicates(keep='first')\n",
    "\n",
    "champ_acc['Name'] = champ_acc['Name'].map(lambda x: x.split(' ')[1].strip())\n",
    "champ_acc = champ_acc.set_index('Name')\n",
    "champ_acc.head(5)"
   ]
  },
  {
   "cell_type": "markdown",
   "metadata": {
    "papermill": {
     "duration": 0.108009,
     "end_time": "2019-05-10T18:22:12.259257",
     "exception": false,
     "start_time": "2019-05-10T18:22:12.151248",
     "status": "completed"
    },
    "tags": []
   },
   "source": [
    "A chart was plotted of striking accuracy vs takedown accuracy for the champs. The lines represent the mean striking accuracy for the __entire ufc__ , not just the champs. "
   ]
  },
  {
   "cell_type": "code",
   "execution_count": 10,
   "metadata": {
    "papermill": {
     "duration": 1.280369,
     "end_time": "2019-05-10T18:22:13.647625",
     "exception": false,
     "start_time": "2019-05-10T18:22:12.367256",
     "status": "completed"
    },
    "tags": []
   },
   "outputs": [
    {
     "data": {
      "image/png": "[encoded data removed]",
      "text/plain": [
       "<Figure size 1080x504 with 1 Axes>"
      ]
     },
     "metadata": {
      "needs_background": "light"
     },
     "output_type": "display_data"
    }
   ],
   "source": [
    "fig,ax= plt.subplots()\n",
    "\n",
    "\n",
    "champ_acc.plot(kind=\"bar\", ax=ax, color=['r', 'g', 'b'],figsize=(15,7))\n",
    "\n",
    "st_acc_mean = non_champ_acc[\"st_acc\"].mean()\n",
    "ax.axhline(st_acc_mean, color = 'r')\n",
    "\n",
    "tk_acc_mean = non_champ_acc[\"tk_acc\"].mean()\n",
    "ax.axhline(tk_acc_mean, color = 'g')\n",
    "\n",
    "\n",
    "plt.title(\"Champion Striking Accuracy and Takedown Accuracy\", fontsize=24)\n",
    "plt.xlabel(\"\")\n",
    "plt.ylabel(\" Accuracy Percent (decimal)\")\n",
    "\n",
    "plt.rcParams.update({'font.size': 24})\n",
    "L=plt.legend(loc = 'upper left', prop={'size': 12})\n",
    "\n",
    "L.get_texts()[0].set_text('Striking Accuracy')\n",
    "L.get_texts()[1].set_text('Takedown Accuracy')\n",
    "\n"
   ]
  },
  {
   "cell_type": "markdown",
   "metadata": {
    "papermill": {
     "duration": 0.127973,
     "end_time": "2019-05-10T18:22:13.911806",
     "exception": false,
     "start_time": "2019-05-10T18:22:13.783833",
     "status": "completed"
    },
    "tags": []
   },
   "source": [
    "This graph could be misleading, because if you throw 1 strike and land 1 you have a high accuracy. Similar if you land more than anyone in the UFC but you attempt four times as much as anyone, you will have a bad striking accuracy. Interestingly, most of the champs have a higher striking accuracy than the average ufc fighter, which shows striking accuracy must be, somewhat, important.\n",
    "\n",
    "Takedown accuracy is a bit more random as a lot less takedowns are thrown than strikes, which makes the accuracys a bit more random. Numerous champions have a takedown accuracy well below the mean"
   ]
  },
  {
   "cell_type": "markdown",
   "metadata": {
    "papermill": {
     "duration": 0.119969,
     "end_time": "2019-05-10T18:22:14.151802",
     "exception": false,
     "start_time": "2019-05-10T18:22:14.031833",
     "status": "completed"
    },
    "tags": []
   },
   "source": [
    "## Win Type Percent For Champions "
   ]
  },
  {
   "cell_type": "markdown",
   "metadata": {
    "papermill": {
     "duration": 0.098784,
     "end_time": "2019-05-10T18:22:14.382618",
     "exception": false,
     "start_time": "2019-05-10T18:22:14.283834",
     "status": "completed"
    },
    "tags": []
   },
   "source": [
    "A new dataframe was created with names, ranks and win types (knockout, submission and decision). Each win type was found as a percentage of total wins."
   ]
  },
  {
   "cell_type": "code",
   "execution_count": 11,
   "metadata": {
    "papermill": {
     "duration": 0.462667,
     "end_time": "2019-05-10T18:22:14.954690",
     "exception": false,
     "start_time": "2019-05-10T18:22:14.492023",
     "status": "completed"
    },
    "tags": []
   },
   "outputs": [
    {
     "name": "stderr",
     "output_type": "stream",
     "text": [
      "C:\\Users\\Lorcan Rooney\\Anaconda3\\envs\\env_name\\lib\\site-packages\\ipykernel_launcher.py:3: SettingWithCopyWarning: \n",
      "A value is trying to be set on a copy of a slice from a DataFrame.\n",
      "Try using .loc[row_indexer,col_indexer] = value instead\n",
      "\n",
      "See the caveats in the documentation: http://pandas.pydata.org/pandas-docs/stable/indexing.html#indexing-view-versus-copy\n",
      "  This is separate from the ipykernel package so we can avoid doing imports until\n",
      "C:\\Users\\Lorcan Rooney\\Anaconda3\\envs\\env_name\\lib\\site-packages\\ipykernel_launcher.py:4: SettingWithCopyWarning: \n",
      "A value is trying to be set on a copy of a slice from a DataFrame.\n",
      "Try using .loc[row_indexer,col_indexer] = value instead\n",
      "\n",
      "See the caveats in the documentation: http://pandas.pydata.org/pandas-docs/stable/indexing.html#indexing-view-versus-copy\n",
      "  after removing the cwd from sys.path.\n",
      "C:\\Users\\Lorcan Rooney\\Anaconda3\\envs\\env_name\\lib\\site-packages\\ipykernel_launcher.py:5: SettingWithCopyWarning: \n",
      "A value is trying to be set on a copy of a slice from a DataFrame.\n",
      "Try using .loc[row_indexer,col_indexer] = value instead\n",
      "\n",
      "See the caveats in the documentation: http://pandas.pydata.org/pandas-docs/stable/indexing.html#indexing-view-versus-copy\n",
      "  \"\"\"\n"
     ]
    }
   ],
   "source": [
    "win_percen = main[[\"Name\",'k_wins','sb_wins','d_wins',\"Rank\"]]\n",
    "\n",
    "win_percen['k_wins_p'] = win_percen['k_wins']/(win_percen['k_wins'] + win_percen['sb_wins'] + win_percen['d_wins'])\n",
    "win_percen['sb_wins_p'] = win_percen['sb_wins']/(win_percen['k_wins'] + win_percen['sb_wins'] + win_percen['d_wins'])\n",
    "win_percen['d_wins_p'] = win_percen['d_wins']/(win_percen['k_wins'] + win_percen['sb_wins'] + win_percen['d_wins'])\n",
    "\n",
    "win_percen = win_percen.drop(['k_wins','sb_wins','d_wins'], axis=1)\n",
    "\n"
   ]
  },
  {
   "cell_type": "markdown",
   "metadata": {
    "papermill": {
     "duration": 0.180032,
     "end_time": "2019-05-10T18:22:15.257932",
     "exception": false,
     "start_time": "2019-05-10T18:22:15.077900",
     "status": "completed"
    },
    "tags": []
   },
   "source": [
    "All fighters that arent champions were then dropped, as well as the rank column and all duplicates"
   ]
  },
  {
   "cell_type": "code",
   "execution_count": 12,
   "metadata": {
    "papermill": {
     "duration": 0.196078,
     "end_time": "2019-05-10T18:22:15.658003",
     "exception": false,
     "start_time": "2019-05-10T18:22:15.461925",
     "status": "completed"
    },
    "tags": []
   },
   "outputs": [],
   "source": [
    "win_percen = win_percen.loc[win_percen['Rank'] == 0]\n",
    "win_percen = win_percen.drop(['Rank'], axis=1)\n",
    "win_percen = win_percen.drop_duplicates(keep='first')"
   ]
  },
  {
   "cell_type": "markdown",
   "metadata": {
    "papermill": {
     "duration": 0.114048,
     "end_time": "2019-05-10T18:22:15.893004",
     "exception": false,
     "start_time": "2019-05-10T18:22:15.778956",
     "status": "completed"
    },
    "tags": []
   },
   "source": [
    "Again first names were dropped for readabilty"
   ]
  },
  {
   "cell_type": "code",
   "execution_count": 13,
   "metadata": {
    "papermill": {
     "duration": 0.24917,
     "end_time": "2019-05-10T18:22:16.248983",
     "exception": false,
     "start_time": "2019-05-10T18:22:15.999813",
     "status": "completed"
    },
    "tags": []
   },
   "outputs": [
    {
     "data": {
      "text/html": [
       "<div>\n",
       "<style scoped>\n",
       "    .dataframe tbody tr th:only-of-type {\n",
       "        vertical-align: middle;\n",
       "    }\n",
       "\n",
       "    .dataframe tbody tr th {\n",
       "        vertical-align: top;\n",
       "    }\n",
       "\n",
       "    .dataframe thead th {\n",
       "        text-align: right;\n",
       "    }\n",
       "</style>\n",
       "<table border=\"1\" class=\"dataframe\">\n",
       "  <thead>\n",
       "    <tr style=\"text-align: right;\">\n",
       "      <th></th>\n",
       "      <th>k_wins_p</th>\n",
       "      <th>sb_wins_p</th>\n",
       "      <th>d_wins_p</th>\n",
       "    </tr>\n",
       "    <tr>\n",
       "      <th>Name</th>\n",
       "      <th></th>\n",
       "      <th></th>\n",
       "      <th></th>\n",
       "    </tr>\n",
       "  </thead>\n",
       "  <tbody>\n",
       "    <tr>\n",
       "      <th>Cormier</th>\n",
       "      <td>0.450000</td>\n",
       "      <td>0.200000</td>\n",
       "      <td>0.350000</td>\n",
       "    </tr>\n",
       "    <tr>\n",
       "      <th>Jones</th>\n",
       "      <td>0.434783</td>\n",
       "      <td>0.260870</td>\n",
       "      <td>0.304348</td>\n",
       "    </tr>\n",
       "    <tr>\n",
       "      <th>Whittaker</th>\n",
       "      <td>0.476190</td>\n",
       "      <td>0.238095</td>\n",
       "      <td>0.285714</td>\n",
       "    </tr>\n",
       "    <tr>\n",
       "      <th>Usman</th>\n",
       "      <td>0.461538</td>\n",
       "      <td>0.076923</td>\n",
       "      <td>0.461538</td>\n",
       "    </tr>\n",
       "    <tr>\n",
       "      <th>Nurmagomedov</th>\n",
       "      <td>0.307692</td>\n",
       "      <td>0.307692</td>\n",
       "      <td>0.384615</td>\n",
       "    </tr>\n",
       "    <tr>\n",
       "      <th>Holloway</th>\n",
       "      <td>0.500000</td>\n",
       "      <td>0.100000</td>\n",
       "      <td>0.400000</td>\n",
       "    </tr>\n",
       "    <tr>\n",
       "      <th>Cejudo</th>\n",
       "      <td>0.416667</td>\n",
       "      <td>0.000000</td>\n",
       "      <td>0.583333</td>\n",
       "    </tr>\n",
       "    <tr>\n",
       "      <th>Nunes</th>\n",
       "      <td>0.705882</td>\n",
       "      <td>0.176471</td>\n",
       "      <td>0.117647</td>\n",
       "    </tr>\n",
       "    <tr>\n",
       "      <th>Shevchenko</th>\n",
       "      <td>0.250000</td>\n",
       "      <td>0.437500</td>\n",
       "      <td>0.312500</td>\n",
       "    </tr>\n",
       "    <tr>\n",
       "      <th>Namajunas</th>\n",
       "      <td>0.111111</td>\n",
       "      <td>0.666667</td>\n",
       "      <td>0.222222</td>\n",
       "    </tr>\n",
       "  </tbody>\n",
       "</table>\n",
       "</div>"
      ],
      "text/plain": [
       "              k_wins_p  sb_wins_p  d_wins_p\n",
       "Name                                       \n",
       "Cormier       0.450000   0.200000  0.350000\n",
       "Jones         0.434783   0.260870  0.304348\n",
       "Whittaker     0.476190   0.238095  0.285714\n",
       "Usman         0.461538   0.076923  0.461538\n",
       "Nurmagomedov  0.307692   0.307692  0.384615\n",
       "Holloway      0.500000   0.100000  0.400000\n",
       "Cejudo        0.416667   0.000000  0.583333\n",
       "Nunes         0.705882   0.176471  0.117647\n",
       "Shevchenko    0.250000   0.437500  0.312500\n",
       "Namajunas     0.111111   0.666667  0.222222"
      ]
     },
     "execution_count": 13,
     "metadata": {},
     "output_type": "execute_result"
    }
   ],
   "source": [
    "win_percen['Name'] = win_percen['Name'].map(lambda x: x.split(' ')[1].strip())\n",
    "win_percen = win_percen.set_index('Name')\n",
    "win_percen"
   ]
  },
  {
   "cell_type": "markdown",
   "metadata": {
    "papermill": {
     "duration": 0.116827,
     "end_time": "2019-05-10T18:22:16.506285",
     "exception": false,
     "start_time": "2019-05-10T18:22:16.389458",
     "status": "completed"
    },
    "tags": []
   },
   "source": [
    "A chart was then plotted of the champions and their win types as percents of total wins "
   ]
  },
  {
   "cell_type": "code",
   "execution_count": 14,
   "metadata": {
    "papermill": {
     "duration": 1.161422,
     "end_time": "2019-05-10T18:22:17.787701",
     "exception": false,
     "start_time": "2019-05-10T18:22:16.626279",
     "status": "completed"
    },
    "tags": []
   },
   "outputs": [
    {
     "data": {
      "image/png": "[encoded data removed]",
      "text/plain": [
       "<Figure size 1080x504 with 1 Axes>"
      ]
     },
     "metadata": {
      "needs_background": "light"
     },
     "output_type": "display_data"
    }
   ],
   "source": [
    "fig,ax= plt.subplots()\n",
    "plt.rcParams.update({'font.size': 12.5})\n",
    "\n",
    "win_percen.plot(kind=\"bar\", ax=ax, color=['r', 'g', 'b'],figsize=(15,7))\n",
    "\n",
    "k_mean= win_percen[\"k_wins_p\"].mean()\n",
    "ax.axhline(k_mean, color = 'r')\n",
    "\n",
    "sb_mean = win_percen[\"sb_wins_p\"].mean()\n",
    "ax.axhline(sb_mean, color = 'g')\n",
    "\n",
    "d_mean = win_percen[\"d_wins_p\"].mean()\n",
    "ax.axhline(d_mean, color = 'b')\n",
    "plt.rcParams.update({'font.size': 24})\n",
    "\n",
    "plt.title(\"Champion Win Type (%)\", fontsize=24)\n",
    "plt.xlabel(\" \")\n",
    "plt.ylabel(\"Win Percent (decimal)\")\n",
    "\n",
    "L=plt.legend(loc = 'upper left', prop={'size': 12})\n",
    "\n",
    "L.get_texts()[0].set_text('KO %')\n",
    "L.get_texts()[1].set_text('Submission %')\n",
    "L.get_texts()[2].set_text('Decision %')\n",
    "\n",
    "plt.show()"
   ]
  },
  {
   "cell_type": "markdown",
   "metadata": {
    "papermill": {
     "duration": 0.109401,
     "end_time": "2019-05-10T18:22:18.006508",
     "exception": false,
     "start_time": "2019-05-10T18:22:17.897107",
     "status": "completed"
    },
    "tags": []
   },
   "source": [
    "This graph highlights that striking is more essential than grappling with seven of the ten champions being on or above the average ko victory line. \n",
    "\n",
    "Again grappling can still be very effective with four champions being above the mean submission victory percentage."
   ]
  },
  {
   "cell_type": "markdown",
   "metadata": {
    "papermill": {
     "duration": 0.138794,
     "end_time": "2019-05-10T18:22:18.254656",
     "exception": false,
     "start_time": "2019-05-10T18:22:18.115862",
     "status": "completed"
    },
    "tags": []
   },
   "source": [
    "## UFC Winrate vs Takedowns per Fight"
   ]
  },
  {
   "cell_type": "markdown",
   "metadata": {
    "papermill": {
     "duration": 0.127295,
     "end_time": "2019-05-10T18:22:18.514170",
     "exception": false,
     "start_time": "2019-05-10T18:22:18.386875",
     "status": "completed"
    },
    "tags": []
   },
   "source": [
    "Once again a new dataframe was created, with the columns being names, UFC wins, UFC fights and takedowns per fight"
   ]
  },
  {
   "cell_type": "code",
   "execution_count": 15,
   "metadata": {
    "papermill": {
     "duration": 0.172013,
     "end_time": "2019-05-10T18:22:18.789324",
     "exception": false,
     "start_time": "2019-05-10T18:22:18.617311",
     "status": "completed"
    },
    "tags": []
   },
   "outputs": [
    {
     "data": {
      "text/html": [
       "<div>\n",
       "<style scoped>\n",
       "    .dataframe tbody tr th:only-of-type {\n",
       "        vertical-align: middle;\n",
       "    }\n",
       "\n",
       "    .dataframe tbody tr th {\n",
       "        vertical-align: top;\n",
       "    }\n",
       "\n",
       "    .dataframe thead th {\n",
       "        text-align: right;\n",
       "    }\n",
       "</style>\n",
       "<table border=\"1\" class=\"dataframe\">\n",
       "  <thead>\n",
       "    <tr style=\"text-align: right;\">\n",
       "      <th></th>\n",
       "      <th>Name</th>\n",
       "      <th>UFC Wins</th>\n",
       "      <th>Total UFC Fights</th>\n",
       "      <th>takedAv_per</th>\n",
       "    </tr>\n",
       "  </thead>\n",
       "  <tbody>\n",
       "    <tr>\n",
       "      <th>0</th>\n",
       "      <td>Andrei Arlovski</td>\n",
       "      <td>16</td>\n",
       "      <td>28</td>\n",
       "      <td>0.56</td>\n",
       "    </tr>\n",
       "    <tr>\n",
       "      <th>1</th>\n",
       "      <td>Andrei Arlovski</td>\n",
       "      <td>16</td>\n",
       "      <td>28</td>\n",
       "      <td>0.56</td>\n",
       "    </tr>\n",
       "    <tr>\n",
       "      <th>2</th>\n",
       "      <td>Alistair Overeem</td>\n",
       "      <td>11</td>\n",
       "      <td>17</td>\n",
       "      <td>0.50</td>\n",
       "    </tr>\n",
       "    <tr>\n",
       "      <th>3</th>\n",
       "      <td>Cain Velasquez</td>\n",
       "      <td>12</td>\n",
       "      <td>15</td>\n",
       "      <td>4.59</td>\n",
       "    </tr>\n",
       "    <tr>\n",
       "      <th>4</th>\n",
       "      <td>Cain Velasquez</td>\n",
       "      <td>12</td>\n",
       "      <td>15</td>\n",
       "      <td>4.59</td>\n",
       "    </tr>\n",
       "  </tbody>\n",
       "</table>\n",
       "</div>"
      ],
      "text/plain": [
       "               Name  UFC Wins  Total UFC Fights  takedAv_per\n",
       "0   Andrei Arlovski        16                28         0.56\n",
       "1   Andrei Arlovski        16                28         0.56\n",
       "2  Alistair Overeem        11                17         0.50\n",
       "3    Cain Velasquez        12                15         4.59\n",
       "4    Cain Velasquez        12                15         4.59"
      ]
     },
     "execution_count": 15,
     "metadata": {},
     "output_type": "execute_result"
    }
   ],
   "source": [
    "UFC_win = main[['Name', 'UFC Wins','Total UFC Fights','takedAv_per']]\n",
    "UFC_win.head(5)"
   ]
  },
  {
   "cell_type": "markdown",
   "metadata": {
    "papermill": {
     "duration": 0.145138,
     "end_time": "2019-05-10T18:22:19.077812",
     "exception": false,
     "start_time": "2019-05-10T18:22:18.932674",
     "status": "completed"
    },
    "tags": []
   },
   "source": [
    "Win rate was calculated by dividing wins by no. of fights."
   ]
  },
  {
   "cell_type": "code",
   "execution_count": 16,
   "metadata": {
    "papermill": {
     "duration": 0.28003,
     "end_time": "2019-05-10T18:22:19.493811",
     "exception": false,
     "start_time": "2019-05-10T18:22:19.213781",
     "status": "completed"
    },
    "tags": []
   },
   "outputs": [
    {
     "name": "stderr",
     "output_type": "stream",
     "text": [
      "C:\\Users\\Lorcan Rooney\\Anaconda3\\envs\\env_name\\lib\\site-packages\\ipykernel_launcher.py:1: SettingWithCopyWarning: \n",
      "A value is trying to be set on a copy of a slice from a DataFrame.\n",
      "Try using .loc[row_indexer,col_indexer] = value instead\n",
      "\n",
      "See the caveats in the documentation: http://pandas.pydata.org/pandas-docs/stable/indexing.html#indexing-view-versus-copy\n",
      "  \"\"\"Entry point for launching an IPython kernel.\n"
     ]
    }
   ],
   "source": [
    "UFC_win['UFC_winrate'] = UFC_win['UFC Wins']/UFC_win['Total UFC Fights']\n"
   ]
  },
  {
   "cell_type": "markdown",
   "metadata": {
    "papermill": {
     "duration": 0.128074,
     "end_time": "2019-05-10T18:22:19.745879",
     "exception": false,
     "start_time": "2019-05-10T18:22:19.617805",
     "status": "completed"
    },
    "tags": []
   },
   "source": [
    "The fighters used were limited to those with over 2 fights"
   ]
  },
  {
   "cell_type": "code",
   "execution_count": 17,
   "metadata": {
    "papermill": {
     "duration": 0.17801,
     "end_time": "2019-05-10T18:22:20.032336",
     "exception": false,
     "start_time": "2019-05-10T18:22:19.854326",
     "status": "completed"
    },
    "tags": []
   },
   "outputs": [
    {
     "data": {
      "text/html": [
       "<div>\n",
       "<style scoped>\n",
       "    .dataframe tbody tr th:only-of-type {\n",
       "        vertical-align: middle;\n",
       "    }\n",
       "\n",
       "    .dataframe tbody tr th {\n",
       "        vertical-align: top;\n",
       "    }\n",
       "\n",
       "    .dataframe thead th {\n",
       "        text-align: right;\n",
       "    }\n",
       "</style>\n",
       "<table border=\"1\" class=\"dataframe\">\n",
       "  <thead>\n",
       "    <tr style=\"text-align: right;\">\n",
       "      <th></th>\n",
       "      <th>Name</th>\n",
       "      <th>UFC Wins</th>\n",
       "      <th>Total UFC Fights</th>\n",
       "      <th>takedAv_per</th>\n",
       "      <th>UFC_winrate</th>\n",
       "    </tr>\n",
       "  </thead>\n",
       "  <tbody>\n",
       "    <tr>\n",
       "      <th>0</th>\n",
       "      <td>Andrei Arlovski</td>\n",
       "      <td>16</td>\n",
       "      <td>28</td>\n",
       "      <td>0.56</td>\n",
       "      <td>0.571429</td>\n",
       "    </tr>\n",
       "    <tr>\n",
       "      <th>1</th>\n",
       "      <td>Andrei Arlovski</td>\n",
       "      <td>16</td>\n",
       "      <td>28</td>\n",
       "      <td>0.56</td>\n",
       "      <td>0.571429</td>\n",
       "    </tr>\n",
       "    <tr>\n",
       "      <th>2</th>\n",
       "      <td>Alistair Overeem</td>\n",
       "      <td>11</td>\n",
       "      <td>17</td>\n",
       "      <td>0.50</td>\n",
       "      <td>0.647059</td>\n",
       "    </tr>\n",
       "    <tr>\n",
       "      <th>3</th>\n",
       "      <td>Cain Velasquez</td>\n",
       "      <td>12</td>\n",
       "      <td>15</td>\n",
       "      <td>4.59</td>\n",
       "      <td>0.800000</td>\n",
       "    </tr>\n",
       "    <tr>\n",
       "      <th>4</th>\n",
       "      <td>Cain Velasquez</td>\n",
       "      <td>12</td>\n",
       "      <td>15</td>\n",
       "      <td>4.59</td>\n",
       "      <td>0.800000</td>\n",
       "    </tr>\n",
       "  </tbody>\n",
       "</table>\n",
       "</div>"
      ],
      "text/plain": [
       "               Name  UFC Wins  Total UFC Fights  takedAv_per  UFC_winrate\n",
       "0   Andrei Arlovski        16                28         0.56     0.571429\n",
       "1   Andrei Arlovski        16                28         0.56     0.571429\n",
       "2  Alistair Overeem        11                17         0.50     0.647059\n",
       "3    Cain Velasquez        12                15         4.59     0.800000\n",
       "4    Cain Velasquez        12                15         4.59     0.800000"
      ]
     },
     "execution_count": 17,
     "metadata": {},
     "output_type": "execute_result"
    }
   ],
   "source": [
    "UFC_win = UFC_win[UFC_win['Total UFC Fights'] > 2.0]\n",
    "UFC_win.head(5)"
   ]
  },
  {
   "cell_type": "markdown",
   "metadata": {
    "papermill": {
     "duration": 0.156078,
     "end_time": "2019-05-10T18:22:20.326552",
     "exception": false,
     "start_time": "2019-05-10T18:22:20.170474",
     "status": "completed"
    },
    "tags": []
   },
   "source": [
    "The graph of winrate vs takedowns was plotted."
   ]
  },
  {
   "cell_type": "code",
   "execution_count": 18,
   "metadata": {
    "papermill": {
     "duration": 1.099391,
     "end_time": "2019-05-10T18:22:21.601860",
     "exception": false,
     "start_time": "2019-05-10T18:22:20.502469",
     "status": "completed"
    },
    "tags": []
   },
   "outputs": [
    {
     "data": {
      "text/plain": [
       "<matplotlib.legend.Legend at 0x1f07a150208>"
      ]
     },
     "execution_count": 18,
     "metadata": {},
     "output_type": "execute_result"
    },
    {
     "data": {
      "image/png": "[encoded data removed]",
      "text/plain": [
       "<Figure size 720x576 with 1 Axes>"
      ]
     },
     "metadata": {
      "needs_background": "light"
     },
     "output_type": "display_data"
    }
   ],
   "source": [
    "fig, ax = plt.subplots(figsize=(10, 8))\n",
    "\n",
    "UFC_win.plot.scatter(x = \"UFC_winrate\", y =\"takedAv_per\", c='black', ax=ax, s=40, alpha=.5, label =  'Fighter')\n",
    "ax.axhline(y=2)\n",
    "\n",
    "plt.title(\"Takedowns per Fight vs UFC Winrate\", fontsize=24)\n",
    "plt.xlabel(\"UFC Winrate\")\n",
    "plt.ylabel(\"Takedowns per Fight\")\n",
    "\n",
    "ax.legend()"
   ]
  },
  {
   "cell_type": "markdown",
   "metadata": {
    "papermill": {
     "duration": 0.13348,
     "end_time": "2019-05-10T18:22:21.918450",
     "exception": false,
     "start_time": "2019-05-10T18:22:21.784970",
     "status": "completed"
    },
    "tags": []
   },
   "source": [
    "There doesn't seem to be much correlation. We decided to draw a line at 2 because maybe there's  a slight correlation once you go over two takedowns per fight but nothing concrete. Some non wrestling focused fighters might throw one or two takedowns per fight just to mix things up, while throwing more than two might indicate that you are a much more natural wrestler."
   ]
  }
 ],
 "metadata": {
  "kernelspec": {
   "display_name": "Python 3",
   "language": "python",
   "name": "python3"
  },
  "language_info": {
   "codemirror_mode": {
    "name": "ipython",
    "version": 3
   },
   "file_extension": ".py",
   "mimetype": "text/x-python",
   "name": "python",
   "nbconvert_exporter": "python",
   "pygments_lexer": "ipython3",
   "version": "3.7.1"
  },
  "papermill": {
   "duration": 23.32802,
   "end_time": "2019-05-10T18:22:23.436557",
   "environment_variables": {},
   "exception": null,
   "input_path": "C:\\Users\\Lorcan Rooney\\Desktop\\Project Baby\\3200_rq2.ipynb",
   "output_path": "C:\\Users\\Lorcan Rooney\\Desktop\\Project Baby\\3200_rq2.ipynb",
   "parameters": {},
   "start_time": "2019-05-10T18:22:00.108537",
   "version": "1.0.0"
  }
 },
 "nbformat": 4,
 "nbformat_minor": 2
}