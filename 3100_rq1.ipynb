{
 "cells": [
  {
   "cell_type": "markdown",
   "metadata": {
    "papermill": {
     "duration": 0.140543,
     "end_time": "2019-05-10T18:21:07.241643",
     "exception": false,
     "start_time": "2019-05-10T18:21:07.101100",
     "status": "completed"
    },
    "tags": []
   },
   "source": [
    "# RQ1: How do fighters differ physically, weight class to weight class?"
   ]
  },
  {
   "cell_type": "code",
   "execution_count": 1,
   "metadata": {
    "papermill": {
     "duration": 2.061977,
     "end_time": "2019-05-10T18:21:09.459871",
     "exception": false,
     "start_time": "2019-05-10T18:21:07.397894",
     "status": "completed"
    },
    "tags": []
   },
   "outputs": [],
   "source": [
    "import pandas as pd\n",
    "import matplotlib.pyplot as plt\n",
    "%matplotlib inline\n",
    "import numpy as np"
   ]
  },
  {
   "cell_type": "code",
   "execution_count": 2,
   "metadata": {
    "papermill": {
     "duration": 0.403304,
     "end_time": "2019-05-10T18:21:10.030928",
     "exception": false,
     "start_time": "2019-05-10T18:21:09.627624",
     "status": "completed"
    },
    "tags": []
   },
   "outputs": [],
   "source": [
    "main = pd.read_csv(\"final.csv\")"
   ]
  },
  {
   "cell_type": "markdown",
   "metadata": {
    "papermill": {
     "duration": 0.151998,
     "end_time": "2019-05-10T18:21:10.444217",
     "exception": false,
     "start_time": "2019-05-10T18:21:10.292219",
     "status": "completed"
    },
    "tags": []
   },
   "source": [
    "# Height & Age Analysis"
   ]
  },
  {
   "cell_type": "markdown",
   "metadata": {
    "papermill": {
     "duration": 0.192001,
     "end_time": "2019-05-10T18:21:10.888706",
     "exception": false,
     "start_time": "2019-05-10T18:21:10.696705",
     "status": "completed"
    },
    "tags": []
   },
   "source": [
    "1) Created a new column 'Avg_Ht.' in the main df"
   ]
  },
  {
   "cell_type": "code",
   "execution_count": 3,
   "metadata": {
    "papermill": {
     "duration": 0.234378,
     "end_time": "2019-05-10T18:21:11.304684",
     "exception": false,
     "start_time": "2019-05-10T18:21:11.070306",
     "status": "completed"
    },
    "tags": []
   },
   "outputs": [],
   "source": [
    "main['Avg_Ht.'] = main.groupby('Weight Class')['Ht.'].transform('mean')"
   ]
  },
  {
   "cell_type": "markdown",
   "metadata": {
    "papermill": {
     "duration": 0.155148,
     "end_time": "2019-05-10T18:21:11.660090",
     "exception": false,
     "start_time": "2019-05-10T18:21:11.504942",
     "status": "completed"
    },
    "tags": []
   },
   "source": [
    "2) Made a column to convert age to an Int and call it 'age_int'. \n",
    " We then got the fighter's average age per weight class.\n",
    " Using the same process in the Top 5 dataframe, we got the average age of the top 5 fighters in each Weight Class."
   ]
  },
  {
   "cell_type": "code",
   "execution_count": 4,
   "metadata": {
    "papermill": {
     "duration": 0.209307,
     "end_time": "2019-05-10T18:21:12.015065",
     "exception": false,
     "start_time": "2019-05-10T18:21:11.805758",
     "status": "completed"
    },
    "tags": []
   },
   "outputs": [],
   "source": [
    "main['age_int'] = pd.to_numeric(main['Age'])\n",
    "main['avg_age'] = main.groupby('Weight Class')['age_int'].transform('mean')\n"
   ]
  },
  {
   "cell_type": "markdown",
   "metadata": {
    "papermill": {
     "duration": 0.164116,
     "end_time": "2019-05-10T18:21:12.357255",
     "exception": false,
     "start_time": "2019-05-10T18:21:12.193139",
     "status": "completed"
    },
    "tags": []
   },
   "source": [
    "Below is our 'champs' dataframe. These are the fighters with a rank of 0."
   ]
  },
  {
   "cell_type": "markdown",
   "metadata": {
    "papermill": {
     "duration": 0.18324,
     "end_time": "2019-05-10T18:21:12.811758",
     "exception": false,
     "start_time": "2019-05-10T18:21:12.628518",
     "status": "completed"
    },
    "tags": []
   },
   "source": [
    "Note: There is currently no Bantamweight champion and Amanda Nunes is champion of two divisions. Hence there is only 10 champs in the dataframe (though there's 12 weight divisions)."
   ]
  },
  {
   "cell_type": "code",
   "execution_count": 5,
   "metadata": {
    "papermill": {
     "duration": 0.26319,
     "end_time": "2019-05-10T18:21:13.231172",
     "exception": false,
     "start_time": "2019-05-10T18:21:12.967982",
     "status": "completed"
    },
    "tags": []
   },
   "outputs": [
    {
     "data": {
      "text/plain": [
       "(11, 42)"
      ]
     },
     "execution_count": 5,
     "metadata": {},
     "output_type": "execute_result"
    }
   ],
   "source": [
    "champs = main[main['Rank']==0].drop_duplicates('Weight Class').copy()\n",
    "champs.shape"
   ]
  },
  {
   "cell_type": "markdown",
   "metadata": {
    "papermill": {
     "duration": 0.243981,
     "end_time": "2019-05-10T18:21:13.727169",
     "exception": false,
     "start_time": "2019-05-10T18:21:13.483188",
     "status": "completed"
    },
    "tags": []
   },
   "source": [
    "Here we have the top5 dataframe - a list of the top 5 fighters in each weight class"
   ]
  },
  {
   "cell_type": "code",
   "execution_count": 6,
   "metadata": {
    "papermill": {
     "duration": 0.32987,
     "end_time": "2019-05-10T18:21:14.253013",
     "exception": false,
     "start_time": "2019-05-10T18:21:13.923143",
     "status": "completed"
    },
    "tags": []
   },
   "outputs": [
    {
     "data": {
      "text/html": [
       "<div>\n",
       "<style scoped>\n",
       "    .dataframe tbody tr th:only-of-type {\n",
       "        vertical-align: middle;\n",
       "    }\n",
       "\n",
       "    .dataframe tbody tr th {\n",
       "        vertical-align: top;\n",
       "    }\n",
       "\n",
       "    .dataframe thead th {\n",
       "        text-align: right;\n",
       "    }\n",
       "</style>\n",
       "<table border=\"1\" class=\"dataframe\">\n",
       "  <thead>\n",
       "    <tr style=\"text-align: right;\">\n",
       "      <th></th>\n",
       "      <th>Name</th>\n",
       "      <th>Age</th>\n",
       "      <th>Ht.</th>\n",
       "      <th>Nickname</th>\n",
       "      <th>Endeavor record</th>\n",
       "      <th>MMA record</th>\n",
       "      <th>Weight Class</th>\n",
       "      <th>Weight Class Index</th>\n",
       "      <th>Overall Wins</th>\n",
       "      <th>Overall Losses</th>\n",
       "      <th>...</th>\n",
       "      <th>grnd_stk</th>\n",
       "      <th>Rank</th>\n",
       "      <th>Reign(total)</th>\n",
       "      <th>Defenses</th>\n",
       "      <th>ex_champ</th>\n",
       "      <th>Total UFC Fights</th>\n",
       "      <th>Total Overall Fights</th>\n",
       "      <th>Avg_Ht.</th>\n",
       "      <th>age_int</th>\n",
       "      <th>avg_age</th>\n",
       "    </tr>\n",
       "  </thead>\n",
       "  <tbody>\n",
       "    <tr>\n",
       "      <th>8</th>\n",
       "      <td>Daniel Cormier</td>\n",
       "      <td>40</td>\n",
       "      <td>70.8660</td>\n",
       "      <td>DC</td>\n",
       "      <td>15 1 (1 NC)</td>\n",
       "      <td>22 1 (1 NC)</td>\n",
       "      <td>Heavyweight</td>\n",
       "      <td>0</td>\n",
       "      <td>22.0</td>\n",
       "      <td>1.0</td>\n",
       "      <td>...</td>\n",
       "      <td>135.0</td>\n",
       "      <td>0.0</td>\n",
       "      <td>303</td>\n",
       "      <td>1.0</td>\n",
       "      <td>True</td>\n",
       "      <td>16</td>\n",
       "      <td>23.0</td>\n",
       "      <td>74.960480</td>\n",
       "      <td>40</td>\n",
       "      <td>33.375000</td>\n",
       "    </tr>\n",
       "    <tr>\n",
       "      <th>12</th>\n",
       "      <td>Stipe Miocic</td>\n",
       "      <td>36</td>\n",
       "      <td>75.9841</td>\n",
       "      <td>NaN</td>\n",
       "      <td>12 3</td>\n",
       "      <td>18 3</td>\n",
       "      <td>Heavyweight</td>\n",
       "      <td>0</td>\n",
       "      <td>18.0</td>\n",
       "      <td>3.0</td>\n",
       "      <td>...</td>\n",
       "      <td>162.0</td>\n",
       "      <td>1.0</td>\n",
       "      <td>785</td>\n",
       "      <td>1.0</td>\n",
       "      <td>True</td>\n",
       "      <td>15</td>\n",
       "      <td>21.0</td>\n",
       "      <td>74.960480</td>\n",
       "      <td>36</td>\n",
       "      <td>33.375000</td>\n",
       "    </tr>\n",
       "    <tr>\n",
       "      <th>18</th>\n",
       "      <td>Francis Ngannou</td>\n",
       "      <td>32</td>\n",
       "      <td>75.9841</td>\n",
       "      <td>The Predator</td>\n",
       "      <td>8 2</td>\n",
       "      <td>13 3</td>\n",
       "      <td>Heavyweight</td>\n",
       "      <td>0</td>\n",
       "      <td>13.0</td>\n",
       "      <td>3.0</td>\n",
       "      <td>...</td>\n",
       "      <td>22.0</td>\n",
       "      <td>2.0</td>\n",
       "      <td>NaN</td>\n",
       "      <td>NaN</td>\n",
       "      <td>False</td>\n",
       "      <td>10</td>\n",
       "      <td>16.0</td>\n",
       "      <td>74.960480</td>\n",
       "      <td>32</td>\n",
       "      <td>33.375000</td>\n",
       "    </tr>\n",
       "    <tr>\n",
       "      <th>19</th>\n",
       "      <td>Curtis Blaydes</td>\n",
       "      <td>28</td>\n",
       "      <td>75.9841</td>\n",
       "      <td>Razor</td>\n",
       "      <td>6 2 (1 NC)</td>\n",
       "      <td>11 2 (1 NC)</td>\n",
       "      <td>Heavyweight</td>\n",
       "      <td>0</td>\n",
       "      <td>11.0</td>\n",
       "      <td>2.0</td>\n",
       "      <td>...</td>\n",
       "      <td>155.0</td>\n",
       "      <td>4.0</td>\n",
       "      <td>NaN</td>\n",
       "      <td>NaN</td>\n",
       "      <td>False</td>\n",
       "      <td>8</td>\n",
       "      <td>13.0</td>\n",
       "      <td>74.960480</td>\n",
       "      <td>28</td>\n",
       "      <td>33.375000</td>\n",
       "    </tr>\n",
       "    <tr>\n",
       "      <th>42</th>\n",
       "      <td>Jon Jones</td>\n",
       "      <td>31</td>\n",
       "      <td>75.9841</td>\n",
       "      <td>Bones</td>\n",
       "      <td>18 1 (1 NC)</td>\n",
       "      <td>24 1 (1 NC)</td>\n",
       "      <td>Light heavyweight</td>\n",
       "      <td>1</td>\n",
       "      <td>24.0</td>\n",
       "      <td>1.0</td>\n",
       "      <td>...</td>\n",
       "      <td>262.0</td>\n",
       "      <td>0.0</td>\n",
       "      <td>1,501</td>\n",
       "      <td>1.0</td>\n",
       "      <td>True</td>\n",
       "      <td>19</td>\n",
       "      <td>25.0</td>\n",
       "      <td>74.263802</td>\n",
       "      <td>31</td>\n",
       "      <td>31.326087</td>\n",
       "    </tr>\n",
       "  </tbody>\n",
       "</table>\n",
       "<p>5 rows × 42 columns</p>\n",
       "</div>"
      ],
      "text/plain": [
       "               Name  Age      Ht.      Nickname Endeavor record   MMA record  \\\n",
       "8    Daniel Cormier   40  70.8660            DC     15 1 (1 NC)  22 1 (1 NC)   \n",
       "12     Stipe Miocic   36  75.9841           NaN            12 3         18 3   \n",
       "18  Francis Ngannou   32  75.9841  The Predator             8 2         13 3   \n",
       "19   Curtis Blaydes   28  75.9841         Razor      6 2 (1 NC)  11 2 (1 NC)   \n",
       "42        Jon Jones   31  75.9841         Bones     18 1 (1 NC)  24 1 (1 NC)   \n",
       "\n",
       "         Weight Class  Weight Class Index  Overall Wins  Overall Losses  \\\n",
       "8         Heavyweight                   0          22.0             1.0   \n",
       "12        Heavyweight                   0          18.0             3.0   \n",
       "18        Heavyweight                   0          13.0             3.0   \n",
       "19        Heavyweight                   0          11.0             2.0   \n",
       "42  Light heavyweight                   1          24.0             1.0   \n",
       "\n",
       "      ...      grnd_stk  Rank  Reign(total)  Defenses  ex_champ  \\\n",
       "8     ...         135.0   0.0           303       1.0      True   \n",
       "12    ...         162.0   1.0           785       1.0      True   \n",
       "18    ...          22.0   2.0           NaN       NaN     False   \n",
       "19    ...         155.0   4.0           NaN       NaN     False   \n",
       "42    ...         262.0   0.0         1,501       1.0      True   \n",
       "\n",
       "    Total UFC Fights  Total Overall Fights    Avg_Ht.  age_int    avg_age  \n",
       "8                 16                  23.0  74.960480       40  33.375000  \n",
       "12                15                  21.0  74.960480       36  33.375000  \n",
       "18                10                  16.0  74.960480       32  33.375000  \n",
       "19                 8                  13.0  74.960480       28  33.375000  \n",
       "42                19                  25.0  74.263802       31  31.326087  \n",
       "\n",
       "[5 rows x 42 columns]"
      ]
     },
     "execution_count": 6,
     "metadata": {},
     "output_type": "execute_result"
    }
   ],
   "source": [
    "top5_df = main[main.Rank.isin(range(5))].drop_duplicates('Name').copy()\n",
    "top5_df.head(5)"
   ]
  },
  {
   "cell_type": "markdown",
   "metadata": {
    "papermill": {
     "duration": 0.181243,
     "end_time": "2019-05-10T18:21:14.610114",
     "exception": false,
     "start_time": "2019-05-10T18:21:14.428871",
     "status": "completed"
    },
    "tags": []
   },
   "source": [
    "3) Here, we wanted to get the average age of the top 5 fighters per weight class. This column is called 'avg_age_top5'.\n",
    "\n",
    "We did the same for the height of the top 5 and created a similar column called 'avg_height_top5'."
   ]
  },
  {
   "cell_type": "code",
   "execution_count": 7,
   "metadata": {
    "papermill": {
     "duration": 0.332182,
     "end_time": "2019-05-10T18:21:15.107908",
     "exception": false,
     "start_time": "2019-05-10T18:21:14.775726",
     "status": "completed"
    },
    "tags": []
   },
   "outputs": [
    {
     "data": {
      "text/html": [
       "<div>\n",
       "<style scoped>\n",
       "    .dataframe tbody tr th:only-of-type {\n",
       "        vertical-align: middle;\n",
       "    }\n",
       "\n",
       "    .dataframe tbody tr th {\n",
       "        vertical-align: top;\n",
       "    }\n",
       "\n",
       "    .dataframe thead th {\n",
       "        text-align: right;\n",
       "    }\n",
       "</style>\n",
       "<table border=\"1\" class=\"dataframe\">\n",
       "  <thead>\n",
       "    <tr style=\"text-align: right;\">\n",
       "      <th></th>\n",
       "      <th>Name</th>\n",
       "      <th>Age</th>\n",
       "      <th>Ht.</th>\n",
       "      <th>Nickname</th>\n",
       "      <th>Endeavor record</th>\n",
       "      <th>MMA record</th>\n",
       "      <th>Weight Class</th>\n",
       "      <th>Weight Class Index</th>\n",
       "      <th>Overall Wins</th>\n",
       "      <th>Overall Losses</th>\n",
       "      <th>...</th>\n",
       "      <th>Defenses</th>\n",
       "      <th>ex_champ</th>\n",
       "      <th>Total UFC Fights</th>\n",
       "      <th>Total Overall Fights</th>\n",
       "      <th>Avg_Ht.</th>\n",
       "      <th>age_int</th>\n",
       "      <th>avg_age</th>\n",
       "      <th>age_int_top5</th>\n",
       "      <th>avg_age_top5</th>\n",
       "      <th>avg_height_top5</th>\n",
       "    </tr>\n",
       "  </thead>\n",
       "  <tbody>\n",
       "    <tr>\n",
       "      <th>8</th>\n",
       "      <td>Daniel Cormier</td>\n",
       "      <td>40</td>\n",
       "      <td>70.8660</td>\n",
       "      <td>DC</td>\n",
       "      <td>15 1 (1 NC)</td>\n",
       "      <td>22 1 (1 NC)</td>\n",
       "      <td>Heavyweight</td>\n",
       "      <td>0</td>\n",
       "      <td>22.0</td>\n",
       "      <td>1.0</td>\n",
       "      <td>...</td>\n",
       "      <td>1.0</td>\n",
       "      <td>True</td>\n",
       "      <td>16</td>\n",
       "      <td>23.0</td>\n",
       "      <td>74.960480</td>\n",
       "      <td>40</td>\n",
       "      <td>33.375000</td>\n",
       "      <td>40</td>\n",
       "      <td>34.0</td>\n",
       "      <td>74.704575</td>\n",
       "    </tr>\n",
       "    <tr>\n",
       "      <th>12</th>\n",
       "      <td>Stipe Miocic</td>\n",
       "      <td>36</td>\n",
       "      <td>75.9841</td>\n",
       "      <td>NaN</td>\n",
       "      <td>12 3</td>\n",
       "      <td>18 3</td>\n",
       "      <td>Heavyweight</td>\n",
       "      <td>0</td>\n",
       "      <td>18.0</td>\n",
       "      <td>3.0</td>\n",
       "      <td>...</td>\n",
       "      <td>1.0</td>\n",
       "      <td>True</td>\n",
       "      <td>15</td>\n",
       "      <td>21.0</td>\n",
       "      <td>74.960480</td>\n",
       "      <td>36</td>\n",
       "      <td>33.375000</td>\n",
       "      <td>36</td>\n",
       "      <td>34.0</td>\n",
       "      <td>74.704575</td>\n",
       "    </tr>\n",
       "    <tr>\n",
       "      <th>18</th>\n",
       "      <td>Francis Ngannou</td>\n",
       "      <td>32</td>\n",
       "      <td>75.9841</td>\n",
       "      <td>The Predator</td>\n",
       "      <td>8 2</td>\n",
       "      <td>13 3</td>\n",
       "      <td>Heavyweight</td>\n",
       "      <td>0</td>\n",
       "      <td>13.0</td>\n",
       "      <td>3.0</td>\n",
       "      <td>...</td>\n",
       "      <td>NaN</td>\n",
       "      <td>False</td>\n",
       "      <td>10</td>\n",
       "      <td>16.0</td>\n",
       "      <td>74.960480</td>\n",
       "      <td>32</td>\n",
       "      <td>33.375000</td>\n",
       "      <td>32</td>\n",
       "      <td>34.0</td>\n",
       "      <td>74.704575</td>\n",
       "    </tr>\n",
       "    <tr>\n",
       "      <th>19</th>\n",
       "      <td>Curtis Blaydes</td>\n",
       "      <td>28</td>\n",
       "      <td>75.9841</td>\n",
       "      <td>Razor</td>\n",
       "      <td>6 2 (1 NC)</td>\n",
       "      <td>11 2 (1 NC)</td>\n",
       "      <td>Heavyweight</td>\n",
       "      <td>0</td>\n",
       "      <td>11.0</td>\n",
       "      <td>2.0</td>\n",
       "      <td>...</td>\n",
       "      <td>NaN</td>\n",
       "      <td>False</td>\n",
       "      <td>8</td>\n",
       "      <td>13.0</td>\n",
       "      <td>74.960480</td>\n",
       "      <td>28</td>\n",
       "      <td>33.375000</td>\n",
       "      <td>28</td>\n",
       "      <td>34.0</td>\n",
       "      <td>74.704575</td>\n",
       "    </tr>\n",
       "    <tr>\n",
       "      <th>42</th>\n",
       "      <td>Jon Jones</td>\n",
       "      <td>31</td>\n",
       "      <td>75.9841</td>\n",
       "      <td>Bones</td>\n",
       "      <td>18 1 (1 NC)</td>\n",
       "      <td>24 1 (1 NC)</td>\n",
       "      <td>Light heavyweight</td>\n",
       "      <td>1</td>\n",
       "      <td>24.0</td>\n",
       "      <td>1.0</td>\n",
       "      <td>...</td>\n",
       "      <td>1.0</td>\n",
       "      <td>True</td>\n",
       "      <td>19</td>\n",
       "      <td>25.0</td>\n",
       "      <td>74.263802</td>\n",
       "      <td>31</td>\n",
       "      <td>31.326087</td>\n",
       "      <td>31</td>\n",
       "      <td>32.0</td>\n",
       "      <td>75.590400</td>\n",
       "    </tr>\n",
       "  </tbody>\n",
       "</table>\n",
       "<p>5 rows × 45 columns</p>\n",
       "</div>"
      ],
      "text/plain": [
       "               Name  Age      Ht.      Nickname Endeavor record   MMA record  \\\n",
       "8    Daniel Cormier   40  70.8660            DC     15 1 (1 NC)  22 1 (1 NC)   \n",
       "12     Stipe Miocic   36  75.9841           NaN            12 3         18 3   \n",
       "18  Francis Ngannou   32  75.9841  The Predator             8 2         13 3   \n",
       "19   Curtis Blaydes   28  75.9841         Razor      6 2 (1 NC)  11 2 (1 NC)   \n",
       "42        Jon Jones   31  75.9841         Bones     18 1 (1 NC)  24 1 (1 NC)   \n",
       "\n",
       "         Weight Class  Weight Class Index  Overall Wins  Overall Losses  \\\n",
       "8         Heavyweight                   0          22.0             1.0   \n",
       "12        Heavyweight                   0          18.0             3.0   \n",
       "18        Heavyweight                   0          13.0             3.0   \n",
       "19        Heavyweight                   0          11.0             2.0   \n",
       "42  Light heavyweight                   1          24.0             1.0   \n",
       "\n",
       "         ...         Defenses  ex_champ  Total UFC Fights  \\\n",
       "8        ...              1.0      True                16   \n",
       "12       ...              1.0      True                15   \n",
       "18       ...              NaN     False                10   \n",
       "19       ...              NaN     False                 8   \n",
       "42       ...              1.0      True                19   \n",
       "\n",
       "    Total Overall Fights    Avg_Ht.  age_int    avg_age  age_int_top5  \\\n",
       "8                   23.0  74.960480       40  33.375000            40   \n",
       "12                  21.0  74.960480       36  33.375000            36   \n",
       "18                  16.0  74.960480       32  33.375000            32   \n",
       "19                  13.0  74.960480       28  33.375000            28   \n",
       "42                  25.0  74.263802       31  31.326087            31   \n",
       "\n",
       "    avg_age_top5  avg_height_top5  \n",
       "8           34.0        74.704575  \n",
       "12          34.0        74.704575  \n",
       "18          34.0        74.704575  \n",
       "19          34.0        74.704575  \n",
       "42          32.0        75.590400  \n",
       "\n",
       "[5 rows x 45 columns]"
      ]
     },
     "execution_count": 7,
     "metadata": {},
     "output_type": "execute_result"
    }
   ],
   "source": [
    "top5_df['age_int_top5'] = pd.to_numeric(top5_df['Age'])\n",
    "top5_df['avg_age_top5'] = top5_df.groupby('Weight Class')['age_int_top5'].transform('mean')\n",
    "top5_df.head()\n",
    "top5_df['avg_height_top5'] = top5_df.groupby('Weight Class')['Ht.'].transform('mean')\n",
    "top5_df.head(5)"
   ]
  },
  {
   "cell_type": "code",
   "execution_count": 8,
   "metadata": {
    "papermill": {
     "duration": 0.416048,
     "end_time": "2019-05-10T18:21:15.771958",
     "exception": false,
     "start_time": "2019-05-10T18:21:15.355910",
     "status": "completed"
    },
    "tags": []
   },
   "outputs": [
    {
     "data": {
      "text/html": [
       "<div>\n",
       "<style scoped>\n",
       "    .dataframe tbody tr th:only-of-type {\n",
       "        vertical-align: middle;\n",
       "    }\n",
       "\n",
       "    .dataframe tbody tr th {\n",
       "        vertical-align: top;\n",
       "    }\n",
       "\n",
       "    .dataframe thead th {\n",
       "        text-align: right;\n",
       "    }\n",
       "</style>\n",
       "<table border=\"1\" class=\"dataframe\">\n",
       "  <thead>\n",
       "    <tr style=\"text-align: right;\">\n",
       "      <th></th>\n",
       "      <th>Name</th>\n",
       "      <th>Age</th>\n",
       "      <th>Ht.</th>\n",
       "      <th>Nickname</th>\n",
       "      <th>Endeavor record</th>\n",
       "      <th>MMA record</th>\n",
       "      <th>Weight Class</th>\n",
       "      <th>Weight Class Index</th>\n",
       "      <th>Overall Wins</th>\n",
       "      <th>Overall Losses</th>\n",
       "      <th>...</th>\n",
       "      <th>Defenses</th>\n",
       "      <th>ex_champ</th>\n",
       "      <th>Total UFC Fights</th>\n",
       "      <th>Total Overall Fights</th>\n",
       "      <th>Avg_Ht.</th>\n",
       "      <th>age_int</th>\n",
       "      <th>avg_age</th>\n",
       "      <th>age_int_top5</th>\n",
       "      <th>avg_age_top5</th>\n",
       "      <th>avg_height_top5</th>\n",
       "    </tr>\n",
       "  </thead>\n",
       "  <tbody>\n",
       "    <tr>\n",
       "      <th>8</th>\n",
       "      <td>Daniel Cormier</td>\n",
       "      <td>40</td>\n",
       "      <td>70.8660</td>\n",
       "      <td>DC</td>\n",
       "      <td>15 1 (1 NC)</td>\n",
       "      <td>22 1 (1 NC)</td>\n",
       "      <td>Heavyweight</td>\n",
       "      <td>0</td>\n",
       "      <td>22.0</td>\n",
       "      <td>1.0</td>\n",
       "      <td>...</td>\n",
       "      <td>1.0</td>\n",
       "      <td>True</td>\n",
       "      <td>16</td>\n",
       "      <td>23.0</td>\n",
       "      <td>74.960480</td>\n",
       "      <td>40</td>\n",
       "      <td>33.375000</td>\n",
       "      <td>40</td>\n",
       "      <td>34.0</td>\n",
       "      <td>74.704575</td>\n",
       "    </tr>\n",
       "    <tr>\n",
       "      <th>12</th>\n",
       "      <td>Stipe Miocic</td>\n",
       "      <td>36</td>\n",
       "      <td>75.9841</td>\n",
       "      <td>NaN</td>\n",
       "      <td>12 3</td>\n",
       "      <td>18 3</td>\n",
       "      <td>Heavyweight</td>\n",
       "      <td>0</td>\n",
       "      <td>18.0</td>\n",
       "      <td>3.0</td>\n",
       "      <td>...</td>\n",
       "      <td>1.0</td>\n",
       "      <td>True</td>\n",
       "      <td>15</td>\n",
       "      <td>21.0</td>\n",
       "      <td>74.960480</td>\n",
       "      <td>36</td>\n",
       "      <td>33.375000</td>\n",
       "      <td>36</td>\n",
       "      <td>34.0</td>\n",
       "      <td>74.704575</td>\n",
       "    </tr>\n",
       "    <tr>\n",
       "      <th>18</th>\n",
       "      <td>Francis Ngannou</td>\n",
       "      <td>32</td>\n",
       "      <td>75.9841</td>\n",
       "      <td>The Predator</td>\n",
       "      <td>8 2</td>\n",
       "      <td>13 3</td>\n",
       "      <td>Heavyweight</td>\n",
       "      <td>0</td>\n",
       "      <td>13.0</td>\n",
       "      <td>3.0</td>\n",
       "      <td>...</td>\n",
       "      <td>NaN</td>\n",
       "      <td>False</td>\n",
       "      <td>10</td>\n",
       "      <td>16.0</td>\n",
       "      <td>74.960480</td>\n",
       "      <td>32</td>\n",
       "      <td>33.375000</td>\n",
       "      <td>32</td>\n",
       "      <td>34.0</td>\n",
       "      <td>74.704575</td>\n",
       "    </tr>\n",
       "    <tr>\n",
       "      <th>19</th>\n",
       "      <td>Curtis Blaydes</td>\n",
       "      <td>28</td>\n",
       "      <td>75.9841</td>\n",
       "      <td>Razor</td>\n",
       "      <td>6 2 (1 NC)</td>\n",
       "      <td>11 2 (1 NC)</td>\n",
       "      <td>Heavyweight</td>\n",
       "      <td>0</td>\n",
       "      <td>11.0</td>\n",
       "      <td>2.0</td>\n",
       "      <td>...</td>\n",
       "      <td>NaN</td>\n",
       "      <td>False</td>\n",
       "      <td>8</td>\n",
       "      <td>13.0</td>\n",
       "      <td>74.960480</td>\n",
       "      <td>28</td>\n",
       "      <td>33.375000</td>\n",
       "      <td>28</td>\n",
       "      <td>34.0</td>\n",
       "      <td>74.704575</td>\n",
       "    </tr>\n",
       "    <tr>\n",
       "      <th>42</th>\n",
       "      <td>Jon Jones</td>\n",
       "      <td>31</td>\n",
       "      <td>75.9841</td>\n",
       "      <td>Bones</td>\n",
       "      <td>18 1 (1 NC)</td>\n",
       "      <td>24 1 (1 NC)</td>\n",
       "      <td>Light heavyweight</td>\n",
       "      <td>1</td>\n",
       "      <td>24.0</td>\n",
       "      <td>1.0</td>\n",
       "      <td>...</td>\n",
       "      <td>1.0</td>\n",
       "      <td>True</td>\n",
       "      <td>19</td>\n",
       "      <td>25.0</td>\n",
       "      <td>74.263802</td>\n",
       "      <td>31</td>\n",
       "      <td>31.326087</td>\n",
       "      <td>31</td>\n",
       "      <td>32.0</td>\n",
       "      <td>75.590400</td>\n",
       "    </tr>\n",
       "  </tbody>\n",
       "</table>\n",
       "<p>5 rows × 45 columns</p>\n",
       "</div>"
      ],
      "text/plain": [
       "               Name  Age      Ht.      Nickname Endeavor record   MMA record  \\\n",
       "8    Daniel Cormier   40  70.8660            DC     15 1 (1 NC)  22 1 (1 NC)   \n",
       "12     Stipe Miocic   36  75.9841           NaN            12 3         18 3   \n",
       "18  Francis Ngannou   32  75.9841  The Predator             8 2         13 3   \n",
       "19   Curtis Blaydes   28  75.9841         Razor      6 2 (1 NC)  11 2 (1 NC)   \n",
       "42        Jon Jones   31  75.9841         Bones     18 1 (1 NC)  24 1 (1 NC)   \n",
       "\n",
       "         Weight Class  Weight Class Index  Overall Wins  Overall Losses  \\\n",
       "8         Heavyweight                   0          22.0             1.0   \n",
       "12        Heavyweight                   0          18.0             3.0   \n",
       "18        Heavyweight                   0          13.0             3.0   \n",
       "19        Heavyweight                   0          11.0             2.0   \n",
       "42  Light heavyweight                   1          24.0             1.0   \n",
       "\n",
       "         ...         Defenses  ex_champ  Total UFC Fights  \\\n",
       "8        ...              1.0      True                16   \n",
       "12       ...              1.0      True                15   \n",
       "18       ...              NaN     False                10   \n",
       "19       ...              NaN     False                 8   \n",
       "42       ...              1.0      True                19   \n",
       "\n",
       "    Total Overall Fights    Avg_Ht.  age_int    avg_age  age_int_top5  \\\n",
       "8                   23.0  74.960480       40  33.375000            40   \n",
       "12                  21.0  74.960480       36  33.375000            36   \n",
       "18                  16.0  74.960480       32  33.375000            32   \n",
       "19                  13.0  74.960480       28  33.375000            28   \n",
       "42                  25.0  74.263802       31  31.326087            31   \n",
       "\n",
       "    avg_age_top5  avg_height_top5  \n",
       "8           34.0        74.704575  \n",
       "12          34.0        74.704575  \n",
       "18          34.0        74.704575  \n",
       "19          34.0        74.704575  \n",
       "42          32.0        75.590400  \n",
       "\n",
       "[5 rows x 45 columns]"
      ]
     },
     "execution_count": 8,
     "metadata": {},
     "output_type": "execute_result"
    }
   ],
   "source": [
    "top5_df[['Name', 'Ht.', 'age_int_top5', 'avg_age_top5', 'Rank', 'Weight Class']]\n",
    "top5_df.head(5)"
   ]
  },
  {
   "cell_type": "markdown",
   "metadata": {
    "papermill": {
     "duration": 0.185054,
     "end_time": "2019-05-10T18:21:16.111366",
     "exception": false,
     "start_time": "2019-05-10T18:21:15.926312",
     "status": "completed"
    },
    "tags": []
   },
   "source": [
    "We have dropped the duplicates of weight class below as we were comparing the average fighter VS the average of the top 5 fighters. \n",
    "But I only wanted to analyse the weight class once."
   ]
  },
  {
   "cell_type": "code",
   "execution_count": 9,
   "metadata": {
    "papermill": {
     "duration": 0.3137,
     "end_time": "2019-05-10T18:21:16.607763",
     "exception": false,
     "start_time": "2019-05-10T18:21:16.294063",
     "status": "completed"
    },
    "tags": []
   },
   "outputs": [
    {
     "data": {
      "text/html": [
       "<div>\n",
       "<style scoped>\n",
       "    .dataframe tbody tr th:only-of-type {\n",
       "        vertical-align: middle;\n",
       "    }\n",
       "\n",
       "    .dataframe tbody tr th {\n",
       "        vertical-align: top;\n",
       "    }\n",
       "\n",
       "    .dataframe thead th {\n",
       "        text-align: right;\n",
       "    }\n",
       "</style>\n",
       "<table border=\"1\" class=\"dataframe\">\n",
       "  <thead>\n",
       "    <tr style=\"text-align: right;\">\n",
       "      <th></th>\n",
       "      <th>Name</th>\n",
       "      <th>Age</th>\n",
       "      <th>Ht.</th>\n",
       "      <th>Nickname</th>\n",
       "      <th>Endeavor record</th>\n",
       "      <th>MMA record</th>\n",
       "      <th>Weight Class</th>\n",
       "      <th>Weight Class Index</th>\n",
       "      <th>Overall Wins</th>\n",
       "      <th>Overall Losses</th>\n",
       "      <th>...</th>\n",
       "      <th>Defenses</th>\n",
       "      <th>ex_champ</th>\n",
       "      <th>Total UFC Fights</th>\n",
       "      <th>Total Overall Fights</th>\n",
       "      <th>Avg_Ht.</th>\n",
       "      <th>age_int</th>\n",
       "      <th>avg_age</th>\n",
       "      <th>age_int_top5</th>\n",
       "      <th>avg_age_top5</th>\n",
       "      <th>avg_height_top5</th>\n",
       "    </tr>\n",
       "  </thead>\n",
       "  <tbody>\n",
       "    <tr>\n",
       "      <th>8</th>\n",
       "      <td>Daniel Cormier</td>\n",
       "      <td>40</td>\n",
       "      <td>70.8660</td>\n",
       "      <td>DC</td>\n",
       "      <td>15 1 (1 NC)</td>\n",
       "      <td>22 1 (1 NC)</td>\n",
       "      <td>Heavyweight</td>\n",
       "      <td>0</td>\n",
       "      <td>22.0</td>\n",
       "      <td>1.0</td>\n",
       "      <td>...</td>\n",
       "      <td>1.0</td>\n",
       "      <td>True</td>\n",
       "      <td>16</td>\n",
       "      <td>23.0</td>\n",
       "      <td>74.960480</td>\n",
       "      <td>40</td>\n",
       "      <td>33.375000</td>\n",
       "      <td>40</td>\n",
       "      <td>34.000000</td>\n",
       "      <td>74.704575</td>\n",
       "    </tr>\n",
       "    <tr>\n",
       "      <th>42</th>\n",
       "      <td>Jon Jones</td>\n",
       "      <td>31</td>\n",
       "      <td>75.9841</td>\n",
       "      <td>Bones</td>\n",
       "      <td>18 1 (1 NC)</td>\n",
       "      <td>24 1 (1 NC)</td>\n",
       "      <td>Light heavyweight</td>\n",
       "      <td>1</td>\n",
       "      <td>24.0</td>\n",
       "      <td>1.0</td>\n",
       "      <td>...</td>\n",
       "      <td>1.0</td>\n",
       "      <td>True</td>\n",
       "      <td>19</td>\n",
       "      <td>25.0</td>\n",
       "      <td>74.263802</td>\n",
       "      <td>31</td>\n",
       "      <td>31.326087</td>\n",
       "      <td>31</td>\n",
       "      <td>32.000000</td>\n",
       "      <td>75.590400</td>\n",
       "    </tr>\n",
       "    <tr>\n",
       "      <th>87</th>\n",
       "      <td>Luke Rockhold</td>\n",
       "      <td>34</td>\n",
       "      <td>75.1967</td>\n",
       "      <td>NaN</td>\n",
       "      <td>9 3</td>\n",
       "      <td>16 4</td>\n",
       "      <td>Middleweight</td>\n",
       "      <td>2</td>\n",
       "      <td>16.0</td>\n",
       "      <td>4.0</td>\n",
       "      <td>...</td>\n",
       "      <td>0.0</td>\n",
       "      <td>True</td>\n",
       "      <td>12</td>\n",
       "      <td>20.0</td>\n",
       "      <td>72.488044</td>\n",
       "      <td>34</td>\n",
       "      <td>31.520000</td>\n",
       "      <td>34</td>\n",
       "      <td>32.750000</td>\n",
       "      <td>71.554975</td>\n",
       "    </tr>\n",
       "    <tr>\n",
       "      <th>147</th>\n",
       "      <td>Tyron Woodley</td>\n",
       "      <td>37</td>\n",
       "      <td>68.8975</td>\n",
       "      <td>The Chosen One</td>\n",
       "      <td>11 4 1</td>\n",
       "      <td>19 4 1</td>\n",
       "      <td>Welterweight</td>\n",
       "      <td>3</td>\n",
       "      <td>19.0</td>\n",
       "      <td>4.0</td>\n",
       "      <td>...</td>\n",
       "      <td>1.0</td>\n",
       "      <td>True</td>\n",
       "      <td>15</td>\n",
       "      <td>23.0</td>\n",
       "      <td>71.528811</td>\n",
       "      <td>37</td>\n",
       "      <td>31.810127</td>\n",
       "      <td>37</td>\n",
       "      <td>33.250000</td>\n",
       "      <td>70.472300</td>\n",
       "    </tr>\n",
       "    <tr>\n",
       "      <th>225</th>\n",
       "      <td>Dustin Poirier</td>\n",
       "      <td>30</td>\n",
       "      <td>68.8975</td>\n",
       "      <td>The Diamond</td>\n",
       "      <td>18 5 (1 NC)</td>\n",
       "      <td>25 5 (1 NC)</td>\n",
       "      <td>Lightweight</td>\n",
       "      <td>4</td>\n",
       "      <td>25.0</td>\n",
       "      <td>5.0</td>\n",
       "      <td>...</td>\n",
       "      <td>0.0</td>\n",
       "      <td>True</td>\n",
       "      <td>23</td>\n",
       "      <td>30.0</td>\n",
       "      <td>70.122891</td>\n",
       "      <td>30</td>\n",
       "      <td>30.600000</td>\n",
       "      <td>30</td>\n",
       "      <td>31.750000</td>\n",
       "      <td>69.192775</td>\n",
       "    </tr>\n",
       "    <tr>\n",
       "      <th>296</th>\n",
       "      <td>Frankie Edgar</td>\n",
       "      <td>37</td>\n",
       "      <td>66.1416</td>\n",
       "      <td>The Answer</td>\n",
       "      <td>17 6 1</td>\n",
       "      <td>23 6 1</td>\n",
       "      <td>Featherweight</td>\n",
       "      <td>5</td>\n",
       "      <td>23.0</td>\n",
       "      <td>6.0</td>\n",
       "      <td>...</td>\n",
       "      <td>1.0</td>\n",
       "      <td>True</td>\n",
       "      <td>23</td>\n",
       "      <td>29.0</td>\n",
       "      <td>69.186213</td>\n",
       "      <td>37</td>\n",
       "      <td>29.383333</td>\n",
       "      <td>37</td>\n",
       "      <td>30.500000</td>\n",
       "      <td>67.814825</td>\n",
       "    </tr>\n",
       "    <tr>\n",
       "      <th>372</th>\n",
       "      <td>Aljamain Sterling</td>\n",
       "      <td>29</td>\n",
       "      <td>66.9290</td>\n",
       "      <td>Funk Master</td>\n",
       "      <td>9 3</td>\n",
       "      <td>17 3</td>\n",
       "      <td>Bantamweight</td>\n",
       "      <td>6</td>\n",
       "      <td>17.0</td>\n",
       "      <td>3.0</td>\n",
       "      <td>...</td>\n",
       "      <td>NaN</td>\n",
       "      <td>False</td>\n",
       "      <td>12</td>\n",
       "      <td>20.0</td>\n",
       "      <td>67.199301</td>\n",
       "      <td>29</td>\n",
       "      <td>29.791045</td>\n",
       "      <td>29</td>\n",
       "      <td>30.666667</td>\n",
       "      <td>66.404067</td>\n",
       "    </tr>\n",
       "    <tr>\n",
       "      <th>422</th>\n",
       "      <td>Joseph Benavidez</td>\n",
       "      <td>34</td>\n",
       "      <td>64.1731</td>\n",
       "      <td>NaN</td>\n",
       "      <td>19 5</td>\n",
       "      <td>27 5</td>\n",
       "      <td>Flyweight</td>\n",
       "      <td>7</td>\n",
       "      <td>27.0</td>\n",
       "      <td>5.0</td>\n",
       "      <td>...</td>\n",
       "      <td>NaN</td>\n",
       "      <td>False</td>\n",
       "      <td>24</td>\n",
       "      <td>32.0</td>\n",
       "      <td>65.354200</td>\n",
       "      <td>34</td>\n",
       "      <td>30.461538</td>\n",
       "      <td>34</td>\n",
       "      <td>33.500000</td>\n",
       "      <td>64.369950</td>\n",
       "    </tr>\n",
       "    <tr>\n",
       "      <th>436</th>\n",
       "      <td>Amanda Nunes</td>\n",
       "      <td>30</td>\n",
       "      <td>68.1101</td>\n",
       "      <td>The Lioness</td>\n",
       "      <td>11 2</td>\n",
       "      <td>17 4</td>\n",
       "      <td>Women\"s Featherweight</td>\n",
       "      <td>8</td>\n",
       "      <td>17.0</td>\n",
       "      <td>4.0</td>\n",
       "      <td>...</td>\n",
       "      <td>0.0</td>\n",
       "      <td>True</td>\n",
       "      <td>13</td>\n",
       "      <td>21.0</td>\n",
       "      <td>68.074309</td>\n",
       "      <td>30</td>\n",
       "      <td>31.272727</td>\n",
       "      <td>30</td>\n",
       "      <td>33.500000</td>\n",
       "      <td>68.110100</td>\n",
       "    </tr>\n",
       "    <tr>\n",
       "      <th>446</th>\n",
       "      <td>Germaine de Randamie</td>\n",
       "      <td>35</td>\n",
       "      <td>68.8975</td>\n",
       "      <td>The Iron Lady</td>\n",
       "      <td>6 2</td>\n",
       "      <td>8 3</td>\n",
       "      <td>Women\"s Bantamweight</td>\n",
       "      <td>9</td>\n",
       "      <td>8.0</td>\n",
       "      <td>3.0</td>\n",
       "      <td>...</td>\n",
       "      <td>0.0</td>\n",
       "      <td>True</td>\n",
       "      <td>8</td>\n",
       "      <td>11.0</td>\n",
       "      <td>67.054268</td>\n",
       "      <td>35</td>\n",
       "      <td>31.772727</td>\n",
       "      <td>35</td>\n",
       "      <td>30.666667</td>\n",
       "      <td>67.978867</td>\n",
       "    </tr>\n",
       "    <tr>\n",
       "      <th>470</th>\n",
       "      <td>Jessica Eye</td>\n",
       "      <td>32</td>\n",
       "      <td>66.1416</td>\n",
       "      <td>Evil</td>\n",
       "      <td>4 5 (1 NC)</td>\n",
       "      <td>14 6 (1 NC)</td>\n",
       "      <td>Women\"s Flyweight</td>\n",
       "      <td>10</td>\n",
       "      <td>14.0</td>\n",
       "      <td>6.0</td>\n",
       "      <td>...</td>\n",
       "      <td>NaN</td>\n",
       "      <td>False</td>\n",
       "      <td>9</td>\n",
       "      <td>20.0</td>\n",
       "      <td>65.925065</td>\n",
       "      <td>32</td>\n",
       "      <td>28.950000</td>\n",
       "      <td>32</td>\n",
       "      <td>31.600000</td>\n",
       "      <td>66.062860</td>\n",
       "    </tr>\n",
       "    <tr>\n",
       "      <th>508</th>\n",
       "      <td>Jessica Andrade</td>\n",
       "      <td>27</td>\n",
       "      <td>61.8109</td>\n",
       "      <td>Bate Estaca</td>\n",
       "      <td>10 4</td>\n",
       "      <td>19 6</td>\n",
       "      <td>Women\"s Strawweight</td>\n",
       "      <td>11</td>\n",
       "      <td>19.0</td>\n",
       "      <td>6.0</td>\n",
       "      <td>...</td>\n",
       "      <td>NaN</td>\n",
       "      <td>False</td>\n",
       "      <td>14</td>\n",
       "      <td>25.0</td>\n",
       "      <td>63.915159</td>\n",
       "      <td>27</td>\n",
       "      <td>30.827586</td>\n",
       "      <td>27</td>\n",
       "      <td>27.000000</td>\n",
       "      <td>63.910633</td>\n",
       "    </tr>\n",
       "  </tbody>\n",
       "</table>\n",
       "<p>12 rows × 45 columns</p>\n",
       "</div>"
      ],
      "text/plain": [
       "                     Name  Age      Ht.        Nickname Endeavor record  \\\n",
       "8          Daniel Cormier   40  70.8660              DC     15 1 (1 NC)   \n",
       "42              Jon Jones   31  75.9841           Bones     18 1 (1 NC)   \n",
       "87          Luke Rockhold   34  75.1967             NaN             9 3   \n",
       "147         Tyron Woodley   37  68.8975  The Chosen One          11 4 1   \n",
       "225        Dustin Poirier   30  68.8975     The Diamond     18 5 (1 NC)   \n",
       "296         Frankie Edgar   37  66.1416      The Answer          17 6 1   \n",
       "372     Aljamain Sterling   29  66.9290     Funk Master             9 3   \n",
       "422      Joseph Benavidez   34  64.1731             NaN            19 5   \n",
       "436          Amanda Nunes   30  68.1101     The Lioness            11 2   \n",
       "446  Germaine de Randamie   35  68.8975   The Iron Lady             6 2   \n",
       "470           Jessica Eye   32  66.1416            Evil      4 5 (1 NC)   \n",
       "508       Jessica Andrade   27  61.8109     Bate Estaca            10 4   \n",
       "\n",
       "      MMA record           Weight Class  Weight Class Index  Overall Wins  \\\n",
       "8    22 1 (1 NC)            Heavyweight                   0          22.0   \n",
       "42   24 1 (1 NC)      Light heavyweight                   1          24.0   \n",
       "87          16 4           Middleweight                   2          16.0   \n",
       "147       19 4 1           Welterweight                   3          19.0   \n",
       "225  25 5 (1 NC)            Lightweight                   4          25.0   \n",
       "296       23 6 1          Featherweight                   5          23.0   \n",
       "372         17 3           Bantamweight                   6          17.0   \n",
       "422         27 5              Flyweight                   7          27.0   \n",
       "436         17 4  Women\"s Featherweight                   8          17.0   \n",
       "446          8 3   Women\"s Bantamweight                   9           8.0   \n",
       "470  14 6 (1 NC)      Women\"s Flyweight                  10          14.0   \n",
       "508         19 6    Women\"s Strawweight                  11          19.0   \n",
       "\n",
       "     Overall Losses       ...         Defenses  ex_champ  Total UFC Fights  \\\n",
       "8               1.0       ...              1.0      True                16   \n",
       "42              1.0       ...              1.0      True                19   \n",
       "87              4.0       ...              0.0      True                12   \n",
       "147             4.0       ...              1.0      True                15   \n",
       "225             5.0       ...              0.0      True                23   \n",
       "296             6.0       ...              1.0      True                23   \n",
       "372             3.0       ...              NaN     False                12   \n",
       "422             5.0       ...              NaN     False                24   \n",
       "436             4.0       ...              0.0      True                13   \n",
       "446             3.0       ...              0.0      True                 8   \n",
       "470             6.0       ...              NaN     False                 9   \n",
       "508             6.0       ...              NaN     False                14   \n",
       "\n",
       "     Total Overall Fights    Avg_Ht.  age_int    avg_age  age_int_top5  \\\n",
       "8                    23.0  74.960480       40  33.375000            40   \n",
       "42                   25.0  74.263802       31  31.326087            31   \n",
       "87                   20.0  72.488044       34  31.520000            34   \n",
       "147                  23.0  71.528811       37  31.810127            37   \n",
       "225                  30.0  70.122891       30  30.600000            30   \n",
       "296                  29.0  69.186213       37  29.383333            37   \n",
       "372                  20.0  67.199301       29  29.791045            29   \n",
       "422                  32.0  65.354200       34  30.461538            34   \n",
       "436                  21.0  68.074309       30  31.272727            30   \n",
       "446                  11.0  67.054268       35  31.772727            35   \n",
       "470                  20.0  65.925065       32  28.950000            32   \n",
       "508                  25.0  63.915159       27  30.827586            27   \n",
       "\n",
       "     avg_age_top5  avg_height_top5  \n",
       "8       34.000000        74.704575  \n",
       "42      32.000000        75.590400  \n",
       "87      32.750000        71.554975  \n",
       "147     33.250000        70.472300  \n",
       "225     31.750000        69.192775  \n",
       "296     30.500000        67.814825  \n",
       "372     30.666667        66.404067  \n",
       "422     33.500000        64.369950  \n",
       "436     33.500000        68.110100  \n",
       "446     30.666667        67.978867  \n",
       "470     31.600000        66.062860  \n",
       "508     27.000000        63.910633  \n",
       "\n",
       "[12 rows x 45 columns]"
      ]
     },
     "execution_count": 9,
     "metadata": {},
     "output_type": "execute_result"
    }
   ],
   "source": [
    "top5_df_less_WC_duplicates = top5_df[top5_df.Rank.isin(range(5))].drop_duplicates('Weight Class').copy()\n",
    "top5_df_less_WC_duplicates"
   ]
  },
  {
   "cell_type": "markdown",
   "metadata": {
    "papermill": {
     "duration": 0.171878,
     "end_time": "2019-05-10T18:21:16.967474",
     "exception": false,
     "start_time": "2019-05-10T18:21:16.795596",
     "status": "completed"
    },
    "tags": []
   },
   "source": [
    "Below is the graph that represents the average age of the fighters in each weight class VS the average age of the top 5 fighters in those weight classes. There's only a small difference between the two averages."
   ]
  },
  {
   "cell_type": "code",
   "execution_count": 10,
   "metadata": {
    "papermill": {
     "duration": 1.528267,
     "end_time": "2019-05-10T18:21:18.717315",
     "exception": false,
     "start_time": "2019-05-10T18:21:17.189048",
     "status": "completed"
    },
    "tags": []
   },
   "outputs": [
    {
     "data": {
      "image/png": "[encoded data removed]",
      "text/plain": [
       "<Figure size 1008x432 with 1 Axes>"
      ]
     },
     "metadata": {
      "needs_background": "light"
     },
     "output_type": "display_data"
    }
   ],
   "source": [
    "import matplotlib.pyplot as plt\n",
    "plt.rcParams.update({'font.size': 15})\n",
    "ax = plt.gca()\n",
    "top5_df_less_WC_duplicates.plot(kind = 'bar', figsize  = (14,6), x = 'Weight Class', y = ['avg_age', 'avg_age_top5'], ylim = 20, color = ['c', 'm'], linewidth = 1.5, title = \"Avg Age of fighters VS Avg Age of the Top 5 Fighters\", ax = ax)\n",
    "ax.set_ylabel('Age in Years')\n",
    "ax.set_xticks(range(len(top5_df_less_WC_duplicates)))\n",
    "ax.set_xticklabels(top5_df_less_WC_duplicates['Weight Class'], rotation = 90);\n",
    "\n",
    "\n",
    "L=plt.legend(prop={'size': 12})\n",
    "L.get_texts()[0].set_text('Average Age of Fighters')\n",
    "L.get_texts()[1].set_text('Average Age of Top 5 Fighters')"
   ]
  },
  {
   "cell_type": "markdown",
   "metadata": {
    "papermill": {
     "duration": 0.18742,
     "end_time": "2019-05-10T18:21:19.076590",
     "exception": false,
     "start_time": "2019-05-10T18:21:18.889170",
     "status": "completed"
    },
    "tags": []
   },
   "source": [
    "As suggested by the above graph, the avearge age of the fighters is very similar to that of the top5 fighters in each weight class. The figures below confirm this.\n",
    "\n",
    "This shows us that the majority of the fighters in UFC are in their 30's. This suggests how important experience is in UFC."
   ]
  },
  {
   "cell_type": "code",
   "execution_count": 11,
   "metadata": {
    "papermill": {
     "duration": 0.21969,
     "end_time": "2019-05-10T18:21:19.483835",
     "exception": false,
     "start_time": "2019-05-10T18:21:19.264145",
     "status": "completed"
    },
    "tags": []
   },
   "outputs": [
    {
     "data": {
      "text/plain": [
       "31.84090909090909"
      ]
     },
     "execution_count": 11,
     "metadata": {},
     "output_type": "execute_result"
    }
   ],
   "source": [
    "top5_df['age_int_top5'].mean()"
   ]
  },
  {
   "cell_type": "code",
   "execution_count": 12,
   "metadata": {
    "papermill": {
     "duration": 0.226575,
     "end_time": "2019-05-10T18:21:19.890161",
     "exception": false,
     "start_time": "2019-05-10T18:21:19.663586",
     "status": "completed"
    },
    "tags": []
   },
   "outputs": [
    {
     "data": {
      "text/plain": [
       "30.843575418994412"
      ]
     },
     "execution_count": 12,
     "metadata": {},
     "output_type": "execute_result"
    }
   ],
   "source": [
    "main['age_int'].mean()"
   ]
  },
  {
   "cell_type": "code",
   "execution_count": 13,
   "metadata": {
    "papermill": {
     "duration": 0.203198,
     "end_time": "2019-05-10T18:21:20.274457",
     "exception": false,
     "start_time": "2019-05-10T18:21:20.071259",
     "status": "completed"
    },
    "tags": []
   },
   "outputs": [
    {
     "data": {
      "text/plain": [
       "30.545454545454547"
      ]
     },
     "execution_count": 13,
     "metadata": {},
     "output_type": "execute_result"
    }
   ],
   "source": [
    "champs['age_int'].mean()"
   ]
  },
  {
   "cell_type": "markdown",
   "metadata": {
    "papermill": {
     "duration": 0.211744,
     "end_time": "2019-05-10T18:21:20.673628",
     "exception": false,
     "start_time": "2019-05-10T18:21:20.461884",
     "status": "completed"
    },
    "tags": []
   },
   "source": [
    "#### Height Analysis\n"
   ]
  },
  {
   "cell_type": "markdown",
   "metadata": {
    "papermill": {
     "duration": 0.187523,
     "end_time": "2019-05-10T18:21:21.046270",
     "exception": false,
     "start_time": "2019-05-10T18:21:20.858747",
     "status": "completed"
    },
    "tags": []
   },
   "source": [
    "There was nothing to suggest that being perticularly tall was an advantage in UFC. As shown in the below graph, the average fighter has a very similiar height to the top 5 in practically every weight class. "
   ]
  },
  {
   "cell_type": "code",
   "execution_count": 14,
   "metadata": {
    "papermill": {
     "duration": 1.453611,
     "end_time": "2019-05-10T18:21:22.682180",
     "exception": false,
     "start_time": "2019-05-10T18:21:21.228569",
     "status": "completed"
    },
    "tags": []
   },
   "outputs": [
    {
     "data": {
      "image/png": "[encoded data removed]",
      "text/plain": [
       "<Figure size 1008x432 with 1 Axes>"
      ]
     },
     "metadata": {
      "needs_background": "light"
     },
     "output_type": "display_data"
    }
   ],
   "source": [
    "\n",
    "import matplotlib.pyplot as plt\n",
    "ax = plt.gca()\n",
    "top5_df_less_WC_duplicates.plot(kind = 'bar', figsize  = (14,6), x = 'Weight Class', y = ['Avg_Ht.', 'avg_height_top5'], ylim = 1.5, color = ['c', 'm'], linewidth = 1.5, title = \"Avg Height of Fighters in each Weight Class VS Avg Height of top 5 In Those Weight Classes\", ax = ax)\n",
    "ax.set_ylabel('Height in Inches')\n",
    "ax.set_xticks(range(len(top5_df_less_WC_duplicates)))\n",
    "ax.set_xticklabels(top5_df_less_WC_duplicates['Weight Class'], rotation = 90);\n",
    "\n",
    "L=plt.legend(bbox_to_anchor=(1.01, 1))\n",
    "L.get_texts()[0].set_text('Average Height of Fighters')\n",
    "L.get_texts()[1].set_text('Average Height of Top 5 Fighters')\n",
    "#plt.legend(bbox_to_anchor=(1.05, 1), loc=2, borderaxespad=1) "
   ]
  },
  {
   "cell_type": "markdown",
   "metadata": {
    "papermill": {
     "duration": 0.18524,
     "end_time": "2019-05-10T18:21:23.058936",
     "exception": false,
     "start_time": "2019-05-10T18:21:22.873696",
     "status": "completed"
    },
    "tags": []
   },
   "source": [
    "# Reach Anaylsis"
   ]
  },
  {
   "cell_type": "code",
   "execution_count": 15,
   "metadata": {
    "papermill": {
     "duration": 0.278255,
     "end_time": "2019-05-10T18:21:23.541745",
     "exception": false,
     "start_time": "2019-05-10T18:21:23.263490",
     "status": "completed"
    },
    "tags": []
   },
   "outputs": [],
   "source": [
    "reach = pd.read_csv(\"reach_scrape.csv\")"
   ]
  },
  {
   "cell_type": "markdown",
   "metadata": {
    "papermill": {
     "duration": 0.188748,
     "end_time": "2019-05-10T18:21:23.931222",
     "exception": false,
     "start_time": "2019-05-10T18:21:23.742474",
     "status": "completed"
    },
    "tags": []
   },
   "source": [
    "### Cleaning"
   ]
  },
  {
   "cell_type": "markdown",
   "metadata": {
    "papermill": {
     "duration": 0.187468,
     "end_time": "2019-05-10T18:21:24.313689",
     "exception": false,
     "start_time": "2019-05-10T18:21:24.126221",
     "status": "completed"
    },
    "tags": []
   },
   "source": [
    "Where there was a comma in the first column, the data in the first column was replaced with what was in the second column. This is because some fighters had an \"octogan debut\" on the website and some didn't."
   ]
  },
  {
   "cell_type": "code",
   "execution_count": 16,
   "metadata": {
    "papermill": {
     "duration": 0.260972,
     "end_time": "2019-05-10T18:21:24.760092",
     "exception": false,
     "start_time": "2019-05-10T18:21:24.499120",
     "status": "completed"
    },
    "tags": []
   },
   "outputs": [
    {
     "data": {
      "text/html": [
       "<div>\n",
       "<style scoped>\n",
       "    .dataframe tbody tr th:only-of-type {\n",
       "        vertical-align: middle;\n",
       "    }\n",
       "\n",
       "    .dataframe tbody tr th {\n",
       "        vertical-align: top;\n",
       "    }\n",
       "\n",
       "    .dataframe thead th {\n",
       "        text-align: right;\n",
       "    }\n",
       "</style>\n",
       "<table border=\"1\" class=\"dataframe\">\n",
       "  <thead>\n",
       "    <tr style=\"text-align: right;\">\n",
       "      <th></th>\n",
       "      <th>names</th>\n",
       "      <th>reach</th>\n",
       "      <th>reach2</th>\n",
       "    </tr>\n",
       "  </thead>\n",
       "  <tbody>\n",
       "    <tr>\n",
       "      <th>0</th>\n",
       "      <td>Andrei Arlovski</td>\n",
       "      <td>77.00</td>\n",
       "      <td>44.0</td>\n",
       "    </tr>\n",
       "    <tr>\n",
       "      <th>1</th>\n",
       "      <td>Alistair Overeem</td>\n",
       "      <td>80</td>\n",
       "      <td>80.0</td>\n",
       "    </tr>\n",
       "    <tr>\n",
       "      <th>2</th>\n",
       "      <td>Cain Velasquez</td>\n",
       "      <td>77.00</td>\n",
       "      <td>41.0</td>\n",
       "    </tr>\n",
       "    <tr>\n",
       "      <th>3</th>\n",
       "      <td>Fabricio Werdum</td>\n",
       "      <td>45.00</td>\n",
       "      <td>NaN</td>\n",
       "    </tr>\n",
       "    <tr>\n",
       "      <th>4</th>\n",
       "      <td>Junior Dos Santos</td>\n",
       "      <td>77.00</td>\n",
       "      <td>41.0</td>\n",
       "    </tr>\n",
       "  </tbody>\n",
       "</table>\n",
       "</div>"
      ],
      "text/plain": [
       "               names  reach  reach2\n",
       "0    Andrei Arlovski  77.00    44.0\n",
       "1   Alistair Overeem     80    80.0\n",
       "2     Cain Velasquez  77.00    41.0\n",
       "3    Fabricio Werdum  45.00     NaN\n",
       "4  Junior Dos Santos  77.00    41.0"
      ]
     },
     "execution_count": 16,
     "metadata": {},
     "output_type": "execute_result"
    }
   ],
   "source": [
    "reach['reach'] = np.where(reach['reach'].str.contains(','), reach['reach2'], reach['reach'])\n",
    "reach.head(5)"
   ]
  },
  {
   "cell_type": "code",
   "execution_count": 17,
   "metadata": {
    "papermill": {
     "duration": 0.209095,
     "end_time": "2019-05-10T18:21:25.156501",
     "exception": false,
     "start_time": "2019-05-10T18:21:24.947406",
     "status": "completed"
    },
    "tags": []
   },
   "outputs": [],
   "source": [
    "reach = reach.drop(['reach2'], axis=1)"
   ]
  },
  {
   "cell_type": "markdown",
   "metadata": {
    "papermill": {
     "duration": 0.202537,
     "end_time": "2019-05-10T18:21:25.560351",
     "exception": false,
     "start_time": "2019-05-10T18:21:25.357814",
     "status": "completed"
    },
    "tags": []
   },
   "source": [
    "The reach column type was changed to numeric and any rows with Nan values where dropped"
   ]
  },
  {
   "cell_type": "code",
   "execution_count": 18,
   "metadata": {
    "papermill": {
     "duration": 0.225391,
     "end_time": "2019-05-10T18:21:25.973729",
     "exception": false,
     "start_time": "2019-05-10T18:21:25.748338",
     "status": "completed"
    },
    "tags": []
   },
   "outputs": [],
   "source": [
    "reach['reach'] = pd.to_numeric(reach['reach'], errors='coerce')\n",
    "reach = reach[pd.notnull(reach['reach'])]"
   ]
  },
  {
   "cell_type": "markdown",
   "metadata": {
    "papermill": {
     "duration": 0.172489,
     "end_time": "2019-05-10T18:21:26.370738",
     "exception": false,
     "start_time": "2019-05-10T18:21:26.198249",
     "status": "completed"
    },
    "tags": []
   },
   "source": [
    "Fifty inches is the smallest reach in the UFC so any fighter with less than this was an error. These rows were dropped."
   ]
  },
  {
   "cell_type": "code",
   "execution_count": 19,
   "metadata": {
    "papermill": {
     "duration": 0.221078,
     "end_time": "2019-05-10T18:21:26.779291",
     "exception": false,
     "start_time": "2019-05-10T18:21:26.558213",
     "status": "completed"
    },
    "tags": []
   },
   "outputs": [],
   "source": [
    "reach = reach[reach.reach >  50]"
   ]
  },
  {
   "cell_type": "code",
   "execution_count": 20,
   "metadata": {
    "papermill": {
     "duration": 0.239798,
     "end_time": "2019-05-10T18:21:27.268309",
     "exception": false,
     "start_time": "2019-05-10T18:21:27.028511",
     "status": "completed"
    },
    "tags": []
   },
   "outputs": [
    {
     "data": {
      "text/plain": [
       "(394, 2)"
      ]
     },
     "execution_count": 20,
     "metadata": {},
     "output_type": "execute_result"
    }
   ],
   "source": [
    "reach.shape"
   ]
  },
  {
   "cell_type": "markdown",
   "metadata": {
    "papermill": {
     "duration": 0.187505,
     "end_time": "2019-05-10T18:21:27.645466",
     "exception": false,
     "start_time": "2019-05-10T18:21:27.457961",
     "status": "completed"
    },
    "tags": []
   },
   "source": [
    "The column 'names' was renamed to 'Name'"
   ]
  },
  {
   "cell_type": "code",
   "execution_count": 21,
   "metadata": {
    "papermill": {
     "duration": 0.309265,
     "end_time": "2019-05-10T18:21:28.152326",
     "exception": false,
     "start_time": "2019-05-10T18:21:27.843061",
     "status": "completed"
    },
    "tags": []
   },
   "outputs": [],
   "source": [
    "reach.rename(columns={'names':'Name'}, inplace=True)"
   ]
  },
  {
   "cell_type": "markdown",
   "metadata": {
    "papermill": {
     "duration": 0.18758,
     "end_time": "2019-05-10T18:21:28.549069",
     "exception": false,
     "start_time": "2019-05-10T18:21:28.361489",
     "status": "completed"
    },
    "tags": []
   },
   "source": [
    "### Analysis"
   ]
  },
  {
   "cell_type": "markdown",
   "metadata": {
    "papermill": {
     "duration": 0.227896,
     "end_time": "2019-05-10T18:21:28.964464",
     "exception": false,
     "start_time": "2019-05-10T18:21:28.736568",
     "status": "completed"
    },
    "tags": []
   },
   "source": [
    "Two subsets of the data were created, these specific rows were selected as they will be used on the graphs later."
   ]
  },
  {
   "cell_type": "code",
   "execution_count": 22,
   "metadata": {
    "papermill": {
     "duration": 0.32397,
     "end_time": "2019-05-10T18:21:29.510298",
     "exception": false,
     "start_time": "2019-05-10T18:21:29.186328",
     "status": "completed"
    },
    "tags": []
   },
   "outputs": [],
   "source": [
    "scatter_st1 = main[[\"Name\",\"Ht.\",\"Weight Class\",\"Rank\",\"Weight Class Index\"]]\n",
    "scatter_st2 = main[[\"Name\",\"Ht.\",\"Total UFC Fights\",\"UFC Wins\",\"Rank\"]]"
   ]
  },
  {
   "cell_type": "markdown",
   "metadata": {
    "papermill": {
     "duration": 0.247998,
     "end_time": "2019-05-10T18:21:29.954324",
     "exception": false,
     "start_time": "2019-05-10T18:21:29.706326",
     "status": "completed"
    },
    "tags": []
   },
   "source": [
    "The subsets of the main dataframe where merged with the reach data."
   ]
  },
  {
   "cell_type": "code",
   "execution_count": 23,
   "metadata": {
    "papermill": {
     "duration": 0.268062,
     "end_time": "2019-05-10T18:21:30.428074",
     "exception": false,
     "start_time": "2019-05-10T18:21:30.160012",
     "status": "completed"
    },
    "tags": []
   },
   "outputs": [
    {
     "data": {
      "text/html": [
       "<div>\n",
       "<style scoped>\n",
       "    .dataframe tbody tr th:only-of-type {\n",
       "        vertical-align: middle;\n",
       "    }\n",
       "\n",
       "    .dataframe tbody tr th {\n",
       "        vertical-align: top;\n",
       "    }\n",
       "\n",
       "    .dataframe thead th {\n",
       "        text-align: right;\n",
       "    }\n",
       "</style>\n",
       "<table border=\"1\" class=\"dataframe\">\n",
       "  <thead>\n",
       "    <tr style=\"text-align: right;\">\n",
       "      <th></th>\n",
       "      <th>Name</th>\n",
       "      <th>reach</th>\n",
       "      <th>Ht.</th>\n",
       "      <th>Weight Class</th>\n",
       "      <th>Rank</th>\n",
       "      <th>Weight Class Index</th>\n",
       "    </tr>\n",
       "  </thead>\n",
       "  <tbody>\n",
       "    <tr>\n",
       "      <th>0</th>\n",
       "      <td>Andrei Arlovski</td>\n",
       "      <td>77.0</td>\n",
       "      <td>75.1967</td>\n",
       "      <td>Heavyweight</td>\n",
       "      <td>15.0</td>\n",
       "      <td>0</td>\n",
       "    </tr>\n",
       "    <tr>\n",
       "      <th>1</th>\n",
       "      <td>Andrei Arlovski</td>\n",
       "      <td>77.0</td>\n",
       "      <td>75.1967</td>\n",
       "      <td>Heavyweight</td>\n",
       "      <td>15.0</td>\n",
       "      <td>0</td>\n",
       "    </tr>\n",
       "    <tr>\n",
       "      <th>2</th>\n",
       "      <td>Alistair Overeem</td>\n",
       "      <td>80.0</td>\n",
       "      <td>77.1652</td>\n",
       "      <td>Heavyweight</td>\n",
       "      <td>7.0</td>\n",
       "      <td>0</td>\n",
       "    </tr>\n",
       "    <tr>\n",
       "      <th>3</th>\n",
       "      <td>Cain Velasquez</td>\n",
       "      <td>77.0</td>\n",
       "      <td>72.8345</td>\n",
       "      <td>Heavyweight</td>\n",
       "      <td>8.0</td>\n",
       "      <td>0</td>\n",
       "    </tr>\n",
       "    <tr>\n",
       "      <th>4</th>\n",
       "      <td>Cain Velasquez</td>\n",
       "      <td>77.0</td>\n",
       "      <td>72.8345</td>\n",
       "      <td>Heavyweight</td>\n",
       "      <td>8.0</td>\n",
       "      <td>0</td>\n",
       "    </tr>\n",
       "  </tbody>\n",
       "</table>\n",
       "</div>"
      ],
      "text/plain": [
       "               Name  reach      Ht. Weight Class  Rank  Weight Class Index\n",
       "0   Andrei Arlovski   77.0  75.1967  Heavyweight  15.0                   0\n",
       "1   Andrei Arlovski   77.0  75.1967  Heavyweight  15.0                   0\n",
       "2  Alistair Overeem   80.0  77.1652  Heavyweight   7.0                   0\n",
       "3    Cain Velasquez   77.0  72.8345  Heavyweight   8.0                   0\n",
       "4    Cain Velasquez   77.0  72.8345  Heavyweight   8.0                   0"
      ]
     },
     "execution_count": 23,
     "metadata": {},
     "output_type": "execute_result"
    }
   ],
   "source": [
    "scatter1 =  (pd.merge(reach, scatter_st1, on='Name', how = 'right'))\n",
    "scatter2 =  (pd.merge(reach, scatter_st2, on='Name', how = 'right'))\n",
    "scatter1.head(5)"
   ]
  },
  {
   "cell_type": "markdown",
   "metadata": {
    "papermill": {
     "duration": 0.187507,
     "end_time": "2019-05-10T18:21:30.818700",
     "exception": false,
     "start_time": "2019-05-10T18:21:30.631193",
     "status": "completed"
    },
    "tags": []
   },
   "source": [
    "If the fighter is of rank 0 this means they are the champion. A variable \"ischamp\" was added and set to true if this was the case"
   ]
  },
  {
   "cell_type": "code",
   "execution_count": 24,
   "metadata": {
    "papermill": {
     "duration": 0.319705,
     "end_time": "2019-05-10T18:21:31.341520",
     "exception": false,
     "start_time": "2019-05-10T18:21:31.021815",
     "status": "completed"
    },
    "tags": []
   },
   "outputs": [
    {
     "data": {
      "text/html": [
       "<div>\n",
       "<style scoped>\n",
       "    .dataframe tbody tr th:only-of-type {\n",
       "        vertical-align: middle;\n",
       "    }\n",
       "\n",
       "    .dataframe tbody tr th {\n",
       "        vertical-align: top;\n",
       "    }\n",
       "\n",
       "    .dataframe thead th {\n",
       "        text-align: right;\n",
       "    }\n",
       "</style>\n",
       "<table border=\"1\" class=\"dataframe\">\n",
       "  <thead>\n",
       "    <tr style=\"text-align: right;\">\n",
       "      <th></th>\n",
       "      <th>Name</th>\n",
       "      <th>reach</th>\n",
       "      <th>Ht.</th>\n",
       "      <th>Weight Class</th>\n",
       "      <th>Rank</th>\n",
       "      <th>Weight Class Index</th>\n",
       "      <th>ischamp</th>\n",
       "    </tr>\n",
       "  </thead>\n",
       "  <tbody>\n",
       "    <tr>\n",
       "      <th>0</th>\n",
       "      <td>Andrei Arlovski</td>\n",
       "      <td>77.0</td>\n",
       "      <td>75.1967</td>\n",
       "      <td>Heavyweight</td>\n",
       "      <td>15.0</td>\n",
       "      <td>0</td>\n",
       "      <td>False</td>\n",
       "    </tr>\n",
       "    <tr>\n",
       "      <th>1</th>\n",
       "      <td>Andrei Arlovski</td>\n",
       "      <td>77.0</td>\n",
       "      <td>75.1967</td>\n",
       "      <td>Heavyweight</td>\n",
       "      <td>15.0</td>\n",
       "      <td>0</td>\n",
       "      <td>False</td>\n",
       "    </tr>\n",
       "    <tr>\n",
       "      <th>2</th>\n",
       "      <td>Alistair Overeem</td>\n",
       "      <td>80.0</td>\n",
       "      <td>77.1652</td>\n",
       "      <td>Heavyweight</td>\n",
       "      <td>7.0</td>\n",
       "      <td>0</td>\n",
       "      <td>False</td>\n",
       "    </tr>\n",
       "    <tr>\n",
       "      <th>3</th>\n",
       "      <td>Cain Velasquez</td>\n",
       "      <td>77.0</td>\n",
       "      <td>72.8345</td>\n",
       "      <td>Heavyweight</td>\n",
       "      <td>8.0</td>\n",
       "      <td>0</td>\n",
       "      <td>False</td>\n",
       "    </tr>\n",
       "    <tr>\n",
       "      <th>4</th>\n",
       "      <td>Cain Velasquez</td>\n",
       "      <td>77.0</td>\n",
       "      <td>72.8345</td>\n",
       "      <td>Heavyweight</td>\n",
       "      <td>8.0</td>\n",
       "      <td>0</td>\n",
       "      <td>False</td>\n",
       "    </tr>\n",
       "    <tr>\n",
       "      <th>5</th>\n",
       "      <td>Ben Rothwell</td>\n",
       "      <td>78.5</td>\n",
       "      <td>75.9841</td>\n",
       "      <td>Heavyweight</td>\n",
       "      <td>NaN</td>\n",
       "      <td>0</td>\n",
       "      <td>False</td>\n",
       "    </tr>\n",
       "    <tr>\n",
       "      <th>6</th>\n",
       "      <td>Daniel Cormier</td>\n",
       "      <td>72.5</td>\n",
       "      <td>70.8660</td>\n",
       "      <td>Heavyweight</td>\n",
       "      <td>0.0</td>\n",
       "      <td>0</td>\n",
       "      <td>True</td>\n",
       "    </tr>\n",
       "    <tr>\n",
       "      <th>7</th>\n",
       "      <td>Daniel Cormier</td>\n",
       "      <td>72.5</td>\n",
       "      <td>70.8660</td>\n",
       "      <td>Heavyweight</td>\n",
       "      <td>0.0</td>\n",
       "      <td>0</td>\n",
       "      <td>True</td>\n",
       "    </tr>\n",
       "    <tr>\n",
       "      <th>8</th>\n",
       "      <td>Daniel Cormier</td>\n",
       "      <td>72.5</td>\n",
       "      <td>70.8660</td>\n",
       "      <td>Heavyweight</td>\n",
       "      <td>0.0</td>\n",
       "      <td>0</td>\n",
       "      <td>True</td>\n",
       "    </tr>\n",
       "    <tr>\n",
       "      <th>9</th>\n",
       "      <td>Daniel Cormier</td>\n",
       "      <td>72.5</td>\n",
       "      <td>70.8660</td>\n",
       "      <td>Heavyweight</td>\n",
       "      <td>0.0</td>\n",
       "      <td>0</td>\n",
       "      <td>True</td>\n",
       "    </tr>\n",
       "  </tbody>\n",
       "</table>\n",
       "</div>"
      ],
      "text/plain": [
       "               Name  reach      Ht. Weight Class  Rank  Weight Class Index  \\\n",
       "0   Andrei Arlovski   77.0  75.1967  Heavyweight  15.0                   0   \n",
       "1   Andrei Arlovski   77.0  75.1967  Heavyweight  15.0                   0   \n",
       "2  Alistair Overeem   80.0  77.1652  Heavyweight   7.0                   0   \n",
       "3    Cain Velasquez   77.0  72.8345  Heavyweight   8.0                   0   \n",
       "4    Cain Velasquez   77.0  72.8345  Heavyweight   8.0                   0   \n",
       "5      Ben Rothwell   78.5  75.9841  Heavyweight   NaN                   0   \n",
       "6    Daniel Cormier   72.5  70.8660  Heavyweight   0.0                   0   \n",
       "7    Daniel Cormier   72.5  70.8660  Heavyweight   0.0                   0   \n",
       "8    Daniel Cormier   72.5  70.8660  Heavyweight   0.0                   0   \n",
       "9    Daniel Cormier   72.5  70.8660  Heavyweight   0.0                   0   \n",
       "\n",
       "   ischamp  \n",
       "0    False  \n",
       "1    False  \n",
       "2    False  \n",
       "3    False  \n",
       "4    False  \n",
       "5    False  \n",
       "6     True  \n",
       "7     True  \n",
       "8     True  \n",
       "9     True  "
      ]
     },
     "execution_count": 24,
     "metadata": {},
     "output_type": "execute_result"
    }
   ],
   "source": [
    "scatter1['ischamp'] = scatter1['Rank']==0\n",
    "scatter1.head(10)"
   ]
  },
  {
   "cell_type": "markdown",
   "metadata": {
    "papermill": {
     "duration": 0.182274,
     "end_time": "2019-05-10T18:21:31.726761",
     "exception": false,
     "start_time": "2019-05-10T18:21:31.544487",
     "status": "completed"
    },
    "tags": []
   },
   "source": [
    "A groupby statement was used on scatter1 to get the average reach and height per weight class."
   ]
  },
  {
   "cell_type": "code",
   "execution_count": 25,
   "metadata": {
    "papermill": {
     "duration": 0.231292,
     "end_time": "2019-05-10T18:21:32.170327",
     "exception": false,
     "start_time": "2019-05-10T18:21:31.939035",
     "status": "completed"
    },
    "tags": []
   },
   "outputs": [],
   "source": [
    "scatter1_groupby = scatter1.groupby([\"Weight Class\", \"Weight Class Index\"])[\"reach\",\"Ht.\"].mean()"
   ]
  },
  {
   "cell_type": "markdown",
   "metadata": {
    "papermill": {
     "duration": 0.185481,
     "end_time": "2019-05-10T18:21:32.547806",
     "exception": false,
     "start_time": "2019-05-10T18:21:32.362325",
     "status": "completed"
    },
    "tags": []
   },
   "source": [
    "The dataframe was sorted by weight class index"
   ]
  },
  {
   "cell_type": "code",
   "execution_count": 26,
   "metadata": {
    "papermill": {
     "duration": 0.289746,
     "end_time": "2019-05-10T18:21:33.072167",
     "exception": false,
     "start_time": "2019-05-10T18:21:32.782421",
     "status": "completed"
    },
    "tags": []
   },
   "outputs": [
    {
     "data": {
      "text/html": [
       "<div>\n",
       "<style scoped>\n",
       "    .dataframe tbody tr th:only-of-type {\n",
       "        vertical-align: middle;\n",
       "    }\n",
       "\n",
       "    .dataframe tbody tr th {\n",
       "        vertical-align: top;\n",
       "    }\n",
       "\n",
       "    .dataframe thead th {\n",
       "        text-align: right;\n",
       "    }\n",
       "</style>\n",
       "<table border=\"1\" class=\"dataframe\">\n",
       "  <thead>\n",
       "    <tr style=\"text-align: right;\">\n",
       "      <th></th>\n",
       "      <th></th>\n",
       "      <th>reach</th>\n",
       "      <th>Ht.</th>\n",
       "    </tr>\n",
       "    <tr>\n",
       "      <th>Weight Class</th>\n",
       "      <th>Weight Class Index</th>\n",
       "      <th></th>\n",
       "      <th></th>\n",
       "    </tr>\n",
       "  </thead>\n",
       "  <tbody>\n",
       "    <tr>\n",
       "      <th>Heavyweight</th>\n",
       "      <th>0</th>\n",
       "      <td>76.343750</td>\n",
       "      <td>74.588255</td>\n",
       "    </tr>\n",
       "    <tr>\n",
       "      <th>Light heavyweight</th>\n",
       "      <th>1</th>\n",
       "      <td>77.600000</td>\n",
       "      <td>74.263802</td>\n",
       "    </tr>\n",
       "    <tr>\n",
       "      <th>Middleweight</th>\n",
       "      <th>2</th>\n",
       "      <td>75.028571</td>\n",
       "      <td>72.488044</td>\n",
       "    </tr>\n",
       "    <tr>\n",
       "      <th>Welterweight</th>\n",
       "      <th>3</th>\n",
       "      <td>73.835938</td>\n",
       "      <td>71.528811</td>\n",
       "    </tr>\n",
       "    <tr>\n",
       "      <th>Lightweight</th>\n",
       "      <th>4</th>\n",
       "      <td>71.821429</td>\n",
       "      <td>70.122891</td>\n",
       "    </tr>\n",
       "    <tr>\n",
       "      <th>Featherweight</th>\n",
       "      <th>5</th>\n",
       "      <td>71.458333</td>\n",
       "      <td>69.186213</td>\n",
       "    </tr>\n",
       "    <tr>\n",
       "      <th>Bantamweight</th>\n",
       "      <th>6</th>\n",
       "      <td>68.774510</td>\n",
       "      <td>67.199301</td>\n",
       "    </tr>\n",
       "    <tr>\n",
       "      <th>Flyweight</th>\n",
       "      <th>7</th>\n",
       "      <td>67.166667</td>\n",
       "      <td>65.354200</td>\n",
       "    </tr>\n",
       "    <tr>\n",
       "      <th>Women\"s Featherweight</th>\n",
       "      <th>8</th>\n",
       "      <td>68.857143</td>\n",
       "      <td>68.086941</td>\n",
       "    </tr>\n",
       "    <tr>\n",
       "      <th>Women\"s Bantamweight</th>\n",
       "      <th>9</th>\n",
       "      <td>68.625000</td>\n",
       "      <td>67.280518</td>\n",
       "    </tr>\n",
       "    <tr>\n",
       "      <th>Women\"s Flyweight</th>\n",
       "      <th>10</th>\n",
       "      <td>66.216667</td>\n",
       "      <td>65.925065</td>\n",
       "    </tr>\n",
       "    <tr>\n",
       "      <th>Women\"s Strawweight</th>\n",
       "      <th>11</th>\n",
       "      <td>64.346154</td>\n",
       "      <td>63.915159</td>\n",
       "    </tr>\n",
       "  </tbody>\n",
       "</table>\n",
       "</div>"
      ],
      "text/plain": [
       "                                              reach        Ht.\n",
       "Weight Class          Weight Class Index                      \n",
       "Heavyweight           0                   76.343750  74.588255\n",
       "Light heavyweight     1                   77.600000  74.263802\n",
       "Middleweight          2                   75.028571  72.488044\n",
       "Welterweight          3                   73.835938  71.528811\n",
       "Lightweight           4                   71.821429  70.122891\n",
       "Featherweight         5                   71.458333  69.186213\n",
       "Bantamweight          6                   68.774510  67.199301\n",
       "Flyweight             7                   67.166667  65.354200\n",
       "Women\"s Featherweight 8                   68.857143  68.086941\n",
       "Women\"s Bantamweight  9                   68.625000  67.280518\n",
       "Women\"s Flyweight     10                  66.216667  65.925065\n",
       "Women\"s Strawweight   11                  64.346154  63.915159"
      ]
     },
     "execution_count": 26,
     "metadata": {},
     "output_type": "execute_result"
    }
   ],
   "source": [
    "scatter1_groupby = scatter1_groupby.sort_values(by='Weight Class Index' ,ascending = True)\n",
    "scatter1_groupby"
   ]
  },
  {
   "cell_type": "markdown",
   "metadata": {
    "papermill": {
     "duration": 0.199039,
     "end_time": "2019-05-10T18:21:33.480964",
     "exception": false,
     "start_time": "2019-05-10T18:21:33.281925",
     "status": "completed"
    },
    "tags": []
   },
   "source": [
    "A scatter graph was plotted of height vs reach with the champs highlighted by bigger, gold circles. The champs were distributed evenly so there is no obvious correlation between height, reach and holding the belt"
   ]
  },
  {
   "cell_type": "code",
   "execution_count": 27,
   "metadata": {
    "papermill": {
     "duration": 1.037156,
     "end_time": "2019-05-10T18:21:34.837270",
     "exception": false,
     "start_time": "2019-05-10T18:21:33.800114",
     "status": "completed"
    },
    "tags": []
   },
   "outputs": [
    {
     "data": {
      "text/plain": [
       "Text(0, 0.5, 'Reach (inches)')"
      ]
     },
     "execution_count": 27,
     "metadata": {},
     "output_type": "execute_result"
    },
    {
     "data": {
      "image/png": "[encoded data removed]",
      "text/plain": [
       "<Figure size 720x576 with 1 Axes>"
      ]
     },
     "metadata": {
      "needs_background": "light"
     },
     "output_type": "display_data"
    }
   ],
   "source": [
    "fig, ax = plt.subplots(figsize=(10, 8))\n",
    "\n",
    "plt.rcParams.update({'font.size': 24.5})\n",
    "\n",
    "champs = scatter1[scatter1['ischamp']] # create a subset where ischamp is true\n",
    "not_champs = scatter1[~scatter1['ischamp']] # subset where ischamp is false\n",
    "\n",
    "not_champs.plot.scatter(x = \"Ht.\", y =\"reach\", c='black', ax=ax, s=40, alpha=.5)\n",
    "champs.plot.scatter(x = \"Ht.\", y =\"reach\", c='gold', ax=ax, s=250, alpha=.9)\n",
    "\n",
    "plt.title(\"Height vs Reach (Champs in Gold)\", fontsize=24) # create the chart title and axis labels\n",
    "plt.xlabel(\"Height (inches)\")\n",
    "plt.ylabel(\"Reach (inches)\")\n"
   ]
  },
  {
   "cell_type": "code",
   "execution_count": 28,
   "metadata": {
    "papermill": {
     "duration": 0.291636,
     "end_time": "2019-05-10T18:21:35.358116",
     "exception": false,
     "start_time": "2019-05-10T18:21:35.066480",
     "status": "completed"
    },
    "tags": []
   },
   "outputs": [
    {
     "data": {
      "text/html": [
       "<div>\n",
       "<style scoped>\n",
       "    .dataframe tbody tr th:only-of-type {\n",
       "        vertical-align: middle;\n",
       "    }\n",
       "\n",
       "    .dataframe tbody tr th {\n",
       "        vertical-align: top;\n",
       "    }\n",
       "\n",
       "    .dataframe thead th {\n",
       "        text-align: right;\n",
       "    }\n",
       "</style>\n",
       "<table border=\"1\" class=\"dataframe\">\n",
       "  <thead>\n",
       "    <tr style=\"text-align: right;\">\n",
       "      <th></th>\n",
       "      <th>Name</th>\n",
       "      <th>reach</th>\n",
       "      <th>Ht.</th>\n",
       "      <th>Total UFC Fights</th>\n",
       "      <th>UFC Wins</th>\n",
       "      <th>Rank</th>\n",
       "      <th>ischamp</th>\n",
       "    </tr>\n",
       "  </thead>\n",
       "  <tbody>\n",
       "    <tr>\n",
       "      <th>0</th>\n",
       "      <td>Andrei Arlovski</td>\n",
       "      <td>77.0</td>\n",
       "      <td>75.1967</td>\n",
       "      <td>28</td>\n",
       "      <td>16</td>\n",
       "      <td>15.0</td>\n",
       "      <td>False</td>\n",
       "    </tr>\n",
       "    <tr>\n",
       "      <th>1</th>\n",
       "      <td>Andrei Arlovski</td>\n",
       "      <td>77.0</td>\n",
       "      <td>75.1967</td>\n",
       "      <td>28</td>\n",
       "      <td>16</td>\n",
       "      <td>15.0</td>\n",
       "      <td>False</td>\n",
       "    </tr>\n",
       "    <tr>\n",
       "      <th>2</th>\n",
       "      <td>Alistair Overeem</td>\n",
       "      <td>80.0</td>\n",
       "      <td>77.1652</td>\n",
       "      <td>17</td>\n",
       "      <td>11</td>\n",
       "      <td>7.0</td>\n",
       "      <td>False</td>\n",
       "    </tr>\n",
       "    <tr>\n",
       "      <th>3</th>\n",
       "      <td>Cain Velasquez</td>\n",
       "      <td>77.0</td>\n",
       "      <td>72.8345</td>\n",
       "      <td>15</td>\n",
       "      <td>12</td>\n",
       "      <td>8.0</td>\n",
       "      <td>False</td>\n",
       "    </tr>\n",
       "    <tr>\n",
       "      <th>4</th>\n",
       "      <td>Cain Velasquez</td>\n",
       "      <td>77.0</td>\n",
       "      <td>72.8345</td>\n",
       "      <td>15</td>\n",
       "      <td>12</td>\n",
       "      <td>8.0</td>\n",
       "      <td>False</td>\n",
       "    </tr>\n",
       "  </tbody>\n",
       "</table>\n",
       "</div>"
      ],
      "text/plain": [
       "               Name  reach      Ht.  Total UFC Fights  UFC Wins  Rank  ischamp\n",
       "0   Andrei Arlovski   77.0  75.1967                28        16  15.0    False\n",
       "1   Andrei Arlovski   77.0  75.1967                28        16  15.0    False\n",
       "2  Alistair Overeem   80.0  77.1652                17        11   7.0    False\n",
       "3    Cain Velasquez   77.0  72.8345                15        12   8.0    False\n",
       "4    Cain Velasquez   77.0  72.8345                15        12   8.0    False"
      ]
     },
     "execution_count": 28,
     "metadata": {},
     "output_type": "execute_result"
    }
   ],
   "source": [
    "scatter2['ischamp'] = scatter2['Rank']==0\n",
    "scatter2.head(5)"
   ]
  },
  {
   "cell_type": "markdown",
   "metadata": {
    "papermill": {
     "duration": 0.2056,
     "end_time": "2019-05-10T18:21:35.782500",
     "exception": false,
     "start_time": "2019-05-10T18:21:35.576900",
     "status": "completed"
    },
    "tags": []
   },
   "source": [
    "A new column 'win_p' or win percentage was added. It was created by dividing 'UFC Wins' by 'Total UFC Fights'"
   ]
  },
  {
   "cell_type": "code",
   "execution_count": 29,
   "metadata": {
    "papermill": {
     "duration": 1.070283,
     "end_time": "2019-05-10T18:21:37.061268",
     "exception": false,
     "start_time": "2019-05-10T18:21:35.990985",
     "status": "completed"
    },
    "tags": []
   },
   "outputs": [],
   "source": [
    "scatter2['win_p'] = scatter2['UFC Wins']/scatter2['Total UFC Fights']"
   ]
  },
  {
   "cell_type": "markdown",
   "metadata": {
    "papermill": {
     "duration": 0.222346,
     "end_time": "2019-05-10T18:21:37.479624",
     "exception": false,
     "start_time": "2019-05-10T18:21:37.257278",
     "status": "completed"
    },
    "tags": []
   },
   "source": [
    "Another new column 'ape_index' was created by dividing reach by height."
   ]
  },
  {
   "cell_type": "code",
   "execution_count": 30,
   "metadata": {
    "papermill": {
     "duration": 0.240987,
     "end_time": "2019-05-10T18:21:37.947501",
     "exception": false,
     "start_time": "2019-05-10T18:21:37.706514",
     "status": "completed"
    },
    "tags": []
   },
   "outputs": [],
   "source": [
    "scatter2['ape_idx'] = scatter2['reach']/scatter2['Ht.']"
   ]
  },
  {
   "cell_type": "markdown",
   "metadata": {
    "papermill": {
     "duration": 0.227938,
     "end_time": "2019-05-10T18:21:38.362835",
     "exception": false,
     "start_time": "2019-05-10T18:21:38.134897",
     "status": "completed"
    },
    "tags": []
   },
   "source": [
    "A scatter graph was then plotted of 'Ape Index' vs 'UFC Winrate'. The champs were once again in gold. Once again there doesn't seem to be any correlation between ape index and winning fights."
   ]
  },
  {
   "cell_type": "code",
   "execution_count": 31,
   "metadata": {
    "papermill": {
     "duration": 1.087152,
     "end_time": "2019-05-10T18:21:39.641708",
     "exception": false,
     "start_time": "2019-05-10T18:21:38.554556",
     "status": "completed"
    },
    "tags": []
   },
   "outputs": [
    {
     "data": {
      "text/plain": [
       "Text(0, 0.5, 'Ape Index')"
      ]
     },
     "execution_count": 31,
     "metadata": {},
     "output_type": "execute_result"
    },
    {
     "data": {
      "image/png": "[encoded data removed]",
      "text/plain": [
       "<Figure size 720x576 with 1 Axes>"
      ]
     },
     "metadata": {
      "needs_background": "light"
     },
     "output_type": "display_data"
    }
   ],
   "source": [
    "fig, ax = plt.subplots(figsize=(10, 8))\n",
    "\n",
    "\n",
    "champs = scatter2[scatter2['ischamp']]\n",
    "not_champs = scatter2[~scatter2['ischamp']]\n",
    "\n",
    "\n",
    "not_champs.plot.scatter(x = \"win_p\", y =\"ape_idx\", c='black', ax=ax, s=40, alpha=.5)\n",
    "champs.plot.scatter(x = \"win_p\", y =\"ape_idx\", c='gold', ax=ax, s=250, alpha=.9)\n",
    "\n",
    "plt.title(\"Height vs Reach (Champs in Gold)\", fontsize=16) # create the chart title and axis labels\n",
    "plt.xlabel(\"UFC Win Rate\")\n",
    "plt.ylabel(\"Ape Index\")\n"
   ]
  },
  {
   "cell_type": "markdown",
   "metadata": {
    "papermill": {
     "duration": 0.226882,
     "end_time": "2019-05-10T18:21:40.077643",
     "exception": false,
     "start_time": "2019-05-10T18:21:39.850761",
     "status": "completed"
    },
    "tags": []
   },
   "source": [
    "# Heavy Fighters vs Light "
   ]
  },
  {
   "cell_type": "markdown",
   "metadata": {
    "papermill": {
     "duration": 0.203104,
     "end_time": "2019-05-10T18:21:40.528411",
     "exception": false,
     "start_time": "2019-05-10T18:21:40.325307",
     "status": "completed"
    },
    "tags": []
   },
   "source": [
    "Below is a scatter plot showing the correlation between Strike attempted & Strike Landed.\n",
    "We created two subset dataframes: 'heavy' & 'not_heavy' (Heavyweight fighters & non-heavyweight fighters).\n",
    "The slighty bigger dots (blue) represent the heavyweighters while the smaller dots (red) represent the other weight class fighters.\n",
    "\n",
    "We thought that the graph would confirm our theory that the heavier fighters are less fit and throw less strikes during fights. However the majority of heavyweighters are in the same cluster in the graph as the majority of fighters. In other words, while there are plenty of blue dots in the bottom left cluster, there's also a huge amount of red dots (other weights) in that same cluster. As a result, there's no conclusive evidence to our theory."
   ]
  },
  {
   "cell_type": "code",
   "execution_count": 32,
   "metadata": {
    "papermill": {
     "duration": 1.17341,
     "end_time": "2019-05-10T18:21:41.970735",
     "exception": false,
     "start_time": "2019-05-10T18:21:40.797325",
     "status": "completed"
    },
    "tags": []
   },
   "outputs": [
    {
     "data": {
      "text/plain": [
       "<matplotlib.legend.Legend at 0x18e53cbb780>"
      ]
     },
     "execution_count": 32,
     "metadata": {},
     "output_type": "execute_result"
    },
    {
     "data": {
      "image/png": "[encoded data removed]",
      "text/plain": [
       "<Figure size 720x576 with 1 Axes>"
      ]
     },
     "metadata": {
      "needs_background": "light"
     },
     "output_type": "display_data"
    }
   ],
   "source": [
    "fig, ax = plt.subplots(figsize=(10, 8))\n",
    "plt.rcParams.update({'font.size': 15})\n",
    "ax = plt.gca()\n",
    "\n",
    "main['isHeavy'] = (main['Weight Class'] == ('Heavyweight'))\n",
    "\n",
    "heavy = main[main['isHeavy']]\n",
    "not_heavy = main[~main['isHeavy']]\n",
    "\n",
    "not_heavy.plot.scatter(x = \"st_attemp\", y =\"st_land\", c='red', ax=ax, s=50, alpha=1, label= 'Non Heavyweight Fighters')\n",
    "heavy.plot.scatter(x = \"st_attemp\", y =\"st_land\", c='blue', ax=ax, s=200, alpha=.3, label='Heavyweight Fighters')\n",
    "ax.set_ylabel('Strikes Landed')\n",
    "ax.set_xlabel('Strikes Attempted')\n",
    "ax.legend()"
   ]
  },
  {
   "cell_type": "markdown",
   "metadata": {
    "papermill": {
     "duration": 0.335729,
     "end_time": "2019-05-10T18:21:42.582758",
     "exception": false,
     "start_time": "2019-05-10T18:21:42.247029",
     "status": "completed"
    },
    "tags": []
   },
   "source": [
    "Similarly below, we've compared the knockout wins ('k_wins') and the submission wins ('sb_wins').\n",
    "The bigger (blue) dots here represent both the heavyweight fighters and the light heavyweight fighters, while the smaller (red) dots represent the other weight classes.\n",
    "We expected the heavyweight & light heavyweight fighters to have more knockout wins than the other weight classes but this wasn't always the case."
   ]
  },
  {
   "cell_type": "code",
   "execution_count": 33,
   "metadata": {
    "papermill": {
     "duration": 1.154722,
     "end_time": "2019-05-10T18:21:43.990132",
     "exception": false,
     "start_time": "2019-05-10T18:21:42.835410",
     "status": "completed"
    },
    "tags": []
   },
   "outputs": [
    {
     "data": {
      "text/plain": [
       "<matplotlib.axes._subplots.AxesSubplot at 0x18e53cca048>"
      ]
     },
     "execution_count": 33,
     "metadata": {},
     "output_type": "execute_result"
    },
    {
     "data": {
      "image/png": "[encoded data removed]",
      "text/plain": [
       "<Figure size 720x576 with 1 Axes>"
      ]
     },
     "metadata": {
      "needs_background": "light"
     },
     "output_type": "display_data"
    }
   ],
   "source": [
    "fig, ax = plt.subplots(figsize=(10, 8))\n",
    "main['isHeavy'] =( main['Weight Class'] == ('Heavyweight'))  | (main['Weight Class'] == ('Light heavyweight'))  \n",
    "\n",
    "\n",
    "heavy = main[main['isHeavy']]\n",
    "not_heavy = main[~main['isHeavy']]\n",
    "\n",
    "not_heavy.plot.scatter(x = \"sb_wins\", y =\"k_wins\", c='red', ax=ax, s=50, alpha=.5)\n",
    "heavy.plot.scatter(x = \"sb_wins\", y =\"k_wins\", c='blue', ax=ax, s=200, alpha=.3)"
   ]
  },
  {
   "cell_type": "markdown",
   "metadata": {
    "papermill": {
     "duration": 0.27187,
     "end_time": "2019-05-10T18:21:44.480710",
     "exception": false,
     "start_time": "2019-05-10T18:21:44.208840",
     "status": "completed"
    },
    "tags": []
   },
   "source": [
    "# Significant Strike by Position per Weight Class"
   ]
  },
  {
   "cell_type": "markdown",
   "metadata": {
    "papermill": {
     "duration": 0.280001,
     "end_time": "2019-05-10T18:21:45.009120",
     "exception": false,
     "start_time": "2019-05-10T18:21:44.729119",
     "status": "completed"
    },
    "tags": []
   },
   "source": [
    "Significant Strike by Position means where the fighter threw the strike from. Standing is fairly obvious, this means facing each other in boxing or kickboxing range. Clinch is a boxing or kickboxing clinch, usually leaning against the fence of the octogan. Ground strikes refers to both fighters on the ground, usually in a jiu jitsu postion such as guard, half guard etc.\n",
    "\n",
    "We expect heavyweights to have more clinch strikes as they get accused of having bad cardio and resting in the clinch with little output.\n",
    "\n",
    "First of all a dataframe was created called 'class_s_p'. The percentage of standing, clinch and ground strikes compared to the total was calculated. Irrelevant column and duplicated were dropped."
   ]
  },
  {
   "cell_type": "code",
   "execution_count": 34,
   "metadata": {
    "papermill": {
     "duration": 0.708024,
     "end_time": "2019-05-10T18:21:46.033111",
     "exception": false,
     "start_time": "2019-05-10T18:21:45.325087",
     "status": "completed"
    },
    "tags": []
   },
   "outputs": [
    {
     "name": "stderr",
     "output_type": "stream",
     "text": [
      "C:\\Users\\Lorcan Rooney\\Anaconda3\\envs\\env_name\\lib\\site-packages\\ipykernel_launcher.py:3: SettingWithCopyWarning: \n",
      "A value is trying to be set on a copy of a slice from a DataFrame.\n",
      "Try using .loc[row_indexer,col_indexer] = value instead\n",
      "\n",
      "See the caveats in the documentation: http://pandas.pydata.org/pandas-docs/stable/indexing.html#indexing-view-versus-copy\n",
      "  This is separate from the ipykernel package so we can avoid doing imports until\n",
      "C:\\Users\\Lorcan Rooney\\Anaconda3\\envs\\env_name\\lib\\site-packages\\ipykernel_launcher.py:4: SettingWithCopyWarning: \n",
      "A value is trying to be set on a copy of a slice from a DataFrame.\n",
      "Try using .loc[row_indexer,col_indexer] = value instead\n",
      "\n",
      "See the caveats in the documentation: http://pandas.pydata.org/pandas-docs/stable/indexing.html#indexing-view-versus-copy\n",
      "  after removing the cwd from sys.path.\n",
      "C:\\Users\\Lorcan Rooney\\Anaconda3\\envs\\env_name\\lib\\site-packages\\ipykernel_launcher.py:5: SettingWithCopyWarning: \n",
      "A value is trying to be set on a copy of a slice from a DataFrame.\n",
      "Try using .loc[row_indexer,col_indexer] = value instead\n",
      "\n",
      "See the caveats in the documentation: http://pandas.pydata.org/pandas-docs/stable/indexing.html#indexing-view-versus-copy\n",
      "  \"\"\"\n"
     ]
    }
   ],
   "source": [
    "class_s_p= main[[\"Name\",'stand_stk','clinch_stk','grnd_stk',\"Weight Class\",\"Weight Class Index\"]]\n",
    "\n",
    "class_s_p['stand_s_p'] = class_s_p['stand_stk']/(class_s_p['stand_stk'] + class_s_p['clinch_stk'] + class_s_p['grnd_stk'])\n",
    "class_s_p['clinch_stk_p'] = class_s_p['clinch_stk']/(class_s_p['stand_stk'] + class_s_p['clinch_stk'] + class_s_p['grnd_stk'])\n",
    "class_s_p['grnd_stk_p'] = class_s_p['grnd_stk']/(class_s_p['stand_stk'] + class_s_p['clinch_stk'] + class_s_p['grnd_stk'])\n",
    "\n",
    "\n",
    "class_s_p = class_s_p.drop(['stand_stk','clinch_stk','grnd_stk'], axis=1)\n",
    "class_s_p = class_s_p.drop_duplicates(keep='first')"
   ]
  },
  {
   "cell_type": "markdown",
   "metadata": {
    "papermill": {
     "duration": 0.247997,
     "end_time": "2019-05-10T18:21:46.569108",
     "exception": false,
     "start_time": "2019-05-10T18:21:46.321111",
     "status": "completed"
    },
    "tags": []
   },
   "source": [
    "The mean was calculated for each percentage, grouped by weight class."
   ]
  },
  {
   "cell_type": "code",
   "execution_count": 35,
   "metadata": {
    "papermill": {
     "duration": 0.288078,
     "end_time": "2019-05-10T18:21:47.090671",
     "exception": false,
     "start_time": "2019-05-10T18:21:46.802593",
     "status": "completed"
    },
    "scrolled": true,
    "tags": []
   },
   "outputs": [
    {
     "data": {
      "text/html": [
       "<div>\n",
       "<style scoped>\n",
       "    .dataframe tbody tr th:only-of-type {\n",
       "        vertical-align: middle;\n",
       "    }\n",
       "\n",
       "    .dataframe tbody tr th {\n",
       "        vertical-align: top;\n",
       "    }\n",
       "\n",
       "    .dataframe thead th {\n",
       "        text-align: right;\n",
       "    }\n",
       "</style>\n",
       "<table border=\"1\" class=\"dataframe\">\n",
       "  <thead>\n",
       "    <tr style=\"text-align: right;\">\n",
       "      <th></th>\n",
       "      <th></th>\n",
       "      <th>stand_s_p</th>\n",
       "      <th>clinch_stk_p</th>\n",
       "      <th>grnd_stk_p</th>\n",
       "    </tr>\n",
       "    <tr>\n",
       "      <th>Weight Class</th>\n",
       "      <th>Weight Class Index</th>\n",
       "      <th></th>\n",
       "      <th></th>\n",
       "      <th></th>\n",
       "    </tr>\n",
       "  </thead>\n",
       "  <tbody>\n",
       "    <tr>\n",
       "      <th>Heavyweight</th>\n",
       "      <th>0</th>\n",
       "      <td>0.642928</td>\n",
       "      <td>0.180255</td>\n",
       "      <td>0.176817</td>\n",
       "    </tr>\n",
       "    <tr>\n",
       "      <th>Light heavyweight</th>\n",
       "      <th>1</th>\n",
       "      <td>0.609030</td>\n",
       "      <td>0.176365</td>\n",
       "      <td>0.214606</td>\n",
       "    </tr>\n",
       "    <tr>\n",
       "      <th>Middleweight</th>\n",
       "      <th>2</th>\n",
       "      <td>0.650884</td>\n",
       "      <td>0.171717</td>\n",
       "      <td>0.177400</td>\n",
       "    </tr>\n",
       "    <tr>\n",
       "      <th>Welterweight</th>\n",
       "      <th>3</th>\n",
       "      <td>0.699043</td>\n",
       "      <td>0.142736</td>\n",
       "      <td>0.158221</td>\n",
       "    </tr>\n",
       "    <tr>\n",
       "      <th>Lightweight</th>\n",
       "      <th>4</th>\n",
       "      <td>0.709789</td>\n",
       "      <td>0.150171</td>\n",
       "      <td>0.140040</td>\n",
       "    </tr>\n",
       "  </tbody>\n",
       "</table>\n",
       "</div>"
      ],
      "text/plain": [
       "                                      stand_s_p  clinch_stk_p  grnd_stk_p\n",
       "Weight Class      Weight Class Index                                     \n",
       "Heavyweight       0                    0.642928      0.180255    0.176817\n",
       "Light heavyweight 1                    0.609030      0.176365    0.214606\n",
       "Middleweight      2                    0.650884      0.171717    0.177400\n",
       "Welterweight      3                    0.699043      0.142736    0.158221\n",
       "Lightweight       4                    0.709789      0.150171    0.140040"
      ]
     },
     "execution_count": 35,
     "metadata": {},
     "output_type": "execute_result"
    }
   ],
   "source": [
    "class_s_p= class_s_p.groupby(['Weight Class','Weight Class Index'])[\"stand_s_p\",'clinch_stk_p','grnd_stk_p'].mean()\n",
    "\n",
    "class_s_p =class_s_p.sort_values(by='Weight Class Index' ,ascending = True)\n",
    "class_s_p.head(5)"
   ]
  },
  {
   "cell_type": "markdown",
   "metadata": {
    "papermill": {
     "duration": 0.283996,
     "end_time": "2019-05-10T18:21:47.598590",
     "exception": false,
     "start_time": "2019-05-10T18:21:47.314594",
     "status": "completed"
    },
    "tags": []
   },
   "source": [
    "This was then plotted as a graph"
   ]
  },
  {
   "cell_type": "code",
   "execution_count": 36,
   "metadata": {
    "papermill": {
     "duration": 1.386559,
     "end_time": "2019-05-10T18:21:49.257413",
     "exception": false,
     "start_time": "2019-05-10T18:21:47.870854",
     "status": "completed"
    },
    "tags": []
   },
   "outputs": [
    {
     "data": {
      "image/png": "[encoded data removed]",
      "text/plain": [
       "<Figure size 720x576 with 1 Axes>"
      ]
     },
     "metadata": {
      "needs_background": "light"
     },
     "output_type": "display_data"
    }
   ],
   "source": [
    "plt.figure(figsize=(10,8)) \n",
    "class_s_p = class_s_p.reset_index()\n",
    "\n",
    "plt.rcParams.update({'font.size': 24})\n",
    "\n",
    "plt.plot(\"Weight Class\", \"stand_s_p\", data=class_s_p, marker=\"\", color=\"purple\", linewidth=3) \n",
    "plt.plot(\"Weight Class\", \"clinch_stk_p\", data=class_s_p, marker=\"\", color=\"red\", linewidth=3) \n",
    "plt.plot(\"Weight Class\", \"grnd_stk_p\", data=class_s_p, marker=\"\", color=\"blue\", linewidth=3)\n",
    "\n",
    "plt.title(\"Significant Strike by Position per Weight Class\", fontsize=24)\n",
    "\n",
    "plt.xlabel(\" \")\n",
    "plt.ylabel(\"Percent (decimal)\")\n",
    "\n",
    "L=plt.legend(prop={'size': 12})\n",
    "L.get_texts()[0].set_text('Standing Strikes')\n",
    "L.get_texts()[1].set_text('Clinch Strikes')\n",
    "L.get_texts()[2].set_text('Ground Strikes')\n",
    "\n",
    "plt.xticks(rotation=90)\n",
    "plt.grid()"
   ]
  },
  {
   "cell_type": "markdown",
   "metadata": {
    "papermill": {
     "duration": 0.218886,
     "end_time": "2019-05-10T18:21:49.719215",
     "exception": false,
     "start_time": "2019-05-10T18:21:49.500329",
     "status": "completed"
    },
    "tags": []
   },
   "source": [
    "As expected clinch strikes decreased with weight, with heavweight having the most and the number falling consistenly as the men get lighter. There is a lot of clinch strikes relatively in the women's weight classes. I think this is a direct result the womens divisions only being added recently and the womens side of the sport being in it's infancy. There is a lot less ground strikes in the women's divisions. "
   ]
  },
  {
   "cell_type": "markdown",
   "metadata": {
    "papermill": {
     "duration": 0.244984,
     "end_time": "2019-05-10T18:21:50.233099",
     "exception": false,
     "start_time": "2019-05-10T18:21:49.988115",
     "status": "completed"
    },
    "tags": []
   },
   "source": [
    "# Average Fight Time per Weight Class"
   ]
  },
  {
   "cell_type": "markdown",
   "metadata": {
    "papermill": {
     "duration": 0.243814,
     "end_time": "2019-05-10T18:21:50.742320",
     "exception": false,
     "start_time": "2019-05-10T18:21:50.498506",
     "status": "completed"
    },
    "tags": []
   },
   "source": [
    "Another aspect we wished to look at is the average fight time in each weight class.\n",
    "\n",
    "A new dataframe was created"
   ]
  },
  {
   "cell_type": "code",
   "execution_count": 37,
   "metadata": {
    "papermill": {
     "duration": 0.374085,
     "end_time": "2019-05-10T18:21:51.347498",
     "exception": false,
     "start_time": "2019-05-10T18:21:50.973413",
     "status": "completed"
    },
    "tags": []
   },
   "outputs": [
    {
     "data": {
      "text/html": [
       "<div>\n",
       "<style scoped>\n",
       "    .dataframe tbody tr th:only-of-type {\n",
       "        vertical-align: middle;\n",
       "    }\n",
       "\n",
       "    .dataframe tbody tr th {\n",
       "        vertical-align: top;\n",
       "    }\n",
       "\n",
       "    .dataframe thead th {\n",
       "        text-align: right;\n",
       "    }\n",
       "</style>\n",
       "<table border=\"1\" class=\"dataframe\">\n",
       "  <thead>\n",
       "    <tr style=\"text-align: right;\">\n",
       "      <th></th>\n",
       "      <th>Name</th>\n",
       "      <th>av_time</th>\n",
       "      <th>Weight Class</th>\n",
       "      <th>Weight Class Index</th>\n",
       "    </tr>\n",
       "  </thead>\n",
       "  <tbody>\n",
       "    <tr>\n",
       "      <th>0</th>\n",
       "      <td>Andrei Arlovski</td>\n",
       "      <td>08:41</td>\n",
       "      <td>Heavyweight</td>\n",
       "      <td>0</td>\n",
       "    </tr>\n",
       "    <tr>\n",
       "      <th>1</th>\n",
       "      <td>Andrei Arlovski</td>\n",
       "      <td>08:41</td>\n",
       "      <td>Heavyweight</td>\n",
       "      <td>0</td>\n",
       "    </tr>\n",
       "    <tr>\n",
       "      <th>2</th>\n",
       "      <td>Alistair Overeem</td>\n",
       "      <td>07:58</td>\n",
       "      <td>Heavyweight</td>\n",
       "      <td>0</td>\n",
       "    </tr>\n",
       "    <tr>\n",
       "      <th>3</th>\n",
       "      <td>Cain Velasquez</td>\n",
       "      <td>07:24</td>\n",
       "      <td>Heavyweight</td>\n",
       "      <td>0</td>\n",
       "    </tr>\n",
       "    <tr>\n",
       "      <th>4</th>\n",
       "      <td>Cain Velasquez</td>\n",
       "      <td>07:24</td>\n",
       "      <td>Heavyweight</td>\n",
       "      <td>0</td>\n",
       "    </tr>\n",
       "  </tbody>\n",
       "</table>\n",
       "</div>"
      ],
      "text/plain": [
       "               Name av_time Weight Class  Weight Class Index\n",
       "0   Andrei Arlovski   08:41  Heavyweight                   0\n",
       "1   Andrei Arlovski   08:41  Heavyweight                   0\n",
       "2  Alistair Overeem   07:58  Heavyweight                   0\n",
       "3    Cain Velasquez   07:24  Heavyweight                   0\n",
       "4    Cain Velasquez   07:24  Heavyweight                   0"
      ]
     },
     "execution_count": 37,
     "metadata": {},
     "output_type": "execute_result"
    }
   ],
   "source": [
    "av_time = main[[\"Name\",'av_time',\"Weight Class\",\"Weight Class Index\"]]\n",
    "av_time.head(5)"
   ]
  },
  {
   "cell_type": "markdown",
   "metadata": {
    "papermill": {
     "duration": 0.248531,
     "end_time": "2019-05-10T18:21:51.878375",
     "exception": false,
     "start_time": "2019-05-10T18:21:51.629844",
     "status": "completed"
    },
    "tags": []
   },
   "source": [
    "The times needed to be cleaned. The semi colons were replaced with dots and the type was changed to float."
   ]
  },
  {
   "cell_type": "code",
   "execution_count": 38,
   "metadata": {
    "papermill": {
     "duration": 0.285111,
     "end_time": "2019-05-10T18:21:52.413548",
     "exception": false,
     "start_time": "2019-05-10T18:21:52.128437",
     "status": "completed"
    },
    "tags": []
   },
   "outputs": [],
   "source": [
    "av_time = av_time.dropna()\n",
    "av_time['av_time'] = av_time['av_time'].str.replace(\":\", \".\")\n",
    "av_time['av_time'] = av_time['av_time'].astype(float)"
   ]
  },
  {
   "cell_type": "markdown",
   "metadata": {
    "papermill": {
     "duration": 0.234435,
     "end_time": "2019-05-10T18:21:52.920600",
     "exception": false,
     "start_time": "2019-05-10T18:21:52.686165",
     "status": "completed"
    },
    "tags": []
   },
   "source": [
    "The mean was found for each weight class"
   ]
  },
  {
   "cell_type": "code",
   "execution_count": 39,
   "metadata": {
    "papermill": {
     "duration": 0.325339,
     "end_time": "2019-05-10T18:21:53.488338",
     "exception": false,
     "start_time": "2019-05-10T18:21:53.162999",
     "status": "completed"
    },
    "tags": []
   },
   "outputs": [
    {
     "data": {
      "text/html": [
       "<div>\n",
       "<style scoped>\n",
       "    .dataframe tbody tr th:only-of-type {\n",
       "        vertical-align: middle;\n",
       "    }\n",
       "\n",
       "    .dataframe tbody tr th {\n",
       "        vertical-align: top;\n",
       "    }\n",
       "\n",
       "    .dataframe thead th {\n",
       "        text-align: right;\n",
       "    }\n",
       "</style>\n",
       "<table border=\"1\" class=\"dataframe\">\n",
       "  <thead>\n",
       "    <tr style=\"text-align: right;\">\n",
       "      <th></th>\n",
       "      <th></th>\n",
       "      <th>av_time</th>\n",
       "    </tr>\n",
       "    <tr>\n",
       "      <th>Weight Class</th>\n",
       "      <th>Weight Class Index</th>\n",
       "      <th></th>\n",
       "    </tr>\n",
       "  </thead>\n",
       "  <tbody>\n",
       "    <tr>\n",
       "      <th>Bantamweight</th>\n",
       "      <th>6</th>\n",
       "      <td>11.260896</td>\n",
       "    </tr>\n",
       "    <tr>\n",
       "      <th>Featherweight</th>\n",
       "      <th>5</th>\n",
       "      <td>11.672000</td>\n",
       "    </tr>\n",
       "  </tbody>\n",
       "</table>\n",
       "</div>"
      ],
      "text/plain": [
       "                                    av_time\n",
       "Weight Class  Weight Class Index           \n",
       "Bantamweight  6                   11.260896\n",
       "Featherweight 5                   11.672000"
      ]
     },
     "execution_count": 39,
     "metadata": {},
     "output_type": "execute_result"
    }
   ],
   "source": [
    "av_time.reset_index()\n",
    "av_time_gpby = av_time.groupby(['Weight Class','Weight Class Index'])[[\"av_time\"]].mean()\n",
    "av_time_gpby.head(2)"
   ]
  },
  {
   "cell_type": "markdown",
   "metadata": {
    "papermill": {
     "duration": 0.239964,
     "end_time": "2019-05-10T18:21:53.974164",
     "exception": false,
     "start_time": "2019-05-10T18:21:53.734200",
     "status": "completed"
    },
    "tags": []
   },
   "source": [
    "The datafrrame was ordered by weight class"
   ]
  },
  {
   "cell_type": "code",
   "execution_count": 40,
   "metadata": {
    "papermill": {
     "duration": 0.297829,
     "end_time": "2019-05-10T18:21:54.555990",
     "exception": false,
     "start_time": "2019-05-10T18:21:54.258161",
     "status": "completed"
    },
    "tags": []
   },
   "outputs": [
    {
     "data": {
      "text/html": [
       "<div>\n",
       "<style scoped>\n",
       "    .dataframe tbody tr th:only-of-type {\n",
       "        vertical-align: middle;\n",
       "    }\n",
       "\n",
       "    .dataframe tbody tr th {\n",
       "        vertical-align: top;\n",
       "    }\n",
       "\n",
       "    .dataframe thead th {\n",
       "        text-align: right;\n",
       "    }\n",
       "</style>\n",
       "<table border=\"1\" class=\"dataframe\">\n",
       "  <thead>\n",
       "    <tr style=\"text-align: right;\">\n",
       "      <th></th>\n",
       "      <th>Weight Class</th>\n",
       "      <th>Weight Class Index</th>\n",
       "      <th>av_time</th>\n",
       "    </tr>\n",
       "  </thead>\n",
       "  <tbody>\n",
       "    <tr>\n",
       "      <th>0</th>\n",
       "      <td>Heavyweight</td>\n",
       "      <td>0</td>\n",
       "      <td>9.784750</td>\n",
       "    </tr>\n",
       "    <tr>\n",
       "      <th>1</th>\n",
       "      <td>Light heavyweight</td>\n",
       "      <td>1</td>\n",
       "      <td>9.535000</td>\n",
       "    </tr>\n",
       "    <tr>\n",
       "      <th>2</th>\n",
       "      <td>Middleweight</td>\n",
       "      <td>2</td>\n",
       "      <td>9.908600</td>\n",
       "    </tr>\n",
       "    <tr>\n",
       "      <th>3</th>\n",
       "      <td>Welterweight</td>\n",
       "      <td>3</td>\n",
       "      <td>10.647595</td>\n",
       "    </tr>\n",
       "    <tr>\n",
       "      <th>4</th>\n",
       "      <td>Lightweight</td>\n",
       "      <td>4</td>\n",
       "      <td>10.303750</td>\n",
       "    </tr>\n",
       "  </tbody>\n",
       "</table>\n",
       "</div>"
      ],
      "text/plain": [
       "        Weight Class  Weight Class Index    av_time\n",
       "0        Heavyweight                   0   9.784750\n",
       "1  Light heavyweight                   1   9.535000\n",
       "2       Middleweight                   2   9.908600\n",
       "3       Welterweight                   3  10.647595\n",
       "4        Lightweight                   4  10.303750"
      ]
     },
     "execution_count": 40,
     "metadata": {},
     "output_type": "execute_result"
    }
   ],
   "source": [
    "av_time_gpby = av_time_gpby.sort_values(by =['Weight Class Index'] ,ascending = True)\n",
    "av_time_gpby = av_time_gpby.reset_index()\n",
    "av_time_gpby.head(5)"
   ]
  },
  {
   "cell_type": "markdown",
   "metadata": {
    "papermill": {
     "duration": 0.248785,
     "end_time": "2019-05-10T18:21:55.043448",
     "exception": false,
     "start_time": "2019-05-10T18:21:54.794663",
     "status": "completed"
    },
    "tags": []
   },
   "source": [
    "The names were shortened for the presentation"
   ]
  },
  {
   "cell_type": "code",
   "execution_count": 41,
   "metadata": {
    "papermill": {
     "duration": 0.298896,
     "end_time": "2019-05-10T18:21:55.609389",
     "exception": false,
     "start_time": "2019-05-10T18:21:55.310493",
     "status": "completed"
    },
    "tags": []
   },
   "outputs": [],
   "source": [
    "av_time_gpby['Weight Class'] = av_time_gpby['Weight Class'].replace(\" \",\"\")\n",
    "av_time_gpby['Weight Class'] = av_time_gpby['Weight Class'].map(lambda x: x.split('weight')[0].strip())"
   ]
  },
  {
   "cell_type": "markdown",
   "metadata": {
    "papermill": {
     "duration": 0.292551,
     "end_time": "2019-05-10T18:21:56.150725",
     "exception": false,
     "start_time": "2019-05-10T18:21:55.858174",
     "status": "completed"
    },
    "tags": []
   },
   "source": [
    "The graph was plotted."
   ]
  },
  {
   "cell_type": "code",
   "execution_count": 42,
   "metadata": {
    "papermill": {
     "duration": 1.203317,
     "end_time": "2019-05-10T18:21:57.608613",
     "exception": false,
     "start_time": "2019-05-10T18:21:56.405296",
     "status": "completed"
    },
    "tags": []
   },
   "outputs": [
    {
     "data": {
      "image/png": "[encoded data removed]",
      "text/plain": [
       "<Figure size 720x576 with 1 Axes>"
      ]
     },
     "metadata": {
      "needs_background": "light"
     },
     "output_type": "display_data"
    }
   ],
   "source": [
    "plt.figure(figsize=(10,8)) \n",
    "plt.plot(\"Weight Class\", \"av_time\", data=av_time_gpby, marker=\"\", color=\"purple\", linewidth=3) \n",
    "\n",
    "plt.rcParams.update({'font.size': 24})\n",
    "\n",
    "plt.xlabel(\"Weight Class\")\n",
    "plt.ylabel(\"Average fight Time\")\n",
    "\n",
    "plt.xticks(rotation=90)\n",
    "plt.grid()"
   ]
  },
  {
   "cell_type": "markdown",
   "metadata": {
    "papermill": {
     "duration": 0.249982,
     "end_time": "2019-05-10T18:21:58.100688",
     "exception": false,
     "start_time": "2019-05-10T18:21:57.850706",
     "status": "completed"
    },
    "tags": []
   },
   "source": [
    "Average fight time increases proportional to weight decreasing. Heavyweight is deemed as exciting because of the high number of finishes, but as other graphs we have made show, it can be slow and not very technical."
   ]
  }
 ],
 "metadata": {
  "kernelspec": {
   "display_name": "Python 3",
   "language": "python",
   "name": "python3"
  },
  "language_info": {
   "codemirror_mode": {
    "name": "ipython",
    "version": 3
   },
   "file_extension": ".py",
   "mimetype": "text/x-python",
   "name": "python",
   "nbconvert_exporter": "python",
   "pygments_lexer": "ipython3",
   "version": "3.7.1"
  },
  "papermill": {
   "duration": 55.157144,
   "end_time": "2019-05-10T18:21:59.341668",
   "environment_variables": {},
   "exception": null,
   "input_path": "C:\\Users\\Lorcan Rooney\\Desktop\\Project Baby\\3100_rq1.ipynb",
   "output_path": "C:\\Users\\Lorcan Rooney\\Desktop\\Project Baby\\3100_rq1.ipynb",
   "parameters": {},
   "start_time": "2019-05-10T18:21:04.184524",
   "version": "1.0.0"
  }
 },
 "nbformat": 4,
 "nbformat_minor": 2
}